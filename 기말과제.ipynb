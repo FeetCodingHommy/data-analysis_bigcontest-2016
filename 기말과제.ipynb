{
 "cells": [
  {
   "cell_type": "markdown",
   "metadata": {},
   "source": [
    "목차\n",
    "* 분석 준비\n",
    "  * [사용한 모듈](#사용한-모듈)\n",
    "  * [데이터 확인](#데이터-확인)\n",
    "* [1. 데이터 전처리 및 랜덤샘플](#데이터-전처리-및-랜덤샘플)\n",
    "  * [랜덤샘플](#랜덤샘플)\n",
    "  * [전처리](#전처리)\n",
    "    * [train, test 데이터 모두에게 적용](#train,-test-데이터-모두에게-적용)\n",
    "      * [고객 개인 데이터](#고객-개인-데이터(1))\n",
    "        * [성별, 나이 데이터](#성별,-나이-데이터)\n",
    "        * [직종 데이터](#직종-데이터)\n",
    "        * [FP(보험설계사) 데이터](#FP(보험설계사)-데이터)\n",
    "        * [기간 데이터](#기간-데이터)\n",
    "        * [보험료 데이터](#보험료-데이터)\n",
    "        * [소득 추정금액 데이터](#소득-추정금액-데이터)\n",
    "        * [신용등급 데이터](#신용등급-데이터)\n",
    "        * [유의 병원 여부 데이터](#유의-병원-여부-데이터)\n",
    "        * [기타 Y/N 데이터](#기타-Y.N-데이터)\n",
    "      * [개별 사건 데이터](#개별-사건-데이터(1))\n",
    "        * [텍스트 데이터](#텍스트-데이터)\n",
    "    * [분리](#분리)\n",
    "    * [train 데이터에 적용](#train-데이터에-적용)\n",
    "      * [고려하지 않을 변수 확인](#고려하지-않을-변수-확인)\n",
    "        * [고객 개인 데이터 확인](#고객-개인-데이터(2))\n",
    "        * [개별 사건 데이터 확인](#개별-사건-데이터(2))\n",
    "      * [고객 개인 데이터](#고객-개인-데이터(3))\n",
    "        * [TOTALPREM](#TOTALPREM)\n",
    "        * [MAX_PRM](#MAX_PRM)\n",
    "        * [CUST_INCM](#CUST_INCM)\n",
    "        * [RCBASE_HSHD_INCM](#RCBASE_HSHD_INCM)\n",
    "        * [DMND_AMT](#DMND_AMT)\n",
    "        * [상관계수 다시 확인](#상관계수-다시-확인)\n",
    "      * [개별 사건 데이터](#개별-사건-데이터(3))\n",
    "        * [텍스트 데이터](#텍스트-데이터)\n",
    "* [2. 학습 및 평가](#학습-및-평가)\n",
    "  * [학습](#학습)\n",
    "    * [데이터 정렬](#데이터-정렬)\n",
    "    * [모델 준비](#모델-준비)\n",
    "    * [모델 학습](#모델-학습)\n",
    "  * [평가](평가)"
   ]
  },
  {
   "cell_type": "code",
   "execution_count": 1,
   "metadata": {},
   "outputs": [],
   "source": [
    "RANDOM_STATE = 53"
   ]
  },
  {
   "cell_type": "markdown",
   "metadata": {},
   "source": [
    "###### 사용한 모듈"
   ]
  },
  {
   "cell_type": "code",
   "execution_count": 2,
   "metadata": {},
   "outputs": [
    {
     "name": "stdout",
     "output_type": "stream",
     "text": [
      "tensorflow version: 1.15.0\n"
     ]
    }
   ],
   "source": [
    "import numpy as np\n",
    "import pandas as pd\n",
    "import matplotlib.pyplot as plt\n",
    "import seaborn as sns\n",
    "import time\n",
    "import datetime\n",
    "\n",
    "#%pip install konlpy\n",
    "# import konlpy\n",
    "from konlpy.tag import Okt\n",
    "from konlpy.tag import Kkma\n",
    "from konlpy.tag import Komoran\n",
    "from konlpy.tag import Hannanum\n",
    "from sklearn.feature_extraction.text import TfidfVectorizer\n",
    "import re\n",
    "\n",
    "# 학습, 평가 데이터 준비\n",
    "import statsmodels.api as sm # 유의확률\n",
    "from statsmodels.stats.outliers_influence import variance_inflation_factor as vif # VIF\n",
    "from sklearn.model_selection import train_test_split\n",
    "#%pip install imblearn\n",
    "from imblearn.over_sampling import SMOTE\n",
    "\n",
    "# 사용한 딥러닝 모델\n",
    "# from sklearn.neural_network import MLPClassifier\n",
    "from tensorflow import __version__ as tf_ver\n",
    "print(f\"tensorflow version: {tf_ver}\")\n",
    "from tensorflow.keras.models import Model\n",
    "from tensorflow.keras.layers import Input, Dense, concatenate\n",
    "\n",
    "# 평가\n",
    "from sklearn.metrics import classification_report, confusion_matrix, f1_score"
   ]
  },
  {
   "cell_type": "markdown",
   "metadata": {},
   "source": [
    "###### 데이터 확인"
   ]
  },
  {
   "cell_type": "code",
   "execution_count": 3,
   "metadata": {},
   "outputs": [],
   "source": [
    "try:\n",
    "    temp_xls = pd.ExcelFile(\"./data/데이터 테이블 및 변수 정의서.xlsx\")\n",
    "    cust_details = pd.read_excel(temp_xls, \"CUST_DATA\")\n",
    "    claim_details = pd.read_excel(temp_xls, \"CLAIM_DATA\")\n",
    "except FileNotFoundError:\n",
    "    print(\"교수님 제 코드는 폴더에 데이터 테이블 및 변수 정의서가 있어야 합니다.\")\n",
    "\n",
    "def mycolfix(str_):\n",
    "    str_ = str_.strip()\n",
    "    if str_[-1] not in ('1', '2'):\n",
    "        return str_\n",
    "    else:\n",
    "        return str_[:-1] + '_' + str_[-1]  \n",
    "\n",
    "cust_details = cust_details.drop([\"No\", \"변수타입\", \"비고\"], axis=1)\n",
    "cust_details[\"변수영문명\"] = cust_details[\"변수영문명\"].apply(mycolfix)\n",
    "cust_details[\"변수명\"] = cust_details[\"변수명\"].apply(lambda str_: str_.strip())\n",
    "cust_details[\"변수 설명\"] = cust_details[\"변수 설명\"].apply(lambda str_: str_.strip())\n",
    "claim_details = claim_details.drop([\"No\", \"변수타입\", \"비고\"], axis=1)\n",
    "claim_details[\"변수영문명\"] = claim_details[\"변수영문명\"].apply(lambda str_: str_.strip())\n",
    "claim_details[\"변수명\"] = claim_details[\"변수명\"].apply(lambda str_: str_.strip())\n",
    "claim_details[\"변수 설명\"] = claim_details[\"변수 설명\"].apply(lambda str_: str_.strip())\n",
    "\n",
    "del mycolfix"
   ]
  },
  {
   "cell_type": "code",
   "execution_count": 4,
   "metadata": {},
   "outputs": [
    {
     "name": "stdout",
     "output_type": "stream",
     "text": [
      "전체 데이터 수: 22400\n",
      "학습/평가에 포함할 데이터 수: 20607\n"
     ]
    },
    {
     "data": {
      "text/html": [
       "<div>\n",
       "<style scoped>\n",
       "    .dataframe tbody tr th:only-of-type {\n",
       "        vertical-align: middle;\n",
       "    }\n",
       "\n",
       "    .dataframe tbody tr th {\n",
       "        vertical-align: top;\n",
       "    }\n",
       "\n",
       "    .dataframe thead th {\n",
       "        text-align: right;\n",
       "    }\n",
       "</style>\n",
       "<table border=\"1\" class=\"dataframe\">\n",
       "  <thead>\n",
       "    <tr style=\"text-align: right;\">\n",
       "      <th></th>\n",
       "      <th>CUST_ID</th>\n",
       "      <th>SIU_CUST_YN</th>\n",
       "      <th>SEX</th>\n",
       "      <th>AGE</th>\n",
       "      <th>RESI_COST</th>\n",
       "      <th>RESI_TYPE_CODE</th>\n",
       "      <th>FP_CAREER</th>\n",
       "      <th>CUST_RGST</th>\n",
       "      <th>CTPR</th>\n",
       "      <th>OCCP_GRP_1</th>\n",
       "      <th>...</th>\n",
       "      <th>WEDD_YN</th>\n",
       "      <th>MATE_OCCP_GRP_1</th>\n",
       "      <th>MATE_OCCP_GRP_2</th>\n",
       "      <th>CHLD_CNT</th>\n",
       "      <th>LTBN_CHLD_AGE</th>\n",
       "      <th>MAX_PAYM_YM</th>\n",
       "      <th>MAX_PRM</th>\n",
       "      <th>CUST_INCM</th>\n",
       "      <th>RCBASE_HSHD_INCM</th>\n",
       "      <th>JPBASE_HSHD_INCM</th>\n",
       "    </tr>\n",
       "  </thead>\n",
       "  <tbody>\n",
       "    <tr>\n",
       "      <th>0</th>\n",
       "      <td>1</td>\n",
       "      <td>N</td>\n",
       "      <td>2</td>\n",
       "      <td>47</td>\n",
       "      <td>21111</td>\n",
       "      <td>20.0</td>\n",
       "      <td>N</td>\n",
       "      <td>199910.0</td>\n",
       "      <td>충북</td>\n",
       "      <td>3.사무직</td>\n",
       "      <td>...</td>\n",
       "      <td>Y</td>\n",
       "      <td>3.사무직</td>\n",
       "      <td>2차산업 종사자</td>\n",
       "      <td>2.0</td>\n",
       "      <td>13.0</td>\n",
       "      <td>200811.0</td>\n",
       "      <td>319718.0</td>\n",
       "      <td>4879.0</td>\n",
       "      <td>10094</td>\n",
       "      <td>11337.0</td>\n",
       "    </tr>\n",
       "    <tr>\n",
       "      <th>1</th>\n",
       "      <td>2</td>\n",
       "      <td>N</td>\n",
       "      <td>1</td>\n",
       "      <td>53</td>\n",
       "      <td>40000</td>\n",
       "      <td>20.0</td>\n",
       "      <td>N</td>\n",
       "      <td>199910.0</td>\n",
       "      <td>서울</td>\n",
       "      <td>3.사무직</td>\n",
       "      <td>...</td>\n",
       "      <td>Y</td>\n",
       "      <td>1.주부</td>\n",
       "      <td>주부</td>\n",
       "      <td>2.0</td>\n",
       "      <td>17.0</td>\n",
       "      <td>200012.0</td>\n",
       "      <td>341341.0</td>\n",
       "      <td>6509.0</td>\n",
       "      <td>9143</td>\n",
       "      <td>6509.0</td>\n",
       "    </tr>\n",
       "    <tr>\n",
       "      <th>2</th>\n",
       "      <td>3</td>\n",
       "      <td>N</td>\n",
       "      <td>1</td>\n",
       "      <td>60</td>\n",
       "      <td>0</td>\n",
       "      <td>NaN</td>\n",
       "      <td>N</td>\n",
       "      <td>199910.0</td>\n",
       "      <td>서울</td>\n",
       "      <td>5.서비스</td>\n",
       "      <td>...</td>\n",
       "      <td>N</td>\n",
       "      <td>NaN</td>\n",
       "      <td>NaN</td>\n",
       "      <td>0.0</td>\n",
       "      <td>0.0</td>\n",
       "      <td>200305.0</td>\n",
       "      <td>131300.0</td>\n",
       "      <td>4180.0</td>\n",
       "      <td>0</td>\n",
       "      <td>4180.0</td>\n",
       "    </tr>\n",
       "    <tr>\n",
       "      <th>3</th>\n",
       "      <td>4</td>\n",
       "      <td>N</td>\n",
       "      <td>2</td>\n",
       "      <td>64</td>\n",
       "      <td>12861</td>\n",
       "      <td>40.0</td>\n",
       "      <td>Y</td>\n",
       "      <td>199910.0</td>\n",
       "      <td>경기</td>\n",
       "      <td>2.자영업</td>\n",
       "      <td>...</td>\n",
       "      <td>N</td>\n",
       "      <td>NaN</td>\n",
       "      <td>NaN</td>\n",
       "      <td>0.0</td>\n",
       "      <td>0.0</td>\n",
       "      <td>201009.0</td>\n",
       "      <td>1493184.0</td>\n",
       "      <td>NaN</td>\n",
       "      <td>4270</td>\n",
       "      <td>5914.0</td>\n",
       "    </tr>\n",
       "    <tr>\n",
       "      <th>4</th>\n",
       "      <td>5</td>\n",
       "      <td>N</td>\n",
       "      <td>2</td>\n",
       "      <td>54</td>\n",
       "      <td>0</td>\n",
       "      <td>NaN</td>\n",
       "      <td>Y</td>\n",
       "      <td>199910.0</td>\n",
       "      <td>광주</td>\n",
       "      <td>2.자영업</td>\n",
       "      <td>...</td>\n",
       "      <td>Y</td>\n",
       "      <td>3.사무직</td>\n",
       "      <td>고위 공무원</td>\n",
       "      <td>3.0</td>\n",
       "      <td>19.0</td>\n",
       "      <td>200807.0</td>\n",
       "      <td>166760.0</td>\n",
       "      <td>3894.0</td>\n",
       "      <td>0</td>\n",
       "      <td>8885.0</td>\n",
       "    </tr>\n",
       "  </tbody>\n",
       "</table>\n",
       "<p>5 rows × 24 columns</p>\n",
       "</div>"
      ],
      "text/plain": [
       "   CUST_ID SIU_CUST_YN  SEX  AGE  RESI_COST  RESI_TYPE_CODE FP_CAREER  \\\n",
       "0        1           N    2   47      21111            20.0         N   \n",
       "1        2           N    1   53      40000            20.0         N   \n",
       "2        3           N    1   60          0             NaN         N   \n",
       "3        4           N    2   64      12861            40.0         Y   \n",
       "4        5           N    2   54          0             NaN         Y   \n",
       "\n",
       "   CUST_RGST CTPR OCCP_GRP_1  ... WEDD_YN  MATE_OCCP_GRP_1  MATE_OCCP_GRP_2  \\\n",
       "0   199910.0   충북      3.사무직  ...       Y            3.사무직         2차산업 종사자   \n",
       "1   199910.0   서울      3.사무직  ...       Y             1.주부               주부   \n",
       "2   199910.0   서울      5.서비스  ...       N              NaN              NaN   \n",
       "3   199910.0   경기      2.자영업  ...       N              NaN              NaN   \n",
       "4   199910.0   광주      2.자영업  ...       Y            3.사무직           고위 공무원   \n",
       "\n",
       "   CHLD_CNT LTBN_CHLD_AGE MAX_PAYM_YM    MAX_PRM  CUST_INCM  RCBASE_HSHD_INCM  \\\n",
       "0       2.0          13.0    200811.0   319718.0     4879.0             10094   \n",
       "1       2.0          17.0    200012.0   341341.0     6509.0              9143   \n",
       "2       0.0           0.0    200305.0   131300.0     4180.0                 0   \n",
       "3       0.0           0.0    201009.0  1493184.0        NaN              4270   \n",
       "4       3.0          19.0    200807.0   166760.0     3894.0                 0   \n",
       "\n",
       "   JPBASE_HSHD_INCM  \n",
       "0           11337.0  \n",
       "1            6509.0  \n",
       "2            4180.0  \n",
       "3            5914.0  \n",
       "4            8885.0  \n",
       "\n",
       "[5 rows x 24 columns]"
      ]
     },
     "execution_count": 4,
     "metadata": {},
     "output_type": "execute_result"
    }
   ],
   "source": [
    "# 보험회사의 CUSTOMER 데이터\n",
    "cust_data = pd.read_csv(\"./data/CUST_DATA.csv\", encoding=\"utf-16\")\n",
    "\n",
    "# DIVIDED_SET열이 1인 데이터들만 학습과 테스트에 사용\n",
    "print(f\"전체 데이터 수: {len(cust_data)}\")\n",
    "print(f\"학습/평가에 포함할 데이터 수: {len(cust_data) - (cust_data.DIVIDED_SET != 1).sum()}\")\n",
    "cust_data = cust_data[cust_data.DIVIDED_SET == 1].drop(\"DIVIDED_SET\", axis=1)\n",
    "cust_data.head()"
   ]
  },
  {
   "cell_type": "code",
   "execution_count": 5,
   "metadata": {
    "scrolled": true
   },
   "outputs": [
    {
     "name": "stdout",
     "output_type": "stream",
     "text": [
      "CUST_ID:\t(int64) 고객ID - 고객을 구분하는 고유번호\n",
      "\n",
      "\t[2047 ... 2047]\n",
      "\t\t- 20607가지 값 (20607개 행 중 결측치 0개 행)\n",
      "\n",
      "\n",
      "SIU_CUST_YN:\t(object) 보험사기자여부 - Y의 경우 '보험사기자' / N의 경우 '일반고객' /평가용 Set에는 미부여\n",
      "\n",
      "\t['N' 'Y']\n",
      "\t\t- 2가지 값 (20607개 행 중 결측치 0개 행)\n",
      "\n",
      "\n",
      "SEX:\t(int64) 성별 - 성별 1은 '남성' 2는 '여성'\n",
      "\n",
      "\t[2 1]\n",
      "\t\t- 2가지 값 (20607개 행 중 결측치 0개 행)\n",
      "\n",
      "\n",
      "AGE:\t(int64) 연령 - 고객연령\n",
      "\n",
      "\t[56 ... 86]\n",
      "\t\t- 88가지 값 (20607개 행 중 결측치 0개 행)\n",
      "\n",
      "\n",
      "RESI_COST:\t(int64) 주택가격 - 고객의 거주지 주택가격 추정값 (단위 : 만원) (0 : 추정불가)\n",
      "\n",
      "\t[0 ... 15778]\n",
      "\t\t- 6285가지 값 (20607개 행 중 결측치 0개 행)\n",
      "\n",
      "\n",
      "RESI_TYPE_CODE:\t(float64) 거주TYPE - 고객의 거주지 형태\n",
      " - 일반단독주택(11), 다가구단독주택(12), 영업겸용단독주택(13), 아파트(20),연립_다가구주택(30)\n",
      "   상가등 비거주용건물(40),오피스텔(50),숙박업소의 객실 또는 판자집 등(60),기숙사(70),그외(99)\n",
      "\n",
      "\t[20. nan 40. 99. 30. 50. 12. 11. 13. 60. 70.]\n",
      "\t\t- 10가지 값 (20607개 행 중 결측치 1146개 행)\n",
      "\n",
      "\n",
      "FP_CAREER:\t(object) FP경력 - (당사 FP로써의) Y : 경력있음 // N : 경력 없음\n",
      "\n",
      "\t['N' 'Y']\n",
      "\t\t- 2가지 값 (20607개 행 중 결측치 0개 행)\n",
      "\n",
      "\n",
      "CUST_RGST:\t(float64) 고객등록년월 - 최초 당사의 고객으로써의 등록연월\n",
      "\n",
      "\t[200306.0 ... 198603.0]\n",
      "\t\t- 363가지 값 (20607개 행 중 결측치 419개 행)\n",
      "\n",
      "\n",
      "CTPR:\t(object) 시도구분 - 고객의 거주 시/도\n",
      "\n",
      "\t['충북' '서울' '경기' '광주' '충남' '전북' '대구' '경북' '부산' '인천' '울산' '경남' '전남' '대전'\n",
      " '강원' nan '제주' '세종']\n",
      "\t\t- 17가지 값 (20607개 행 중 결측치 575개 행)\n",
      "\n",
      "\n",
      "OCCP_GRP_1:\t(object) 직업그룹코드1 - 총 8개직업군으로 분류한 코드\n",
      "\n",
      "\t['3.사무직' '5.서비스' '2.자영업' '4.전문직' '6.제조업' '1.주부' '8.기타' '7.1차산업' nan]\n",
      "\t\t- 8가지 값 (20607개 행 중 결측치 547개 행)\n",
      "\n",
      "\n",
      "OCCP_GRP_2:\t(object) 직업그룹코드2 - 총 25개직업군으로 분류한 코드\n",
      "\n",
      "\t['사무직' '2차산업 종사자' '3차산업 종사자' '고위 공무원' '자영업' '공무원' '대학교수/강사' '운전직' '주부'\n",
      " '단순 노무직' '1차산업 종사자' '기타' '교육관련직' nan '교사' '전문직' '의료직 종사자' '단순 사무직' '학생'\n",
      " '기업/단체 임원' '고소득 전문직' '예체능계 종사자' '학자/연구직' '고소득의료직' '종교인/역술인' '법무직 종사자']\n",
      "\t\t- 25가지 값 (20607개 행 중 결측치 547개 행)\n",
      "\n",
      "\n",
      "TOTALPREM:\t(float64) 납입총보험료 - 고객이 지금까지 당사에 실제 납입한 총 보험료의 합계\n",
      "\n",
      "\t[6000000.0 ... 162138502.0]\n",
      "\t\t- 15192가지 값 (20607개 행 중 결측치 5321개 행)\n",
      "\n",
      "\n",
      "MINCRDT:\t(float64) 신용등급(최소) - 신용등급 확인 중 최소값 (미확인의 경우 6등급에 포함)\n",
      "\n",
      "\t[nan  1.  2.  8.  6. 10.  7.  3.  9.  4.  5.  0. 28. 99.]\n",
      "\t\t- 13가지 값 (20607개 행 중 결측치 8766개 행)\n",
      "\n",
      "\n",
      "MAXCRDT:\t(float64) 신용등급(최대) - 신용등급 확인 중 최대값 (미확인의 경우 6등급에 포함)\n",
      "\n",
      "\t[nan  6. 99.  8.  7.  9. 10.  2. 28.  3.  4.  0.  5.  1.]\n",
      "\t\t- 13가지 값 (20607개 행 중 결측치 8766개 행)\n",
      "\n",
      "\n",
      "WEDD_YN:\t(object) 결혼여부 - Y : 결혼함 / N : 결혼안함 (계약 당시에는 결혼하지 않았던 상태 포함)\n",
      "\n",
      "\t['Y' 'N' nan]\n",
      "\t\t- 2가지 값 (20607개 행 중 결측치 434개 행)\n",
      "\n",
      "\n",
      "MATE_OCCP_GRP_1:\t(object) 배우자직업그룹코드1 - 총 8개직업군으로 분류한 코드\n",
      "\n",
      "\t['3.사무직' '1.주부' nan '2.자영업' '4.전문직' '5.서비스' '8.기타' '6.제조업' '7.1차산업']\n",
      "\t\t- 8가지 값 (20607개 행 중 결측치 10885개 행)\n",
      "\n",
      "\n",
      "MATE_OCCP_GRP_2:\t(object) 배우자직업그룹코드2 - 총 25개직업군으로 분류한 코드\n",
      "\n",
      "\t['2차산업 종사자' '주부' nan '고위 공무원' '3차산업 종사자' '공무원' '교사' '예체능계 종사자' '사무직'\n",
      " '단순 사무직' '자영업' '운전직' '단순 노무직' '전문직' '1차산업 종사자' '기업/단체 임원' '기타' '종교인/역술인'\n",
      " '교육관련직' '의료직 종사자' '고소득의료직' '학생' '대학교수/강사' '학자/연구직' '고소득 전문직']\n",
      "\t\t- 24가지 값 (20607개 행 중 결측치 10885개 행)\n",
      "\n",
      "\n",
      "CHLD_CNT:\t(float64) 자녀수 - 고객의 자녀 수\n",
      "\n",
      "\t[ 2.  0.  3.  1.  4. nan  6.  5.]\n",
      "\t\t- 7가지 값 (20607개 행 중 결측치 434개 행)\n",
      "\n",
      "\n",
      "LTBN_CHLD_AGE:\t(float64) 막내자녀연령 - 고객의 막내자녀 연령\n",
      "\n",
      "\t[13. 17.  0. 19. 34. 26. 21. 23.  6. 29. 22. 35. 15. 28. 27.  8. 18. 33.\n",
      " 24. 12. 30. nan 32. 31. 20. 14.  7. 25. 11. 16. 10.  9.  5.  4.  3.  2.\n",
      "  1.]\n",
      "\t\t- 36가지 값 (20607개 행 중 결측치 434개 행)\n",
      "\n",
      "\n",
      "MAX_PAYM_YM:\t(float64) 최대보험료연월 - 당사에 최대규모의 보험료를 납입했던 연월\n",
      "\n",
      "\t[200305.0 ... 206312.0]\n",
      "\t\t- 240가지 값 (20607개 행 중 결측치 5966개 행)\n",
      "\n",
      "\n",
      "MAX_PRM:\t(float64) 최대보험료 - 당사에 최대규모의 보험료를 납입했던 월보험료 수준\n",
      "\n",
      "\t[100000.0 ... 729773.0]\n",
      "\t\t- 12703가지 값 (20607개 행 중 결측치 5966개 행)\n",
      "\n",
      "\n",
      "CUST_INCM:\t(float64) 고객추정소득 - 고객의 연령/직업/보험료 수준등을 통한 고객의 개인 소득 추정금액\n",
      "\n",
      "\t[0.0 ... 5015.0]\n",
      "\t\t- 3524가지 값 (20607개 행 중 결측치 4823개 행)\n",
      "\n",
      "\n",
      "RCBASE_HSHD_INCM:\t(int64) 추정가구소득1 - 고객의 주택가격을 우선하여 정한 가구소득 추정금액\n",
      "\n",
      "\t[0 ... 1683]\n",
      "\t\t- 7424가지 값 (20607개 행 중 결측치 0개 행)\n",
      "\n",
      "\n",
      "JPBASE_HSHD_INCM:\t(float64) 추정가구소득2 - 고객의 직업 및 납입보험료 수준을 우선하여 정한 가구소득 추정금액\n",
      "\n",
      "\t[0.0 ... 9717.0]\n",
      "\t\t- 7527가지 값 (20607개 행 중 결측치 616개 행)\n",
      "\n",
      "\n"
     ]
    }
   ],
   "source": [
    "temp = cust_data.dtypes\n",
    "for col in cust_data.columns:\n",
    "    if cust_data[col].nunique() <= 50:\n",
    "        print(f\"{col}:\\t({temp[col]})\"\n",
    "              + f\" {cust_details[cust_details['변수영문명'] == col]['변수명'].values[0]}\"\n",
    "              + f\" - {cust_details[cust_details['변수영문명'] == col]['변수 설명'].values[0]}\\n\\n\"\n",
    "              + f\"\\t{cust_data[col].unique()}\\n\"\n",
    "              + f\"\\t\\t- {cust_data[col].nunique()}가지 값\"\n",
    "              + f\" ({len(cust_data)}개 행 중 결측치 {cust_data[col].isna().sum()}개 행)\\n\\n\")\n",
    "    else:\n",
    "        print(f\"{col}:\\t({temp[col]})\"\n",
    "              + f\" {cust_details[cust_details['변수영문명'] == col]['변수명'].values[0]}\"\n",
    "              + f\" - {cust_details[cust_details['변수영문명'] == col]['변수 설명'].values[0]}\\n\\n\"\n",
    "              + f\"\\t[{cust_data[col].value_counts().idxmax()}\"\n",
    "              + \" ... \"\n",
    "              + f\"{cust_data[col].value_counts().idxmin()}]\\n\"\n",
    "              + f\"\\t\\t- {cust_data[col].nunique()}가지 값\"\n",
    "              + f\" ({len(cust_data)}개 행 중 결측치 {cust_data[col].isna().sum()}개 행)\\n\\n\")\n",
    "del temp"
   ]
  },
  {
   "cell_type": "code",
   "execution_count": 6,
   "metadata": {},
   "outputs": [
    {
     "name": "stdout",
     "output_type": "stream",
     "text": [
      "전체 데이터 수: 119020\n"
     ]
    },
    {
     "data": {
      "text/html": [
       "<div>\n",
       "<style scoped>\n",
       "    .dataframe tbody tr th:only-of-type {\n",
       "        vertical-align: middle;\n",
       "    }\n",
       "\n",
       "    .dataframe tbody tr th {\n",
       "        vertical-align: top;\n",
       "    }\n",
       "\n",
       "    .dataframe thead th {\n",
       "        text-align: right;\n",
       "    }\n",
       "</style>\n",
       "<table border=\"1\" class=\"dataframe\">\n",
       "  <thead>\n",
       "    <tr style=\"text-align: right;\">\n",
       "      <th></th>\n",
       "      <th>CUST_ID</th>\n",
       "      <th>POLY_NO</th>\n",
       "      <th>ACCI_OCCP_GRP1</th>\n",
       "      <th>ACCI_OCCP_GRP2</th>\n",
       "      <th>CHANG_FP_YN</th>\n",
       "      <th>CNTT_RECP_SQNO</th>\n",
       "      <th>RECP_DATE</th>\n",
       "      <th>ORIG_RESN_DATE</th>\n",
       "      <th>RESN_DATE</th>\n",
       "      <th>CRNT_PROG_DVSN</th>\n",
       "      <th>...</th>\n",
       "      <th>PMMI_DLNG_YN</th>\n",
       "      <th>SELF_CHAM</th>\n",
       "      <th>NON_PAY</th>\n",
       "      <th>TAMT_SFCA</th>\n",
       "      <th>PATT_CHRG_TOTA</th>\n",
       "      <th>DSCT_AMT</th>\n",
       "      <th>COUNT_TRMT_ITEM</th>\n",
       "      <th>DCAF_CMPS_XCPA</th>\n",
       "      <th>NON_PAY_RATIO</th>\n",
       "      <th>HEED_HOSP_YN</th>\n",
       "    </tr>\n",
       "  </thead>\n",
       "  <tbody>\n",
       "    <tr>\n",
       "      <th>0</th>\n",
       "      <td>5936</td>\n",
       "      <td>1365</td>\n",
       "      <td>8.기타</td>\n",
       "      <td>학생</td>\n",
       "      <td>Y</td>\n",
       "      <td>2006011200001</td>\n",
       "      <td>20060112</td>\n",
       "      <td>20060109</td>\n",
       "      <td>20060109</td>\n",
       "      <td>11</td>\n",
       "      <td>...</td>\n",
       "      <td>N</td>\n",
       "      <td>NaN</td>\n",
       "      <td>NaN</td>\n",
       "      <td>NaN</td>\n",
       "      <td>NaN</td>\n",
       "      <td>NaN</td>\n",
       "      <td>NaN</td>\n",
       "      <td>NaN</td>\n",
       "      <td>0.0</td>\n",
       "      <td>N</td>\n",
       "    </tr>\n",
       "    <tr>\n",
       "      <th>1</th>\n",
       "      <td>5936</td>\n",
       "      <td>6151</td>\n",
       "      <td>8.기타</td>\n",
       "      <td>학생</td>\n",
       "      <td>Y</td>\n",
       "      <td>2006011200002</td>\n",
       "      <td>20060112</td>\n",
       "      <td>20060109</td>\n",
       "      <td>20060109</td>\n",
       "      <td>11</td>\n",
       "      <td>...</td>\n",
       "      <td>N</td>\n",
       "      <td>NaN</td>\n",
       "      <td>NaN</td>\n",
       "      <td>NaN</td>\n",
       "      <td>NaN</td>\n",
       "      <td>NaN</td>\n",
       "      <td>NaN</td>\n",
       "      <td>NaN</td>\n",
       "      <td>0.0</td>\n",
       "      <td>N</td>\n",
       "    </tr>\n",
       "    <tr>\n",
       "      <th>2</th>\n",
       "      <td>5936</td>\n",
       "      <td>10364</td>\n",
       "      <td>8.기타</td>\n",
       "      <td>학생</td>\n",
       "      <td>Y</td>\n",
       "      <td>2006011200003</td>\n",
       "      <td>20060112</td>\n",
       "      <td>20060109</td>\n",
       "      <td>20060109</td>\n",
       "      <td>11</td>\n",
       "      <td>...</td>\n",
       "      <td>N</td>\n",
       "      <td>NaN</td>\n",
       "      <td>NaN</td>\n",
       "      <td>NaN</td>\n",
       "      <td>NaN</td>\n",
       "      <td>NaN</td>\n",
       "      <td>NaN</td>\n",
       "      <td>NaN</td>\n",
       "      <td>0.0</td>\n",
       "      <td>N</td>\n",
       "    </tr>\n",
       "    <tr>\n",
       "      <th>3</th>\n",
       "      <td>1043</td>\n",
       "      <td>1247</td>\n",
       "      <td>1.주부</td>\n",
       "      <td>주부</td>\n",
       "      <td>N</td>\n",
       "      <td>2006011200004</td>\n",
       "      <td>20060112</td>\n",
       "      <td>20060105</td>\n",
       "      <td>20060105</td>\n",
       "      <td>23</td>\n",
       "      <td>...</td>\n",
       "      <td>N</td>\n",
       "      <td>NaN</td>\n",
       "      <td>NaN</td>\n",
       "      <td>NaN</td>\n",
       "      <td>NaN</td>\n",
       "      <td>NaN</td>\n",
       "      <td>NaN</td>\n",
       "      <td>NaN</td>\n",
       "      <td>0.0</td>\n",
       "      <td>N</td>\n",
       "    </tr>\n",
       "    <tr>\n",
       "      <th>4</th>\n",
       "      <td>8545</td>\n",
       "      <td>11236</td>\n",
       "      <td>1.주부</td>\n",
       "      <td>주부</td>\n",
       "      <td>Y</td>\n",
       "      <td>2006011200005</td>\n",
       "      <td>20060112</td>\n",
       "      <td>20060110</td>\n",
       "      <td>20060110</td>\n",
       "      <td>11</td>\n",
       "      <td>...</td>\n",
       "      <td>N</td>\n",
       "      <td>NaN</td>\n",
       "      <td>NaN</td>\n",
       "      <td>NaN</td>\n",
       "      <td>NaN</td>\n",
       "      <td>NaN</td>\n",
       "      <td>NaN</td>\n",
       "      <td>NaN</td>\n",
       "      <td>0.0</td>\n",
       "      <td>N</td>\n",
       "    </tr>\n",
       "  </tbody>\n",
       "</table>\n",
       "<p>5 rows × 39 columns</p>\n",
       "</div>"
      ],
      "text/plain": [
       "   CUST_ID  POLY_NO ACCI_OCCP_GRP1 ACCI_OCCP_GRP2 CHANG_FP_YN  CNTT_RECP_SQNO  \\\n",
       "0     5936     1365           8.기타             학생           Y   2006011200001   \n",
       "1     5936     6151           8.기타             학생           Y   2006011200002   \n",
       "2     5936    10364           8.기타             학생           Y   2006011200003   \n",
       "3     1043     1247           1.주부             주부           N   2006011200004   \n",
       "4     8545    11236           1.주부             주부           Y   2006011200005   \n",
       "\n",
       "   RECP_DATE  ORIG_RESN_DATE  RESN_DATE  CRNT_PROG_DVSN  ...  PMMI_DLNG_YN  \\\n",
       "0   20060112        20060109   20060109              11  ...             N   \n",
       "1   20060112        20060109   20060109              11  ...             N   \n",
       "2   20060112        20060109   20060109              11  ...             N   \n",
       "3   20060112        20060105   20060105              23  ...             N   \n",
       "4   20060112        20060110   20060110              11  ...             N   \n",
       "\n",
       "  SELF_CHAM NON_PAY TAMT_SFCA  PATT_CHRG_TOTA  DSCT_AMT  COUNT_TRMT_ITEM  \\\n",
       "0       NaN     NaN       NaN             NaN       NaN              NaN   \n",
       "1       NaN     NaN       NaN             NaN       NaN              NaN   \n",
       "2       NaN     NaN       NaN             NaN       NaN              NaN   \n",
       "3       NaN     NaN       NaN             NaN       NaN              NaN   \n",
       "4       NaN     NaN       NaN             NaN       NaN              NaN   \n",
       "\n",
       "   DCAF_CMPS_XCPA NON_PAY_RATIO HEED_HOSP_YN  \n",
       "0             NaN           0.0            N  \n",
       "1             NaN           0.0            N  \n",
       "2             NaN           0.0            N  \n",
       "3             NaN           0.0            N  \n",
       "4             NaN           0.0            N  \n",
       "\n",
       "[5 rows x 39 columns]"
      ]
     },
     "execution_count": 6,
     "metadata": {},
     "output_type": "execute_result"
    }
   ],
   "source": [
    "# 고객들 CLAIM한 보험금 지급 속성 데이터\n",
    "claim_data = pd.read_csv(\"./data/CLAIM_DATA.csv\", encoding=\"utf-16\")\n",
    "\n",
    "print(f\"전체 데이터 수: {len(claim_data)}\")\n",
    "claim_data.head()"
   ]
  },
  {
   "cell_type": "code",
   "execution_count": 7,
   "metadata": {},
   "outputs": [
    {
     "name": "stdout",
     "output_type": "stream",
     "text": [
      "CUST_ID:\t(int64) 고객ID - 고객을 구분하는 고유번호\n",
      "\n",
      "\t[15109 ... 4193]\n",
      "\t\t- 22400가지 값 (119020개 행 중 결측치 0개 행)\n",
      "\n",
      "\n",
      "POLY_NO:\t(int64) 증권번호 - 청약서번호이면서 동시에 계약성립후에는 증권번호로 사용\n",
      "\n",
      "\t[15009 ... 9333]\n",
      "\t\t- 28031가지 값 (119020개 행 중 결측치 0개 행)\n",
      "\n",
      "\n",
      "ACCI_OCCP_GRP1:\t(object) 직업그룹코드1 - 총 8개직업군으로 분류한 코드(사고 당시)\n",
      "\n",
      "\t['8.기타' '1.주부' '2.자영업' '5.서비스' '3.사무직' '6.제조업' '4.전문직' '7.1차산업' nan]\n",
      "\t\t- 8가지 값 (119020개 행 중 결측치 1417개 행)\n",
      "\n",
      "\n",
      "ACCI_OCCP_GRP2:\t(object) 직업그룹코드2 - 총 25개직업군으로 분류한 코드(사고 당시)\n",
      "\n",
      "\t['학생' '주부' '자영업' '2차산업 종사자' '3차산업 종사자' '사무직' '전문직' '예체능계 종사자' '의료직 종사자'\n",
      " '운전직' '기타' '1차산업 종사자' '기업/단체 임원' '교사' '단순 사무직' '공무원' '고위 공무원' '교육관련직' nan\n",
      " '종교인/역술인' '단순 노무직' '고소득의료직' '대학교수/강사' '학자/연구직' '고소득 전문직' '법무직 종사자']\n",
      "\t\t- 25가지 값 (119020개 행 중 결측치 1417개 행)\n",
      "\n",
      "\n",
      "CHANG_FP_YN:\t(object) FP 변경 여부 - 모집 FP와 청구 당시 수금 FP 와의 동일 여부\n",
      "\n",
      "\t['Y' 'N']\n",
      "\t\t- 2가지 값 (119020개 행 중 결측치 0개 행)\n",
      "\n",
      "\n",
      "CNTT_RECP_SQNO:\t(int64) 계약별접수일련번호 - 사고접수에 대해 해당 계약건별로 부여하는 번호\n",
      "\n",
      "\t[2010082400021 ... 2010082400021]\n",
      "\t\t- 119020가지 값 (119020개 행 중 결측치 0개 행)\n",
      "\n",
      "\n",
      "RECP_DATE:\t(int64) 사고접수일자 - 사고가 접수된 일자\n",
      "\n",
      "\t[20160519 ... 20060103]\n",
      "\t\t- 2610가지 값 (119020개 행 중 결측치 0개 행)\n",
      "\n",
      "\n",
      "ORIG_RESN_DATE:\t(int64) 원사유일자 - 사고접수시 해당 사고의 최초 사유발생일자\n",
      "\n",
      "\t[20091109 ... 20061007]\n",
      "\t\t- 4084가지 값 (119020개 행 중 결측치 0개 행)\n",
      "\n",
      "\n",
      "RESN_DATE:\t(int64) 사유일자 - 보험금 지급사유 발생일자\n",
      "\n",
      "\t[20130212 ... 20100213]\n",
      "\t\t- 3828가지 값 (119020개 행 중 결측치 0개 행)\n",
      "\n",
      "\n",
      "CRNT_PROG_DVSN:\t(int64) 현재진행구분 - 현재진행구분 상태 구분 \n",
      " - 접수(11), 심사배정(21), 심사(22), 심사결재(23), 조사(32), 조사결재(33)\n",
      "\n",
      "\t[11 23 33 32 22 21]\n",
      "\t\t- 6가지 값 (119020개 행 중 결측치 0개 행)\n",
      "\n",
      "\n",
      "ACCI_DVSN:\t(int64) 사고구분 - 사고원인을 구분함\n",
      " - 재해(1), 교통재해(2), 질병(3)\n",
      "\n",
      "\t[1 3 2]\n",
      "\t\t- 3가지 값 (119020개 행 중 결측치 0개 행)\n",
      "\n",
      "\n",
      "CAUS_CODE:\t(object) 원인코드 - 사고의 원인에 해당하는 사인코드\n",
      "\n",
      "\t[W01 ... R49]\n",
      "\t\t- 943가지 값 (119020개 행 중 결측치 0개 행)\n",
      "\n",
      "\n",
      "CAUS_CODE_DTAL:\t(object) 원인코드상세 - 사고의 원인에 해당하는 사인코드_상세정보\n",
      "\n",
      "\t[# ... 889]\n",
      "\t\t- 136가지 값 (119020개 행 중 결측치 0개 행)\n",
      "\n",
      "\n",
      "DSAS_NAME:\t(object) 병명 - 병명\n",
      "\n",
      "\t[제왕절개술 ... 좌측)수신증|당뇨병]\n",
      "\t\t- 63420가지 값 (119020개 행 중 결측치 0개 행)\n",
      "\n",
      "\n",
      "DMND_RESN_CODE:\t(int64) 청구사유코드 - 지급청구의 원인이 되는 사유코드  \n",
      " - 사망(01), 입원(02), 통원(03), 장해(04), 수술(05), 진단(06), 치료(07), 해지/무효(09)\n",
      "\n",
      "\t[3 2 5 6 4 1 7 9]\n",
      "\t\t- 8가지 값 (119020개 행 중 결측치 0개 행)\n",
      "\n",
      "\n",
      "DMND_RSCD_SQNO:\t(int64) 청구사유코드일련번호 - 동일 증번, 동일한 청구사유이지만 사유일자가 다른 경우 일련번호를 1씩 증가시킴.\n",
      "\n",
      "\t[ 2  1  3  4  5  6  7  8  9 10 11 21 22 23 24 25 26 27 28 29 30 31 32 33\n",
      " 34 35 36 37 38 39 40 12 14 15 13]\n",
      "\t\t- 35가지 값 (119020개 행 중 결측치 0개 행)\n",
      "\n",
      "\n",
      "HOSP_OTPA_STDT:\t(float64) 입원/통원시작일자 - 입원시작일, 통원은 통원시작일 (입원은 무조건 연속된일자만 관리됨)\n",
      "\n",
      "\t[20150105.0 ... 20060219.0]\n",
      "\t\t- 3823가지 값 (119020개 행 중 결측치 32571개 행)\n",
      "\n",
      "\n",
      "HOSP_OTPA_ENDT:\t(float64) 입원/통원종료일자 - 입원종료일, 통원은 통원종료일\n",
      "\n",
      "\t[20100920.0 ... 20060122.0]\n",
      "\t\t- 3798가지 값 (119020개 행 중 결측치 32571개 행)\n",
      "\n",
      "\n",
      "RESL_CD1:\t(object) 결과코드1 - 사고원인에 대한 결과코드\n",
      "\n",
      "\t[S13 ... B51]\n",
      "\t\t- 912가지 값 (119020개 행 중 결측치 0개 행)\n",
      "\n",
      "\n",
      "RESL_NM1:\t(object) 결과명1(사인내용) - 결과내용\n",
      "\n",
      "\t[목부위의 관절및인대의 탈구|염좌및긴장(경추) ... 기타 비뇨계통을 침습한 증상 및 징후]\n",
      "\t\t- 911가지 값 (119020개 행 중 결측치 0개 행)\n",
      "\n",
      "\n",
      "VLID_HOSP_OTDA:\t(int64) 유효입원/통원일수 - 보험금지급대상인 입원일수 또는 통원일수\n",
      "\n",
      "\t[0 ... 124]\n",
      "\t\t- 194가지 값 (119020개 행 중 결측치 0개 행)\n",
      "\n",
      "\n",
      "HOUSE_HOSP_DIST:\t(float64) 고객병원거리 - 고객 거주지와 병원까지의 거리(km)\n",
      "\n",
      "\t[0.57 ... 339.3]\n",
      "\t\t- 8467가지 값 (119020개 행 중 결측치 17048개 행)\n",
      "\n",
      "\n",
      "HOSP_CODE:\t(float64) 병원코드 - 병원코드\n",
      "\n",
      "\t[12537.0 ... 4862.0]\n",
      "\t\t- 12537가지 값 (119020개 행 중 결측치 9개 행)\n",
      "\n",
      "\n",
      "ACCI_HOSP_ADDR:\t(object) 병원지역(시도) - 병원지역\n",
      "\n",
      "\t[nan '경기' '인천' '부산' '전북' '충북' '서울' '경북' '대전' '광주' '전남' '울산' '대구' '경남' '충남'\n",
      " '강원' '제주' '세종']\n",
      "\t\t- 17가지 값 (119020개 행 중 결측치 10070개 행)\n",
      "\n",
      "\n",
      "HOSP_SPEC_DVSN:\t(float64) 병원종별구분 - 병원종별구분\n",
      " - 종합병원(10), 병원(20), 요양병원(25), 의원(30), 치과병원(40), 치과의원(45), 보건의료원(60), \n",
      "   약국(70), 한방병원(80), 한의원(85), 해외(90), 의료기관이외(95)\n",
      "\n",
      "\t[95. 30. 10. 20. 45. 40. 80. 85. 25. 90. 70. 60. nan]\n",
      "\t\t- 12가지 값 (119020개 행 중 결측치 9개 행)\n",
      "\n",
      "\n",
      "CHME_LICE_NO:\t(int64) 담당의사면허번호 - 의사면허번호\n",
      "\n",
      "\t[25697 ... 7814]\n",
      "\t\t- 25702가지 값 (119020개 행 중 결측치 0개 행)\n",
      "\n",
      "\n",
      "PAYM_DATE:\t(float64) 지급일자 - 보험금 지급일자\n",
      "\n",
      "\t[20151222.0 ... 20060103.0]\n",
      "\t\t- 2610가지 값 (119020개 행 중 결측치 13개 행)\n",
      "\n",
      "\n",
      "DMND_AMT:\t(int64) 청구금액 - 사고보험금청구금액\n",
      "\n",
      "\t[300000 ... 231908]\n",
      "\t\t- 19908가지 값 (119020개 행 중 결측치 0개 행)\n",
      "\n",
      "\n",
      "PAYM_AMT:\t(int64) 지급금액(지급테이블) - 실지급금액\n",
      "\n",
      "\t[300000 ... 59680]\n",
      "\t\t- 15040가지 값 (119020개 행 중 결측치 0개 행)\n",
      "\n",
      "\n",
      "PMMI_DLNG_YN:\t(object) 실손처리여부 - 실손처리여부\n",
      "\n",
      "\t['N' 'Y']\n",
      "\t\t- 2가지 값 (119020개 행 중 결측치 0개 행)\n",
      "\n",
      "\n",
      "SELF_CHAM:\t(float64) 본인부담금 - 국민건강보험 적용 금액 중 환자 부담 금액\n",
      "\n",
      "\t[0.0 ... 280640.0]\n",
      "\t\t- 10587가지 값 (119020개 행 중 결측치 100053개 행)\n",
      "\n",
      "\n",
      "NON_PAY:\t(float64) 비급여 - 국민건강보험 미적용 금액\n",
      "\n",
      "\t[0.0 ... 1912970.0]\n",
      "\t\t- 9472가지 값 (119020개 행 중 결측치 100053개 행)\n",
      "\n",
      "\n",
      "TAMT_SFCA:\t(float64) 전액본인부담금 - 국민건강보험 미적용 금액\n",
      "\n",
      "\t[0.0 ... 1645560.0]\n",
      "\t\t- 1803가지 값 (119020개 행 중 결측치 100053개 행)\n",
      "\n",
      "\n",
      "PATT_CHRG_TOTA:\t(float64) 환자부담총액 - 본인부담금 + 비급여 + 전액본인부담금\n",
      "\n",
      "\t[0.0 ... 173980.0]\n",
      "\t\t- 14403가지 값 (119020개 행 중 결측치 100053개 행)\n",
      "\n",
      "\n",
      "DSCT_AMT:\t(float64) 영수할인금액 - 병원에서 할인해주는 비용\n",
      "\n",
      "\t[0.0 ... 17700.0]\n",
      "\t\t- 1656가지 값 (119020개 행 중 결측치 100053개 행)\n",
      "\n",
      "\n",
      "COUNT_TRMT_ITEM:\t(float64) 진료과목개수 - 실손영수증 내 진료과목의 개수\n",
      "\n",
      "\t[nan  1.  2.  3.  4.  0.]\n",
      "\t\t- 5가지 값 (119020개 행 중 결측치 100053개 행)\n",
      "\n",
      "\n",
      "DCAF_CMPS_XCPA:\t(float64) * 데이터 테이블 및 변수 정의서에 없는 컬럼\n",
      "\n",
      "\t[10000.0 ... 16235.0]\n",
      "\t\t- 2830가지 값 (119020개 행 중 결측치 110963개 행)\n",
      "\n",
      "\n",
      "NON_PAY_RATIO:\t(float64) 실손비급여비율 - (비급여 + 전액본인부담금) / (환자부담총액) = (비급여 + 전액본인부담금) / (본인부담금 + 비급여 + 전액본인부담금)\n",
      "\n",
      "\t[0.0 ... 0.43813767424048344]\n",
      "\t\t- 14924가지 값 (119020개 행 중 결측치 0개 행)\n",
      "\n",
      "\n",
      "HEED_HOSP_YN:\t(object) 유의병원여부 - 금감원 유의 병원 대상 여부\n",
      "\n",
      "\t['N' 'Y']\n",
      "\t\t- 2가지 값 (119020개 행 중 결측치 0개 행)\n",
      "\n",
      "\n"
     ]
    }
   ],
   "source": [
    "temp = claim_data.dtypes\n",
    "for col in claim_data.columns:\n",
    "    try:\n",
    "        if claim_data[col].nunique() <= 50:\n",
    "            print(f\"{col}:\\t({temp[col]})\"\n",
    "                  + f\" {claim_details[claim_details['변수영문명'] == col]['변수명'].values[0]}\"\n",
    "                  + f\" - {claim_details[claim_details['변수영문명'] == col]['변수 설명'].values[0]}\\n\\n\"\n",
    "                  + f\"\\t{claim_data[col].unique()}\\n\"\n",
    "                  + f\"\\t\\t- {claim_data[col].nunique()}가지 값\"\n",
    "                  + f\" ({len(claim_data)}개 행 중 결측치 {claim_data[col].isna().sum()}개 행)\\n\\n\")\n",
    "        else:\n",
    "            print(f\"{col}:\\t({temp[col]})\"\n",
    "                  + f\" {claim_details[claim_details['변수영문명'] == col]['변수명'].values[0]}\"\n",
    "                  + f\" - {claim_details[claim_details['변수영문명'] == col]['변수 설명'].values[0]}\\n\\n\"\n",
    "                  + f\"\\t[{claim_data[col].value_counts().idxmax()}\"\n",
    "                  + \" ... \"\n",
    "                  + f\"{claim_data[col].value_counts().idxmin()}]\\n\"\n",
    "                  + f\"\\t\\t- {claim_data[col].nunique()}가지 값\"\n",
    "                  + f\" ({len(claim_data)}개 행 중 결측치 {claim_data[col].isna().sum()}개 행)\\n\\n\")\n",
    "    except IndexError:\n",
    "        print(f\"{col}:\\t({temp[col]})\"\n",
    "                  + \" * 데이터 테이블 및 변수 정의서에 없는 컬럼\\n\\n\"+ f\"\\t[{claim_data[col].value_counts().idxmax()}\"\n",
    "                  + \" ... \"\n",
    "                  + f\"{claim_data[col].value_counts().idxmin()}]\\n\"\n",
    "                  + f\"\\t\\t- {claim_data[col].nunique()}가지 값\"\n",
    "                  + f\" ({len(claim_data)}개 행 중 결측치 {claim_data[col].isna().sum()}개 행)\\n\\n\")\n",
    "        \n",
    "del temp"
   ]
  },
  {
   "cell_type": "code",
   "execution_count": 8,
   "metadata": {},
   "outputs": [],
   "source": [
    "del cust_details, claim_details"
   ]
  },
  {
   "cell_type": "markdown",
   "metadata": {},
   "source": [
    "# 데이터 전처리 및 랜덤샘플"
   ]
  },
  {
   "cell_type": "markdown",
   "metadata": {},
   "source": [
    "## 랜덤샘플"
   ]
  },
  {
   "cell_type": "code",
   "execution_count": 9,
   "metadata": {},
   "outputs": [
    {
     "name": "stdout",
     "output_type": "stream",
     "text": [
      "train data 내 보험사기자 비율:\t0.08763172490293955\n",
      "test data 내 보험사기자 비율:\t0.08765971211386059\n"
     ]
    }
   ],
   "source": [
    "# 'Y', 'N' -> 1, 0 변환\n",
    "my_yn_to_10 = lambda chr_: 1 if chr_ == 'Y' else 0\n",
    "\n",
    "cust_data[\"SIU_CUST_BOOL\"] = cust_data.SIU_CUST_YN.apply(my_yn_to_10).astype(\"int8\")\n",
    "cust_data = cust_data.drop([\"SIU_CUST_YN\"], axis=1)\n",
    "\n",
    "data_index = pd.concat([cust_data[\"CUST_ID\"], cust_data[\"SIU_CUST_BOOL\"]], axis=1)\n",
    "\n",
    "train_index, test_index = \\\n",
    "    train_test_split(data_index, test_size=0.3, random_state=RANDOM_STATE, stratify=data_index.SIU_CUST_BOOL)\n",
    "\n",
    "# class의 비율 비슷하게 split 됐는지 확인 \n",
    "print(\"train data 내 보험사기자 비율:\"\n",
    "      +f'\\t{len(train_index[train_index[\"SIU_CUST_BOOL\"] == 1]) / len(train_index)}')\n",
    "print(\"test data 내 보험사기자 비율:\"\n",
    "      +f'\\t{len(test_index[test_index[\"SIU_CUST_BOOL\"] == 1]) / len(test_index)}')\n",
    "\n",
    "del data_index"
   ]
  },
  {
   "cell_type": "markdown",
   "metadata": {},
   "source": [
    "## 전처리\n",
    "* 모든 데이터를 0~1 사이로 만들기로"
   ]
  },
  {
   "cell_type": "markdown",
   "metadata": {},
   "source": [
    "### train, test 데이터 모두에게 적용\n",
    " * 단, 전체 분포 확인 안하는 단계에서"
   ]
  },
  {
   "cell_type": "markdown",
   "metadata": {},
   "source": [
    "#### 고객 개인 데이터(1)"
   ]
  },
  {
   "cell_type": "markdown",
   "metadata": {},
   "source": [
    "###### 성별, 나이 데이터"
   ]
  },
  {
   "cell_type": "code",
   "execution_count": 10,
   "metadata": {},
   "outputs": [],
   "source": [
    "cust_data[\"SEX\"] = cust_data.SEX\\\n",
    "    .apply(lambda num_: 0 if num_ == 2 else num_).astype(\"int8\")\n",
    "cust_data[\"AGE_scaled\"] = cust_data.AGE\\\n",
    "    .apply(lambda num_: num_ / 100).astype(\"float16\") # 0~1로 정규화\n",
    "\n",
    "cust_data = cust_data.drop([\"AGE\"], axis=1)"
   ]
  },
  {
   "cell_type": "markdown",
   "metadata": {},
   "source": [
    "###### 직종 데이터"
   ]
  },
  {
   "cell_type": "code",
   "execution_count": 11,
   "metadata": {},
   "outputs": [
    {
     "name": "stdout",
     "output_type": "stream",
     "text": [
      "['1.주부 주부', '2.자영업 3차산업 종사자', '2.자영업 자영업', '3.사무직 1차산업 종사자', '3.사무직 2차산업 종사자', '3.사무직 3차산업 종사자', '3.사무직 고위 공무원', '3.사무직 공무원', '3.사무직 교육관련직', '3.사무직 기업/단체 임원', '3.사무직 단순 노무직', '3.사무직 단순 사무직', '3.사무직 사무직', '3.사무직 학생', '4.전문직 1차산업 종사자', '4.전문직 2차산업 종사자', '4.전문직 3차산업 종사자', '4.전문직 고소득 전문직', '4.전문직 고소득의료직', '4.전문직 공무원', '4.전문직 교사', '4.전문직 교육관련직', '4.전문직 대학교수/강사', '4.전문직 법무직 종사자', '4.전문직 사무직', '4.전문직 예체능계 종사자', '4.전문직 의료직 종사자', '4.전문직 전문직', '4.전문직 종교인/역술인', '4.전문직 학자/연구직', '5.서비스 1차산업 종사자', '5.서비스 2차산업 종사자', '5.서비스 3차산업 종사자', '5.서비스 교육관련직', '5.서비스 사무직', '5.서비스 예체능계 종사자', '5.서비스 운전직', '5.서비스 의료직 종사자', '5.서비스 자영업', '5.서비스 전문직', '5.서비스 종교인/역술인', '6.제조업 1차산업 종사자', '6.제조업 2차산업 종사자', '6.제조업 3차산업 종사자', '6.제조업 운전직', '6.제조업 전문직', '7.1차산업 1차산업 종사자', '8.기타 1차산업 종사자', '8.기타 2차산업 종사자', '8.기타 3차산업 종사자', '8.기타 공무원', '8.기타 기타', '8.기타 단순 노무직', '8.기타 운전직', '8.기타 자영업', '8.기타 주부', '8.기타 학생', '9.결측치 결측치'] 58\n"
     ]
    }
   ],
   "source": [
    "temp_job = cust_data[\"OCCP_GRP_1\"].fillna(\"9.결측치\") + ' ' + cust_data[\"OCCP_GRP_2\"].fillna(\"결측치\")\n",
    "job_list = list(temp_job.sort_values().unique())\n",
    "del temp_job\n",
    "print(job_list, len(job_list))"
   ]
  },
  {
   "cell_type": "code",
   "execution_count": 12,
   "metadata": {},
   "outputs": [],
   "source": [
    "my_job_dict = {\n",
    "    # 학생\n",
    "    '3.사무직 학생': 1, '8.기타 학생': 1, \n",
    "    # 주부\n",
    "    '1.주부 주부': 2, '8.기타 주부': 2, \n",
    "    # 자영업\n",
    "    '2.자영업 자영업': 3, '2.자영업 3차산업 종사자': 3, '5.서비스 자영업': 3, '8.기타 자영업': 3, \n",
    "    # 노무직 및 운전직\n",
    "    '3.사무직 단순 노무직': 4, '8.기타 단순 노무직': 4, \n",
    "    '5.서비스 운전직': 4, '6.제조업 운전직': 4, '8.기타 운전직': 4,\n",
    "    # 노무직 및 1, 2차 산업 종사자\n",
    "    '4.전문직 종교인/역술인': 5, '5.서비스 종교인/역술인': 5, \n",
    "    # 전문직\n",
    "    '4.전문직 1차산업 종사자': 6, '4.전문직 2차산업 종사자': 6, '4.전문직 3차산업 종사자': 6, \n",
    "    '4.전문직 교사': 6, '4.전문직 교육관련직': 6, '4.전문직 대학교수/강사': 6, \n",
    "    '4.전문직 사무직': 6, '4.전문직 예체능계 종사자': 6, '4.전문직 전문직': 6, \n",
    "    '4.전문직 학자/연구직': 6, \n",
    "    # 사무직\n",
    "    '3.사무직 1차산업 종사자': 7, '3.사무직 2차산업 종사자': 7, '3.사무직 3차산업 종사자': 7, \n",
    "    '3.사무직 교육관련직': 7, '3.사무직 단순 사무직': 7, '3.사무직 사무직': 7, \n",
    "    # 서비스\n",
    "    '5.서비스 1차산업 종사자': 8, '5.서비스 2차산업 종사자': 8, '5.서비스 3차산업 종사자': 8, \n",
    "    '5.서비스 교육관련직': 8, '5.서비스 사무직': 8, '5.서비스 예체능계 종사자': 8, \n",
    "    '5.서비스 의료직 종사자': 8, '5.서비스 전문직': 8, \n",
    "    # 제조업\n",
    "    '6.제조업 1차산업 종사자': 9, '6.제조업 2차산업 종사자': 9, '6.제조업 3차산업 종사자': 9, \n",
    "    '6.제조업 전문직': 9, \n",
    "    # 1차 산업 종사자\n",
    "    '7.1차산업 1차산업 종사자': 10, \n",
    "    # 공무직\n",
    "    '3.사무직 공무원': 11, '4.전문직 공무원': 11, '8.기타 공무원': 11, \n",
    "    # 고소득 특수직 - 법, 의료\n",
    "    '4.전문직 법무직 종사자': 12, '4.전문직 의료직 종사자': 12, \n",
    "    '4.전문직 고소득 전문직': 12, '4.전문직 고소득의료직': 12, \n",
    "    # 고위직\n",
    "    '3.사무직 고위 공무원': 13, '3.사무직 기업/단체 임원': 13, \n",
    "    # 기타 (버릴 예정)\n",
    "    '8.기타 1차산업 종사자': 0, '8.기타 2차산업 종사자': 0, '8.기타 3차산업 종사자': 0, \n",
    "    '8.기타 기타': 0, '9.결측치 결측치': 0\n",
    "}\n",
    "\n",
    "MY_JOB_LEN = 14"
   ]
  },
  {
   "cell_type": "code",
   "execution_count": 13,
   "metadata": {},
   "outputs": [],
   "source": [
    "temp_job = pd.concat([\n",
    "    cust_data[\"CUST_ID\"],\n",
    "    cust_data[\"OCCP_GRP_1\"], cust_data[\"OCCP_GRP_2\"],\n",
    "    cust_data[\"MATE_OCCP_GRP_1\"], cust_data[\"MATE_OCCP_GRP_2\"]\n",
    "], axis=1)"
   ]
  },
  {
   "cell_type": "code",
   "execution_count": 14,
   "metadata": {},
   "outputs": [],
   "source": [
    "# 고객 본인의 직업\n",
    "temp_job[\"OCCP_CUST\"] = \\\n",
    "    temp_job[\"OCCP_GRP_1\"].fillna(\"9.결측치\") + ' ' + temp_job[\"OCCP_GRP_2\"].fillna(\"결측치\")\n",
    "temp_job[\"OCCP_CUST_NUM\"] = temp_job[\"OCCP_CUST\"].apply(lambda str_: my_job_dict[str_])\n",
    "\n",
    "# 고객 배우자의 직업\n",
    "temp_job[\"OCCP_MATE\"] = \\\n",
    "    temp_job[\"MATE_OCCP_GRP_1\"].fillna(\"9.결측치\") + ' ' + temp_job[\"MATE_OCCP_GRP_2\"].fillna(\"결측치\")\n",
    "temp_job[\"OCCP_MATE_NUM\"] = temp_job[\"OCCP_MATE\"].apply(lambda str_: my_job_dict[str_])\n",
    "\n",
    "temp_job = temp_job.drop([\n",
    "    \"OCCP_GRP_1\", \"OCCP_GRP_2\",\n",
    "    \"MATE_OCCP_GRP_1\", \"MATE_OCCP_GRP_2\",\n",
    "    \"OCCP_CUST\", \"OCCP_MATE\"    \n",
    "], axis=1)"
   ]
  },
  {
   "cell_type": "code",
   "execution_count": 15,
   "metadata": {},
   "outputs": [],
   "source": [
    "temp_job2 = pd.concat([\n",
    "    claim_data[\"CUST_ID\"],\n",
    "    claim_data[\"ACCI_OCCP_GRP1\"], claim_data[\"ACCI_OCCP_GRP2\"]\n",
    "], axis=1)\n",
    "\n",
    "temp_job2 = temp_job2.drop_duplicates()"
   ]
  },
  {
   "cell_type": "code",
   "execution_count": 16,
   "metadata": {},
   "outputs": [],
   "source": [
    "# 고객 사고 당시의 직업\n",
    "temp_job2[\"OCCP_ACCI\"] = \\\n",
    "    temp_job2[\"ACCI_OCCP_GRP1\"].fillna(\"9.결측치\") + ' ' + temp_job2[\"ACCI_OCCP_GRP2\"].fillna(\"결측치\")\n",
    "temp_job2[\"OCCP_ACCI_NUM\"] = temp_job2[\"OCCP_ACCI\"].apply(lambda str_: my_job_dict[str_])\n",
    "\n",
    "temp_job2 = temp_job2.drop([\"OCCP_ACCI\", \"ACCI_OCCP_GRP1\", \"ACCI_OCCP_GRP2\"], axis=1)"
   ]
  },
  {
   "cell_type": "code",
   "execution_count": 17,
   "metadata": {},
   "outputs": [],
   "source": [
    "all_jobs = dict()\n",
    "\n",
    "for _, row in temp_job.iterrows():\n",
    "    if row.CUST_ID not in all_jobs:\n",
    "        all_jobs[row.CUST_ID] = set()\n",
    "        \n",
    "    if row.OCCP_CUST_NUM != 0:\n",
    "        all_jobs[row.CUST_ID].add(row.OCCP_CUST_NUM) # 고객 본인의 직업\n",
    "    if row.OCCP_MATE_NUM != 0:\n",
    "        all_jobs[row.CUST_ID].add(row.OCCP_MATE_NUM) # 고객 배우자의 직업\n",
    "\n",
    "for _, row in temp_job2.iterrows():\n",
    "    if row.CUST_ID not in all_jobs:\n",
    "        all_jobs[row.CUST_ID] = set()\n",
    "    \n",
    "    if row.OCCP_ACCI_NUM != 0:\n",
    "        all_jobs[row.CUST_ID].add(row.OCCP_ACCI_NUM) # 고객 사고 당시의 직업\n",
    "\n",
    "del temp_job, temp_job2"
   ]
  },
  {
   "cell_type": "code",
   "execution_count": 18,
   "metadata": {},
   "outputs": [],
   "source": [
    "def from_dict_to_multi_rows(id_, num_):\n",
    "    return 1 if num_ in all_jobs[id_] else 0\n",
    "\n",
    "for i in range(1, MY_JOB_LEN):\n",
    "    new_col = \"OCCP_RELEVENT_\" + str(i)\n",
    "    cust_data[new_col] = cust_data[\"CUST_ID\"].apply(from_dict_to_multi_rows, num_=i).astype(\"int8\")\n",
    "\n",
    "cust_data = cust_data.drop([\n",
    "    \"OCCP_GRP_1\", \"OCCP_GRP_2\", \n",
    "    \"MATE_OCCP_GRP_1\", \"MATE_OCCP_GRP_2\"\n",
    "], axis=1)\n",
    "del from_dict_to_multi_rows, all_jobs"
   ]
  },
  {
   "cell_type": "markdown",
   "metadata": {},
   "source": [
    "###### FP(보험설계사) 데이터"
   ]
  },
  {
   "cell_type": "code",
   "execution_count": 19,
   "metadata": {},
   "outputs": [],
   "source": [
    "# 'Y', 'N' -> 1, 0 변환\n",
    "my_yn_to_10 = lambda chr_: 1 if chr_ == 'Y' else 0\n",
    "\n",
    "cust_data[\"FP_CAREER_BOOL\"] = cust_data.FP_CAREER.apply(my_yn_to_10).astype(\"int8\")\n",
    "claim_data[\"CHANGE_FP_BOOL\"] = claim_data.CHANG_FP_YN.apply(my_yn_to_10).astype(\"int8\")\n",
    "\n",
    "cust_data = cust_data.drop([\"FP_CAREER\"], axis=1)\n",
    "claim_data = claim_data.drop([\"CHANG_FP_YN\"], axis=1)"
   ]
  },
  {
   "cell_type": "code",
   "execution_count": 20,
   "metadata": {},
   "outputs": [],
   "source": [
    "# 보험료 청구 사례 중 FP 변경이 한번이라도 있었는가\n",
    "temp_fp = claim_data[claim_data[\"CHANGE_FP_BOOL\"] == 1]\n",
    "temp_fp = pd.concat([\n",
    "    temp_fp[\"CUST_ID\"],\n",
    "    temp_fp[\"CHANGE_FP_BOOL\"]\n",
    "], axis=1).drop_duplicates()\n",
    "cust_data = pd.merge(cust_data, temp_fp, how=\"left\", on=\"CUST_ID\")\n",
    "cust_data[\"CHANGE_FP_BOOL\"] = cust_data[\"CHANGE_FP_BOOL\"].fillna(0).astype(\"int8\")\n",
    "del temp_fp"
   ]
  },
  {
   "cell_type": "markdown",
   "metadata": {},
   "source": [
    "###### 기간 데이터"
   ]
  },
  {
   "cell_type": "code",
   "execution_count": 21,
   "metadata": {},
   "outputs": [
    {
     "name": "stdout",
     "output_type": "stream",
     "text": [
      "201602.0 207110.0\n",
      "101.0 199801.0\n"
     ]
    }
   ],
   "source": [
    "print(cust_data.CUST_RGST.max(), cust_data.MAX_PAYM_YM.max())\n",
    "print(cust_data.CUST_RGST.min(), cust_data.MAX_PAYM_YM.min())"
   ]
  },
  {
   "cell_type": "code",
   "execution_count": 22,
   "metadata": {},
   "outputs": [
    {
     "name": "stdout",
     "output_type": "stream",
     "text": [
      "2016.0 2071.0\n",
      "1.0 1998.0\n"
     ]
    }
   ],
   "source": [
    "cust_data[\"CUST_RGST_Y\"] = cust_data[\"CUST_RGST\"] // 100\n",
    "cust_data[\"MAX_PAYM_Y\"] = cust_data[\"MAX_PAYM_YM\"] // 100\n",
    "\n",
    "print(cust_data.CUST_RGST_Y.max(), cust_data.MAX_PAYM_Y.max())\n",
    "print(cust_data.CUST_RGST_Y.min(), cust_data.MAX_PAYM_Y.min())"
   ]
  },
  {
   "cell_type": "code",
   "execution_count": 23,
   "metadata": {},
   "outputs": [
    {
     "data": {
      "text/plain": [
       "(1950, 2016)"
      ]
     },
     "execution_count": 23,
     "metadata": {},
     "output_type": "execute_result"
    },
    {
     "data": {
      "image/png": "[encoded data removed]",
      "text/plain": [
       "<Figure size 432x288 with 1 Axes>"
      ]
     },
     "metadata": {
      "needs_background": "light"
     },
     "output_type": "display_data"
    }
   ],
   "source": [
    "sns.boxplot(x=\"CUST_RGST_Y\", data=cust_data)\n",
    "plt.xlim(1950, 2016) # 2016년 빅콘 문제이기 때문"
   ]
  },
  {
   "cell_type": "code",
   "execution_count": 24,
   "metadata": {},
   "outputs": [],
   "source": [
    "# 불량 기간 데이터를 임시로 0으로 지정\n",
    "cust_data.loc[cust_data[\"CUST_RGST\"] < 196000, \"CUST_RGST\"] = np.nan\n",
    "cust_data.loc[cust_data[\"CUST_RGST\"] > 201612, \"CUST_RGST\"] = np.nan\n",
    "cust_data.loc[cust_data[\"MAX_PAYM_YM\"] < 196000, \"MAX_PAYM_YM\"] = np.nan\n",
    "cust_data.loc[cust_data[\"MAX_PAYM_YM\"] > 201612, \"MAX_PAYM_YM\"] = np.nan\n",
    "cust_data.loc[cust_data[\"CUST_RGST\"].isna(), \"CUST_RGST\"] = 0\n",
    "cust_data.loc[cust_data[\"MAX_PAYM_YM\"].isna(), \"MAX_PAYM_YM\"] = 0\n",
    "\n",
    "cust_data[\"CUST_RGST_Y\"] = cust_data[\"CUST_RGST\"] // 100\n",
    "cust_data[\"CUST_RGST_M\"] = cust_data[\"CUST_RGST\"] % 100\n",
    "cust_data[\"MAX_PAYM_Y\"] = cust_data[\"MAX_PAYM_YM\"] // 100\n",
    "cust_data[\"MAX_PAYM_M\"] = cust_data[\"MAX_PAYM_YM\"] % 100\n",
    "\n",
    "cust_data.loc[cust_data[\"CUST_RGST_M\"] < 1, \"CUST_RGST_M\"] = 0\n",
    "cust_data.loc[cust_data[\"CUST_RGST_M\"] > 12, \"CUST_RGST_M\"] = 0\n",
    "cust_data.loc[cust_data[\"MAX_PAYM_M\"] < 1, \"MAX_PAYM_M\"] = 0\n",
    "cust_data.loc[cust_data[\"MAX_PAYM_M\"] > 12, \"MAX_PAYM_M\"] = 0\n",
    "\n",
    "cust_data[\"CUST_RGST_Y\"] = cust_data[\"CUST_RGST_Y\"].apply(int).apply(str)\n",
    "cust_data[\"CUST_RGST_M\"] = cust_data[\"CUST_RGST_M\"].apply(int).apply(str)\n",
    "cust_data[\"MAX_PAYM_Y\"] = cust_data[\"MAX_PAYM_Y\"].apply(int).apply(str)\n",
    "cust_data[\"MAX_PAYM_M\"] = cust_data[\"MAX_PAYM_M\"].apply(int).apply(str)\n",
    "\n",
    "cust_data = cust_data.drop([\"CUST_RGST\", \"MAX_PAYM_YM\"], axis=1)"
   ]
  },
  {
   "cell_type": "code",
   "execution_count": 25,
   "metadata": {},
   "outputs": [],
   "source": [
    "def my_twomonths_sub(str_):\n",
    "    after, before = str_.split('|')\n",
    "    afterY, afterM = after.split('-')\n",
    "    beforeY, beforeM = before.split('-')\n",
    "    afterY, afterM = int(afterY), int(afterM)\n",
    "    beforeY, beforeM = int(beforeY), int(beforeM)\n",
    "    if 0 in (afterY, afterM, beforeY, beforeM):\n",
    "        return -1\n",
    "    elif beforeY * 100 + beforeM > afterY * 100 + afterM:\n",
    "        return -1\n",
    "    \n",
    "    years = afterY - beforeY - 1\n",
    "    if years == -1:\n",
    "        return afterM - beforeM\n",
    "    else:\n",
    "        return (years * 12) + afterM - (beforeM - 1)\n",
    "\n",
    "cust_data[\"MAX_RGST_SUB_M\"] = \\\n",
    "    cust_data[\"MAX_PAYM_Y\"] + '-' + cust_data[\"MAX_PAYM_M\"] \\\n",
    "    + '|' + cust_data[\"CUST_RGST_Y\"] + '-' + cust_data[\"CUST_RGST_M\"]\n",
    "\n",
    "cust_data[\"MAX_RGST_SUB_M\"] = cust_data[\"MAX_RGST_SUB_M\"].apply(my_twomonths_sub)\n",
    "\n",
    "del my_twomonths_sub"
   ]
  },
  {
   "cell_type": "code",
   "execution_count": 26,
   "metadata": {},
   "outputs": [],
   "source": [
    "cust_data[\"MAX_RGST_SUB_M_scaled\"] = \\\n",
    "    cust_data[\"MAX_RGST_SUB_M\"].apply(lambda num_: 0 if num_ < 1 else num_)\n",
    "cust_data[\"MAX_RGST_SUB_M_scaled\"] = \\\n",
    "    cust_data[\"MAX_RGST_SUB_M_scaled\"] \\\n",
    "    .apply(lambda num_: (np.log(num_+1) / np.log(36)) - 1) # 36개월 = 3년"
   ]
  },
  {
   "cell_type": "code",
   "execution_count": 27,
   "metadata": {},
   "outputs": [],
   "source": [
    "claim_data[\"RECP_DATE\"] = claim_data[\"RECP_DATE\"].apply(str)\n",
    "claim_data[\"ORIG_RESN_DATE\"] = claim_data[\"ORIG_RESN_DATE\"].apply(str)\n",
    "claim_data[\"RESN_DATE\"] = claim_data[\"RESN_DATE\"].apply(str)\n",
    "\n",
    "claim_data[\"RECP_DATE\"] = claim_data[\"RECP_DATE\"].apply(pd.to_datetime, format=\"%Y%m%d\")\n",
    "claim_data[\"ORIG_RESN_DATE\"] = claim_data[\"ORIG_RESN_DATE\"].apply(pd.to_datetime, format=\"%Y%m%d\")\n",
    "claim_data[\"RESN_DATE\"] = claim_data[\"RESN_DATE\"].apply(pd.to_datetime, format=\"%Y%m%d\")"
   ]
  },
  {
   "cell_type": "code",
   "execution_count": 28,
   "metadata": {},
   "outputs": [
    {
     "name": "stderr",
     "output_type": "stream",
     "text": [
      "C:\\Programming\\Anaconda3\\lib\\site-packages\\ipykernel_launcher.py:5: SettingWithCopyWarning: \n",
      "A value is trying to be set on a copy of a slice from a DataFrame.\n",
      "Try using .loc[row_indexer,col_indexer] = value instead\n",
      "\n",
      "See the caveats in the documentation: https://pandas.pydata.org/pandas-docs/stable/user_guide/indexing.html#returning-a-view-versus-a-copy\n",
      "  \"\"\"\n",
      "C:\\Programming\\Anaconda3\\lib\\site-packages\\ipykernel_launcher.py:11: SettingWithCopyWarning: \n",
      "A value is trying to be set on a copy of a slice from a DataFrame.\n",
      "Try using .loc[row_indexer,col_indexer] = value instead\n",
      "\n",
      "See the caveats in the documentation: https://pandas.pydata.org/pandas-docs/stable/user_guide/indexing.html#returning-a-view-versus-a-copy\n",
      "  # This is added back by InteractiveShellApp.init_path()\n",
      "C:\\Programming\\Anaconda3\\lib\\site-packages\\ipykernel_launcher.py:14: SettingWithCopyWarning: \n",
      "A value is trying to be set on a copy of a slice from a DataFrame.\n",
      "Try using .loc[row_indexer,col_indexer] = value instead\n",
      "\n",
      "See the caveats in the documentation: https://pandas.pydata.org/pandas-docs/stable/user_guide/indexing.html#returning-a-view-versus-a-copy\n",
      "  \n"
     ]
    }
   ],
   "source": [
    "temp_date = claim_data[[\n",
    "    \"CNTT_RECP_SQNO\", \"RECP_DATE\", \"ORIG_RESN_DATE\", \"RESN_DATE\", \"VLID_HOSP_OTDA\"\n",
    "]]\n",
    "\n",
    "temp_date[\"RECP_RESN_SUB_D\"] = temp_date[\"RECP_DATE\"] - temp_date[\"ORIG_RESN_DATE\"]\n",
    "\n",
    "def my_total_days(timedelta_):\n",
    "    return datetime.timedelta.total_seconds(timedelta_) / (60 * 60 * 24)\n",
    "\n",
    "# 시고접수일자 - 해당 사고의 최초 사유발생일자\n",
    "temp_date[\"RECP_RESN_SUB_D\"] = temp_date.RECP_RESN_SUB_D.apply(my_total_days)\n",
    "\n",
    "# 사고발생~사고접수 기간 - 유효입원/통원일수\n",
    "temp_date[\"RECP_HOSP_SUB_D\"] = temp_date[\"RECP_RESN_SUB_D\"] - temp_date[\"VLID_HOSP_OTDA\"]\n",
    "\n",
    "temp_date = temp_date.drop([\"RECP_DATE\", \"ORIG_RESN_DATE\", \"RESN_DATE\", \"VLID_HOSP_OTDA\"], axis=1)"
   ]
  },
  {
   "cell_type": "code",
   "execution_count": 29,
   "metadata": {},
   "outputs": [],
   "source": [
    "claim_data = pd.merge(claim_data, temp_date, how=\"left\", on=\"CNTT_RECP_SQNO\")\n",
    "del temp_date"
   ]
  },
  {
   "cell_type": "code",
   "execution_count": 30,
   "metadata": {},
   "outputs": [],
   "source": [
    "temp_date = claim_data.groupby(\"CUST_ID\")[[\"RECP_RESN_SUB_D\", \"RECP_HOSP_SUB_D\"]].mean()\n",
    "temp_date = temp_date.reset_index()\n",
    "cust_data = pd.merge(cust_data, temp_date, how=\"left\", on=\"CUST_ID\")\n",
    "del temp_date"
   ]
  },
  {
   "cell_type": "code",
   "execution_count": 31,
   "metadata": {},
   "outputs": [],
   "source": [
    "cust_data[\"RECP_RESN_SUB_Dmean_scaled\"] = \\\n",
    "    cust_data[\"RECP_RESN_SUB_D\"].apply(lambda num_: 0 if num_ < 0 else num_)\n",
    "cust_data[\"RECP_RESN_SUB_Dmean_scaled\"] = \\\n",
    "    cust_data[\"RECP_RESN_SUB_Dmean_scaled\"] \\\n",
    "    .apply(lambda num_: (np.log(num_+1) / np.log(60)) - 1) # 60일 = 1개월\n",
    "\n",
    "cust_data[\"RECP_HOSP_SUB_Dmean_scaled\"] = \\\n",
    "    cust_data[\"RECP_HOSP_SUB_D\"].apply(lambda num_: 0 if num_ < 0 else num_)\n",
    "cust_data[\"RECP_HOSP_SUB_Dmean_scaled\"] = \\\n",
    "    cust_data[\"RECP_HOSP_SUB_Dmean_scaled\"] \\\n",
    "    .apply(lambda num_: (np.log(num_+1) / np.log(60)) - 1) # 60일 = 1개월"
   ]
  },
  {
   "cell_type": "markdown",
   "metadata": {},
   "source": [
    "###### 보험료 데이터"
   ]
  },
  {
   "cell_type": "code",
   "execution_count": 32,
   "metadata": {},
   "outputs": [],
   "source": [
    "cust_data.loc[cust_data[\"TOTALPREM\"] < 1, \"TOTALPREM\"] = np.nan\n",
    "cust_data.loc[cust_data[\"MAX_PRM\"] < 1, \"MAX_PRM\"] = np.nan\n",
    "cust_data.loc[cust_data[\"TOTALPREM\"].isna(), \"TOTALPREM\"] = 1\n",
    "cust_data.loc[cust_data[\"MAX_PRM\"].isna(), \"MAX_PRM\"] = 1"
   ]
  },
  {
   "cell_type": "code",
   "execution_count": 33,
   "metadata": {},
   "outputs": [],
   "source": [
    "temp_money = claim_data.groupby(\"CUST_ID\")[[\"DMND_AMT\", \"PAYM_AMT\"]].sum()\n",
    "temp_money = temp_money.reset_index()\n",
    "cust_data = pd.merge(cust_data, temp_money, how=\"left\", on=\"CUST_ID\")\n",
    "del temp_money"
   ]
  },
  {
   "cell_type": "markdown",
   "metadata": {},
   "source": [
    "###### 소득 추정금액 데이터"
   ]
  },
  {
   "cell_type": "code",
   "execution_count": 34,
   "metadata": {},
   "outputs": [],
   "source": [
    "# 불량 수치 데이터를 임시로 null, nan 등으로 지정\n",
    "cust_data.loc[cust_data[\"CUST_INCM\"] == 0., \"CUST_INCM\"] = np.nan\n",
    "cust_data.loc[cust_data[\"RCBASE_HSHD_INCM\"] == 0., \"RCBASE_HSHD_INCM\"] = np.nan\n",
    "cust_data.loc[cust_data[\"JPBASE_HSHD_INCM\"] == 0., \"JPBASE_HSHD_INCM\"] = np.nan\n",
    "\n",
    "cust_data.loc[cust_data[\"CUST_INCM\"].isna(), \"CUST_INCM\"] = 0\n",
    "cust_data.loc[cust_data[\"RCBASE_HSHD_INCM\"].isna(), \"RCBASE_HSHD_INCM\"] = 0\n",
    "cust_data.loc[cust_data[\"JPBASE_HSHD_INCM\"].isna(), \"JPBASE_HSHD_INCM\"] = 0"
   ]
  },
  {
   "cell_type": "markdown",
   "metadata": {},
   "source": [
    "###### 신용등급 데이터"
   ]
  },
  {
   "cell_type": "code",
   "execution_count": 35,
   "metadata": {},
   "outputs": [],
   "source": [
    "cust_data.loc[cust_data[\"MINCRDT\"].isin((0., 28., 99.)), \"MINCRDT\"] = np.nan\n",
    "cust_data.loc[cust_data[\"MAXCRDT\"].isin((0., 28., 99.)), \"MAXCRDT\"] = np.nan\n",
    "cust_data.loc[cust_data[\"MINCRDT\"].isna(), \"MINCRDT\"] = 6 # 미확인의 경우 6등급에 포함\n",
    "cust_data.loc[cust_data[\"MAXCRDT\"].isna(), \"MAXCRDT\"] = 6 # 미확인의 경우 6등급에 포함"
   ]
  },
  {
   "cell_type": "code",
   "execution_count": 36,
   "metadata": {},
   "outputs": [],
   "source": [
    "cust_data[\"SUBCRDT\"] = cust_data[\"MAXCRDT\"] - cust_data[\"MINCRDT\"]\n",
    "cust_data[\"AVGCRDT\"] = (cust_data[\"MAXCRDT\"] + cust_data[\"MINCRDT\"]) / 2"
   ]
  },
  {
   "cell_type": "code",
   "execution_count": 37,
   "metadata": {},
   "outputs": [],
   "source": [
    "# 평균 신용등급 데이터, 최대-최소 신용등급 데이터 간 차 모두 0~10을 벗어날 수 없다.\n",
    "cust_data[\"MINCRDT_scaled\"] = cust_data[\"MINCRDT\"] / 10\n",
    "cust_data[\"MAXCRDT_scaled\"] = cust_data[\"MAXCRDT\"] / 10\n",
    "cust_data[\"SUBCRDT_scaled\"] = cust_data[\"SUBCRDT\"].apply(lambda num_: -num_ if num_ < 0 else num_) / 10\n",
    "cust_data[\"AVGCRDT_scaled\"] = cust_data[\"AVGCRDT\"] / 10"
   ]
  },
  {
   "cell_type": "markdown",
   "metadata": {},
   "source": [
    "###### 유의 병원 여부 데이터"
   ]
  },
  {
   "cell_type": "code",
   "execution_count": 38,
   "metadata": {},
   "outputs": [],
   "source": [
    "# 'Y', 'N' -> 1, 0 변환\n",
    "my_yn_to_10 = lambda chr_: 1 if chr_ == 'Y' else 0\n",
    "\n",
    "claim_data[\"HEED_HOSP_BOOL\"] = claim_data.HEED_HOSP_YN.apply(my_yn_to_10).astype(\"int8\")\n",
    "\n",
    "claim_data = claim_data.drop([\"HEED_HOSP_YN\"], axis=1)"
   ]
  },
  {
   "cell_type": "code",
   "execution_count": 39,
   "metadata": {},
   "outputs": [],
   "source": [
    "# 유의 병원을 한번이라도 이용했는가\n",
    "temp_hosp = claim_data[claim_data[\"HEED_HOSP_BOOL\"] == 1]\n",
    "temp_hosp = pd.concat([\n",
    "    temp_hosp[\"CUST_ID\"],\n",
    "    temp_hosp[\"HEED_HOSP_BOOL\"]\n",
    "], axis=1).drop_duplicates()\n",
    "cust_data = pd.merge(cust_data, temp_hosp, how=\"left\", on=\"CUST_ID\")\n",
    "cust_data[\"HEED_HOSP_BOOL\"] = cust_data[\"HEED_HOSP_BOOL\"].fillna(0).astype(\"int8\")\n",
    "del temp_hosp"
   ]
  },
  {
   "cell_type": "markdown",
   "metadata": {},
   "source": [
    "###### 기타 Y.N 데이터"
   ]
  },
  {
   "cell_type": "code",
   "execution_count": 40,
   "metadata": {},
   "outputs": [],
   "source": [
    "# 'Y', 'N' -> 1, 0 변환\n",
    "my_yn_to_10 = lambda chr_: 1 if chr_ == 'Y' else 0\n",
    "\n",
    "cust_data[\"WEDD_BOOL\"] = cust_data.WEDD_YN.fillna('N').apply(my_yn_to_10).astype(\"int8\")\n",
    "claim_data[\"PMMI_DLNG_BOOL\"] = claim_data.PMMI_DLNG_YN.apply(my_yn_to_10).astype(\"int8\")\n",
    "\n",
    "cust_data = cust_data.drop([\"WEDD_YN\"], axis=1)\n",
    "claim_data = claim_data.drop([\"PMMI_DLNG_YN\"], axis=1)\n",
    "\n",
    "del my_yn_to_10"
   ]
  },
  {
   "cell_type": "markdown",
   "metadata": {},
   "source": [
    "#### 개별 사건 데이터(1)"
   ]
  },
  {
   "cell_type": "markdown",
   "metadata": {},
   "source": [
    "###### 텍스트 데이터"
   ]
  },
  {
   "cell_type": "code",
   "execution_count": 41,
   "metadata": {},
   "outputs": [
    {
     "data": {
      "text/html": [
       "<div>\n",
       "<style scoped>\n",
       "    .dataframe tbody tr th:only-of-type {\n",
       "        vertical-align: middle;\n",
       "    }\n",
       "\n",
       "    .dataframe tbody tr th {\n",
       "        vertical-align: top;\n",
       "    }\n",
       "\n",
       "    .dataframe thead th {\n",
       "        text-align: right;\n",
       "    }\n",
       "</style>\n",
       "<table border=\"1\" class=\"dataframe\">\n",
       "  <thead>\n",
       "    <tr style=\"text-align: right;\">\n",
       "      <th></th>\n",
       "      <th>DSAS_NAME</th>\n",
       "      <th>RESL_NM1</th>\n",
       "    </tr>\n",
       "  </thead>\n",
       "  <tbody>\n",
       "    <tr>\n",
       "      <th>0</th>\n",
       "      <td>하악부표재성손상</td>\n",
       "      <td>머리의 얕은(표재성)손상</td>\n",
       "    </tr>\n",
       "    <tr>\n",
       "      <th>1</th>\n",
       "      <td>하악부표재성손상</td>\n",
       "      <td>머리의 얕은(표재성)손상</td>\n",
       "    </tr>\n",
       "    <tr>\n",
       "      <th>2</th>\n",
       "      <td>하악부표재성손상</td>\n",
       "      <td>머리의 얕은(표재성)손상</td>\n",
       "    </tr>\n",
       "    <tr>\n",
       "      <th>3</th>\n",
       "      <td>기타세균성창자감염|손목및손의2도화상|피부염</td>\n",
       "      <td>감염성 및 상세불명 기원의 기타위장염 및 결장염</td>\n",
       "    </tr>\n",
       "    <tr>\n",
       "      <th>4</th>\n",
       "      <td>좌측하지정맥류혈관발거술|레이저소작술</td>\n",
       "      <td>다리(하지)의 정맥류</td>\n",
       "    </tr>\n",
       "  </tbody>\n",
       "</table>\n",
       "</div>"
      ],
      "text/plain": [
       "                 DSAS_NAME                    RESL_NM1\n",
       "0                 하악부표재성손상               머리의 얕은(표재성)손상\n",
       "1                 하악부표재성손상               머리의 얕은(표재성)손상\n",
       "2                 하악부표재성손상               머리의 얕은(표재성)손상\n",
       "3  기타세균성창자감염|손목및손의2도화상|피부염  감염성 및 상세불명 기원의 기타위장염 및 결장염\n",
       "4      좌측하지정맥류혈관발거술|레이저소작술                 다리(하지)의 정맥류"
      ]
     },
     "execution_count": 41,
     "metadata": {},
     "output_type": "execute_result"
    }
   ],
   "source": [
    "claim_data.loc[:, [\"DSAS_NAME\", \"RESL_NM1\"]].head()"
   ]
  },
  {
   "cell_type": "code",
   "execution_count": 42,
   "metadata": {},
   "outputs": [
    {
     "data": {
      "text/plain": [
       "array(['우측요관결석(요관경하쇄석술)', '신장 및 요관의 결석'], dtype=object)"
      ]
     },
     "execution_count": 42,
     "metadata": {},
     "output_type": "execute_result"
    }
   ],
   "source": [
    "# 랜덤한 줄\n",
    "my_random_row = claim_data.loc[53, [\"DSAS_NAME\", \"RESL_NM1\"]].values\n",
    "my_random_row"
   ]
  },
  {
   "cell_type": "code",
   "execution_count": 43,
   "metadata": {},
   "outputs": [],
   "source": [
    "okt=Okt()\n",
    "kkma=Kkma()\n",
    "kmrn=Komoran()\n",
    "han=Hannanum()"
   ]
  },
  {
   "cell_type": "code",
   "execution_count": 44,
   "metadata": {},
   "outputs": [
    {
     "name": "stdout",
     "output_type": "stream",
     "text": [
      "['우측', '요관', '결석', '요관', '경하', '쇄', '술'] ['신장', '및', '요관', '결석']\n",
      "['우측', '우측요관결석', '요관', '결석', '요관경하쇄석술', '경하', '쇄석술'] ['신장', '요관', '결석']\n",
      "['우측', '요', '관', '결석', '요', '관', '경하', '쇄', '석', '술'] ['신장', '관의', '결석']\n",
      "['우측요관결석(요관경하쇄석술'] ['신장', '요관', '결석']\n"
     ]
    }
   ],
   "source": [
    "print(okt.nouns(my_random_row[0]), okt.nouns(my_random_row[1]))\n",
    "print(kkma.nouns(my_random_row[0]), kkma.nouns(my_random_row[1]))\n",
    "print(kmrn.nouns(my_random_row[0]), kmrn.nouns(my_random_row[1]))\n",
    "print(han.nouns(my_random_row[0]), han.nouns(my_random_row[1]))"
   ]
  },
  {
   "cell_type": "code",
   "execution_count": 45,
   "metadata": {},
   "outputs": [],
   "source": [
    "# 꼬꼬마의 결과가 마음에 든다\n",
    "del okt, kmrn, han, my_random_row"
   ]
  },
  {
   "cell_type": "code",
   "execution_count": 46,
   "metadata": {},
   "outputs": [],
   "source": [
    "claim_doc_data = claim_data.copy()\n",
    "claim_doc_data = claim_doc_data[[\n",
    "    \"CUST_ID\", \"CNTT_RECP_SQNO\",\n",
    "    # document화 시킬 데이터\n",
    "    \"ACCI_DVSN\", \n",
    "    # \"DSAS_NAME\", \"RESL_NM1\", # 너무 오래 걸려서 한번 실행 후 별도의 파일로 저장\n",
    "    \"DMND_RESN_CODE\", \n",
    "    \"HEED_HOSP_BOOL\", \"HOSP_SPEC_DVSN\", \"ACCI_HOSP_ADDR\",\n",
    "    # 이외 관련 수치 데이터\n",
    "    \"HOUSE_HOSP_DIST\" \n",
    "]]\n",
    "claim_doc_data = pd.merge(claim_doc_data, cust_data[[\"CUST_ID\", \"CTPR\"]], how=\"left\", on=\"CUST_ID\")"
   ]
  },
  {
   "cell_type": "code",
   "execution_count": 47,
   "metadata": {},
   "outputs": [],
   "source": [
    "# 청구사유코드 상 해지/무효인 데이터 제외\n",
    "claim_doc_data = claim_doc_data[claim_doc_data[\"DMND_RESN_CODE\"] != 9]"
   ]
  },
  {
   "cell_type": "code",
   "execution_count": 48,
   "metadata": {},
   "outputs": [
    {
     "data": {
      "text/plain": [
       "<matplotlib.axes._subplots.AxesSubplot at 0x286032743c8>"
      ]
     },
     "execution_count": 48,
     "metadata": {},
     "output_type": "execute_result"
    },
    {
     "data": {
      "image/png": "[encoded data removed]",
      "text/plain": [
       "<Figure size 432x288 with 1 Axes>"
      ]
     },
     "metadata": {
      "needs_background": "light"
     },
     "output_type": "display_data"
    }
   ],
   "source": [
    "sns.boxplot(x=\"HOUSE_HOSP_DIST\", data=claim_doc_data)"
   ]
  },
  {
   "cell_type": "code",
   "execution_count": 49,
   "metadata": {},
   "outputs": [
    {
     "data": {
      "text/plain": [
       "(0, 50)"
      ]
     },
     "execution_count": 49,
     "metadata": {},
     "output_type": "execute_result"
    },
    {
     "data": {
      "image/png": "[encoded data removed]",
      "text/plain": [
       "<Figure size 432x288 with 1 Axes>"
      ]
     },
     "metadata": {
      "needs_background": "light"
     },
     "output_type": "display_data"
    }
   ],
   "source": [
    "sns.boxplot(x=\"HOUSE_HOSP_DIST\", data=claim_doc_data)\n",
    "plt.xlim(0, 50)"
   ]
  },
  {
   "cell_type": "code",
   "execution_count": 50,
   "metadata": {},
   "outputs": [],
   "source": [
    "# # 꼬꼬마 실행시간이 너무 오래 걸려 중복되는 줄은 한번만 계산해야 함\n",
    "# # unique 한 값 -> 코드로 저장\n",
    "        \n",
    "# all_resl = dict()\n",
    "\n",
    "# temp = list()\n",
    "# i = 0\n",
    "# for row in claim_doc_data[\"RESL_NM1\"].unique():\n",
    "#     if row not in temp:\n",
    "#         all_resl['B' + str(i)] = row\n",
    "#         temp.append(row)\n",
    "#         i += 1\n",
    "\n",
    "# del temp"
   ]
  },
  {
   "cell_type": "code",
   "execution_count": 51,
   "metadata": {},
   "outputs": [],
   "source": [
    "# # 꼬꼬마로 명사 추출\n",
    "# all_resl_result = pd.Series(all_resl)\n",
    "\n",
    "# # 여기서 12초 정도 소요, DSAS에 비해 정말 얼마 안걸림\n",
    "# t0 = time.time()\n",
    "# all_resl_result = all_resl_result.apply(kkma.nouns)\n",
    "# print(f\"Kkma took {datetime.timedelta(seconds=int(round(time.time() - t0)))} seconds to tokenize RESL.\")"
   ]
  },
  {
   "cell_type": "code",
   "execution_count": 52,
   "metadata": {},
   "outputs": [],
   "source": [
    "# all_resl_origin = pd.Series(all_resl)\n",
    "# del all_resl\n",
    "# all_resl = pd.merge(all_resl_origin.reset_index(), all_resl_result.reset_index(), how=\"inner\", on=\"index\")\n",
    "# all_resl = all_resl.drop([\"index\"], axis=1).set_index(\"0_x\").to_dict()\n",
    "# all_resl = all_resl[\"0_y\"]\n",
    "\n",
    "# del all_resl_origin, all_resl_result"
   ]
  },
  {
   "cell_type": "code",
   "execution_count": 53,
   "metadata": {},
   "outputs": [],
   "source": [
    "# \"DSAS_NAME\"는 너무 길어서 unique한 값들을 코드화 하는 것 자체가 너무 오래 걸린다. 그냥 바로 실행"
   ]
  },
  {
   "cell_type": "code",
   "execution_count": 54,
   "metadata": {},
   "outputs": [],
   "source": [
    "# 1. 어떤 사고로 인한?\n",
    "def return_1_if_num(testcode, num_):\n",
    "    return 1 if testcode == num_ else 0\n",
    "\n",
    "for i in range(1, 4):\n",
    "    new_col = \"ACCI_DVSN_\" + str(i)\n",
    "    claim_doc_data[new_col] = claim_doc_data[\"ACCI_DVSN\"].apply(return_1_if_num, num_=i).astype(\"int8\")\n",
    "\n",
    "del return_1_if_num\n",
    "\n",
    "# 여기서 35분 정도 소요\n",
    "# t0 = time.time()\n",
    "# claim_doc_data[\"DSAS_NM\"] = claim_doc_data[\"DSAS_NAME\"].apply(kkma.nouns)\n",
    "# print(f\"Kkma took {datetime.timedelta(seconds=int(round(time.time() - t0)))} seconds to tokenize DSAS.\")\n",
    "\n",
    "claim_doc_data = claim_doc_data.drop([\n",
    "    \"ACCI_DVSN\", \n",
    "    # \"DSAS_NAME\"\n",
    "], axis=1)"
   ]
  },
  {
   "cell_type": "code",
   "execution_count": 55,
   "metadata": {},
   "outputs": [],
   "source": [
    "# 2. 어떠한 상황?\n",
    "# claim_doc_data[\"RESL_NM\"] = claim_doc_data[\"RESL_NM1\"].apply(lambda value: all_resl[value.strip()])\n",
    "# del all_resl\n",
    "\n",
    "def return_1_if_num(testcode, num_):\n",
    "    return 1 if testcode == num_ else 0\n",
    "\n",
    "for i in range(1, 8):\n",
    "    new_col = \"DMND_RESN_\" + str(i)\n",
    "    claim_doc_data[new_col] = claim_doc_data[\"DMND_RESN_CODE\"].apply(return_1_if_num, num_=i).astype(\"int8\")\n",
    "\n",
    "claim_doc_data = claim_doc_data.drop([\n",
    "    # \"RESL_NM1\", \n",
    "    \"DMND_RESN_CODE\"\n",
    "], axis=1)"
   ]
  },
  {
   "cell_type": "code",
   "execution_count": 56,
   "metadata": {},
   "outputs": [],
   "source": [
    "# 3. 어디에?\n",
    "# 유의\n",
    "claim_doc_data[\"HEED_HOSP\"] = claim_doc_data[\"HEED_HOSP_BOOL\"]\n",
    "\n",
    "# 거리\n",
    "claim_doc_data[\"HOUSE_HOSP_DIST\"] = claim_doc_data[\"HOUSE_HOSP_DIST\"].fillna(-1)\n",
    "claim_doc_data[\"ACCI_HOSP_ADDR\"] = claim_doc_data[\"ACCI_HOSP_ADDR\"].fillna(' ')\n",
    "claim_doc_data[\"CTPR\"] = claim_doc_data[\"CTPR\"].fillna(' ')\n",
    "claim_doc_data[\"HOSP_LOC\"] = \\\n",
    "    claim_doc_data[\"CTPR\"] \\\n",
    "    + '|' + claim_doc_data[\"ACCI_HOSP_ADDR\"] \\\n",
    "    + '|' + claim_doc_data[\"HOUSE_HOSP_DIST\"].apply(str)\n",
    "\n",
    "def my_location_classification(location):\n",
    "    home, hospital, distance = location.split('|')\n",
    "    distance = float(distance)\n",
    "    \n",
    "    if distance < 0:\n",
    "        if home == hospital:\n",
    "            return 2\n",
    "        else: # if home != hospital:\n",
    "            return 3\n",
    "    elif distance <= 5:\n",
    "        return 1\n",
    "    elif distance <= 15:\n",
    "        return 2\n",
    "    else:\n",
    "        return 3\n",
    "\n",
    "claim_doc_data[\"HOSP_LOC_CODE\"] = claim_doc_data[\"HOSP_LOC\"].apply(my_location_classification)\n",
    "\n",
    "def return_1_if_num(testcode, num_):\n",
    "    return 1 if testcode == num_ else 0\n",
    "\n",
    "for i, col in zip(range(1, 4), (\"CLOSE\", \"NORMAL\", \"FAR\")):\n",
    "    new_col = \"HOSP_LOC_\" + col\n",
    "    claim_doc_data[new_col] = \\\n",
    "        claim_doc_data[\"HOSP_LOC_CODE\"].apply(return_1_if_num, num_=i).astype(\"int8\")\n",
    "\n",
    "# 병원 종류\n",
    "claim_doc_data[\"HOSP_SPEC_DVSN_NM\"] = \\\n",
    "    claim_doc_data[\"HOSP_SPEC_DVSN\"].fillna(0).apply(lambda code: \"종합|병원\" if code == 10.\n",
    "                                            else \"병원\" if code == 20.\n",
    "                                            else \"요양|병원\" if code == 25.\n",
    "                                            else \"의원\" if code == 30.\n",
    "                                            else \"치과|병원\" if code == 40. \n",
    "                                            else \"치과|의원\" if code == 45.\n",
    "                                            else \"보건|의료원\" if code == 60.\n",
    "                                            else \"약국\" if code == 70.\n",
    "                                            else \"한방|병원\" if code == 80.\n",
    "                                            else \"한방|의원\" if code == 85.\n",
    "                                            else \"해외\" if code == 90.\n",
    "                                            else \"이외\" if code == 95.\n",
    "                                            else ' ' # if code == np.nan\n",
    "                                          )\n",
    "\n",
    "claim_doc_data[\"HOSP_SPEC_1\"] = \\\n",
    "    claim_doc_data[\"HOSP_SPEC_DVSN_NM\"].apply(lambda name: 1 if \"병원\" in name else 0)\n",
    "claim_doc_data[\"HOSP_SPEC_2\"] = \\\n",
    "    claim_doc_data[\"HOSP_SPEC_DVSN_NM\"].apply(lambda name: 1 if \"의원\" in name else 0)\n",
    "claim_doc_data[\"HOSP_SPEC_3\"] = \\\n",
    "    claim_doc_data[\"HOSP_SPEC_DVSN_NM\"].apply(lambda name: 1 if \"종합\" in name else 0)\n",
    "claim_doc_data[\"HOSP_SPEC_4\"] = \\\n",
    "    claim_doc_data[\"HOSP_SPEC_DVSN_NM\"].apply(lambda name: 1 if \"요양\" in name else 0)\n",
    "claim_doc_data[\"HOSP_SPEC_5\"] = \\\n",
    "    claim_doc_data[\"HOSP_SPEC_DVSN_NM\"].apply(lambda name: 1 if \"치과\" in name else 0)\n",
    "claim_doc_data[\"HOSP_SPEC_6\"] = \\\n",
    "    claim_doc_data[\"HOSP_SPEC_DVSN_NM\"].apply(lambda name: 1 if \"보건\" in name else 0)\n",
    "claim_doc_data[\"HOSP_SPEC_7\"] = \\\n",
    "    claim_doc_data[\"HOSP_SPEC_DVSN_NM\"].apply(lambda name: 1 if \"약국\" in name else 0)\n",
    "claim_doc_data[\"HOSP_SPEC_8\"] = \\\n",
    "    claim_doc_data[\"HOSP_SPEC_DVSN_NM\"].apply(lambda name: 1 if \"한방\" in name else 0)\n",
    "claim_doc_data[\"HOSP_SPEC_9\"] = \\\n",
    "    claim_doc_data[\"HOSP_SPEC_DVSN_NM\"].apply(lambda name: 1 if \"해외\" in name else 0)\n",
    "claim_doc_data[\"HOSP_SPEC_10\"] = \\\n",
    "    claim_doc_data[\"HOSP_SPEC_DVSN_NM\"].apply(lambda name: 1 if \"이외\" in name else 0)"
   ]
  },
  {
   "cell_type": "code",
   "execution_count": 57,
   "metadata": {},
   "outputs": [],
   "source": [
    "claim_doc_data = claim_doc_data.drop([\n",
    "    \"HEED_HOSP_BOOL\", \n",
    "    \"HOUSE_HOSP_DIST\", \"ACCI_HOSP_ADDR\", \"CTPR\", \"HOSP_LOC\", \"HOSP_LOC_CODE\",\n",
    "    \"HOSP_SPEC_DVSN\", \"HOSP_SPEC_DVSN_NM\"\n",
    "], axis=1)\n",
    "del my_location_classification, return_1_if_num"
   ]
  },
  {
   "cell_type": "code",
   "execution_count": 58,
   "metadata": {},
   "outputs": [
    {
     "data": {
      "text/html": [
       "<div>\n",
       "<style scoped>\n",
       "    .dataframe tbody tr th:only-of-type {\n",
       "        vertical-align: middle;\n",
       "    }\n",
       "\n",
       "    .dataframe tbody tr th {\n",
       "        vertical-align: top;\n",
       "    }\n",
       "\n",
       "    .dataframe thead th {\n",
       "        text-align: right;\n",
       "    }\n",
       "</style>\n",
       "<table border=\"1\" class=\"dataframe\">\n",
       "  <thead>\n",
       "    <tr style=\"text-align: right;\">\n",
       "      <th></th>\n",
       "      <th>CUST_ID</th>\n",
       "      <th>DSAS_NM</th>\n",
       "      <th>RESL_NM</th>\n",
       "    </tr>\n",
       "  </thead>\n",
       "  <tbody>\n",
       "    <tr>\n",
       "      <th>0</th>\n",
       "      <td>1</td>\n",
       "      <td>{'아래배통증', '아랫배통증', '아래', '배', '아랫배', '감기', '통증'}</td>\n",
       "      <td>{'급성', '인두염', '복부', '골반통증', '골반', '감기', '통증'}</td>\n",
       "    </tr>\n",
       "    <tr>\n",
       "      <th>1</th>\n",
       "      <td>2</td>\n",
       "      <td>{'추가지급', '위염', '식도', '위식도염', '자기', '요추', '위', ...</td>\n",
       "      <td>{'식도', '신경통', '등', '등통증', '위', '병', '식도역류병', '...</td>\n",
       "    </tr>\n",
       "    <tr>\n",
       "      <th>2</th>\n",
       "      <td>3</td>\n",
       "      <td>{'요추염좌', '요추', '염좌', '뇌진탕'}</td>\n",
       "      <td>{'내', '뇌진탕', '손상', '두개', '뇌좌상', '두개내손상'}</td>\n",
       "    </tr>\n",
       "    <tr>\n",
       "      <th>3</th>\n",
       "      <td>4</td>\n",
       "      <td>{'범랑질만', '치수', '치관파절', '골절', '파절', '치관', '37',...</td>\n",
       "      <td>{'골', '골절', '안면골', '안면', '흉골', '흉추', '두개골', '늑골'}</td>\n",
       "    </tr>\n",
       "    <tr>\n",
       "      <th>4</th>\n",
       "      <td>5</td>\n",
       "      <td>{'뇌진탕', '요부', '경요부염좌', '염좌', '경'}</td>\n",
       "      <td>{'관절', '부위', '염좌', '경추', '탈구', '인대', '추', '목부위...</td>\n",
       "    </tr>\n",
       "  </tbody>\n",
       "</table>\n",
       "</div>"
      ],
      "text/plain": [
       "   CUST_ID                                            DSAS_NM  \\\n",
       "0        1   {'아래배통증', '아랫배통증', '아래', '배', '아랫배', '감기', '통증'}   \n",
       "1        2  {'추가지급', '위염', '식도', '위식도염', '자기', '요추', '위', ...   \n",
       "2        3                        {'요추염좌', '요추', '염좌', '뇌진탕'}   \n",
       "3        4  {'범랑질만', '치수', '치관파절', '골절', '파절', '치관', '37',...   \n",
       "4        5                  {'뇌진탕', '요부', '경요부염좌', '염좌', '경'}   \n",
       "\n",
       "                                             RESL_NM  \n",
       "0      {'급성', '인두염', '복부', '골반통증', '골반', '감기', '통증'}  \n",
       "1  {'식도', '신경통', '등', '등통증', '위', '병', '식도역류병', '...  \n",
       "2           {'내', '뇌진탕', '손상', '두개', '뇌좌상', '두개내손상'}  \n",
       "3  {'골', '골절', '안면골', '안면', '흉골', '흉추', '두개골', '늑골'}  \n",
       "4  {'관절', '부위', '염좌', '경추', '탈구', '인대', '추', '목부위...  "
      ]
     },
     "execution_count": 58,
     "metadata": {},
     "output_type": "execute_result"
    }
   ],
   "source": [
    "# claim_doc_data_1 = claim_doc_data.groupby([\"CUST_ID\"])[[\"DSAS_NM\", \"RESL_NM\"]].agg(\"sum\").reset_index()\n",
    "\n",
    "# claim_doc_data_1[\"DSAS_NM\"] = claim_doc_data_1[\"DSAS_NM\"].apply(set)\n",
    "# claim_doc_data_1[\"RESL_NM\"] = claim_doc_data_1[\"RESL_NM\"].apply(set)\n",
    "\n",
    "# claim_doc_data_1.to_csv(\"./data/my_kkma_docs.csv\", sep='|', encoding=\"utf-8\", index=None)\n",
    "# del claim_doc_data_1\n",
    "\n",
    "# 텍스트 전처리 된 데이터 불러오기\n",
    "claim_doc_data_1 = pd.read_csv(\"./data/my_kkma_docs.csv\", sep='|', encoding=\"utf-8\")\n",
    "claim_doc_data_1.head() # 집합이 스트링이 되어버린다는 단점이 있음."
   ]
  },
  {
   "cell_type": "code",
   "execution_count": 59,
   "metadata": {},
   "outputs": [],
   "source": [
    "def nm_to_list(list_in_str):\n",
    "    if list_in_str == \"{}\":\n",
    "        return []\n",
    "    if list_in_str[:2] == \"{'\":\n",
    "        list_in_str = list_in_str[2:]\n",
    "    if list_in_str[-2:] == \"'}\":\n",
    "        list_in_str = list_in_str[:-2]\n",
    "    return list_in_str.split(\"', '\")\n",
    "\n",
    "claim_doc_data_1[\"DSAS_LIST\"] = claim_doc_data_1[\"DSAS_NM\"].apply(nm_to_list)\n",
    "claim_doc_data_1[\"RESL_LIST\"] = claim_doc_data_1[\"RESL_NM\"].apply(nm_to_list)\n",
    "\n",
    "claim_doc_data_1 = claim_doc_data_1.drop([\"DSAS_NM\", \"RESL_NM\"], axis=1)"
   ]
  },
  {
   "cell_type": "code",
   "execution_count": 60,
   "metadata": {},
   "outputs": [],
   "source": [
    "claim_doc_data_2 = claim_doc_data.groupby([\"CUST_ID\"])[[\n",
    "    \"ACCI_DVSN_1\", \"ACCI_DVSN_2\", \"ACCI_DVSN_3\",\n",
    "    \"DMND_RESN_1\", \"DMND_RESN_2\", \"DMND_RESN_3\", \"DMND_RESN_4\", \"DMND_RESN_5\", \n",
    "    \"DMND_RESN_6\", \"DMND_RESN_7\",\n",
    "    \"HEED_HOSP\",\n",
    "    \"HOSP_LOC_CLOSE\", \"HOSP_LOC_NORMAL\", \"HOSP_LOC_FAR\",\n",
    "    \"HOSP_SPEC_1\", \"HOSP_SPEC_2\", \"HOSP_SPEC_3\", \"HOSP_SPEC_4\", \"HOSP_SPEC_5\", \n",
    "    \"HOSP_SPEC_6\", \"HOSP_SPEC_7\", \"HOSP_SPEC_8\", \"HOSP_SPEC_9\", \"HOSP_SPEC_10\", \n",
    "]].agg(\"sum\").reset_index()"
   ]
  },
  {
   "cell_type": "code",
   "execution_count": 61,
   "metadata": {},
   "outputs": [],
   "source": [
    "claim_doc_data_2[\"ACCI_DVSN\"] = \\\n",
    "    claim_doc_data_2[\"ACCI_DVSN_1\"] \\\n",
    "    + claim_doc_data_2[\"ACCI_DVSN_2\"] \\\n",
    "    + claim_doc_data_2[\"ACCI_DVSN_3\"]\n",
    "claim_doc_data_2.loc[claim_doc_data_2[\"ACCI_DVSN\"] == 0, \"ACCI_DVSN\"] = 1\n",
    "\n",
    "claim_doc_data_2[\"ACCI_DVSN_1\"] = claim_doc_data_2[\"ACCI_DVSN_1\"] / claim_doc_data_2[\"ACCI_DVSN\"]\n",
    "claim_doc_data_2[\"ACCI_DVSN_2\"] = claim_doc_data_2[\"ACCI_DVSN_2\"] / claim_doc_data_2[\"ACCI_DVSN\"]\n",
    "claim_doc_data_2[\"ACCI_DVSN_3\"] = claim_doc_data_2[\"ACCI_DVSN_3\"] / claim_doc_data_2[\"ACCI_DVSN\"]\n",
    "\n",
    "claim_doc_data_2 = claim_doc_data_2.drop([\"ACCI_DVSN\"], axis=1)"
   ]
  },
  {
   "cell_type": "code",
   "execution_count": 62,
   "metadata": {},
   "outputs": [],
   "source": [
    "claim_doc_data_2[\"DMND_RESN\"] = \\\n",
    "    claim_doc_data_2[\"DMND_RESN_1\"] \\\n",
    "    + claim_doc_data_2[\"DMND_RESN_2\"] \\\n",
    "    + claim_doc_data_2[\"DMND_RESN_3\"] \\\n",
    "    + claim_doc_data_2[\"DMND_RESN_4\"] \\\n",
    "    + claim_doc_data_2[\"DMND_RESN_5\"] \\\n",
    "    + claim_doc_data_2[\"DMND_RESN_6\"] \\\n",
    "    + claim_doc_data_2[\"DMND_RESN_7\"]\n",
    "claim_doc_data_2.loc[claim_doc_data_2[\"DMND_RESN\"] == 0, \"DMND_RESN\"] = 1\n",
    "\n",
    "claim_doc_data_2[\"DMND_RESN_1\"] = claim_doc_data_2[\"DMND_RESN_1\"] / claim_doc_data_2[\"DMND_RESN\"]\n",
    "claim_doc_data_2[\"DMND_RESN_2\"] = claim_doc_data_2[\"DMND_RESN_2\"] / claim_doc_data_2[\"DMND_RESN\"]\n",
    "claim_doc_data_2[\"DMND_RESN_3\"] = claim_doc_data_2[\"DMND_RESN_3\"] / claim_doc_data_2[\"DMND_RESN\"]\n",
    "claim_doc_data_2[\"DMND_RESN_4\"] = claim_doc_data_2[\"DMND_RESN_4\"] / claim_doc_data_2[\"DMND_RESN\"]\n",
    "claim_doc_data_2[\"DMND_RESN_5\"] = claim_doc_data_2[\"DMND_RESN_5\"] / claim_doc_data_2[\"DMND_RESN\"]\n",
    "claim_doc_data_2[\"DMND_RESN_6\"] = claim_doc_data_2[\"DMND_RESN_6\"] / claim_doc_data_2[\"DMND_RESN\"]\n",
    "claim_doc_data_2[\"DMND_RESN_7\"] = claim_doc_data_2[\"DMND_RESN_7\"] / claim_doc_data_2[\"DMND_RESN\"]\n",
    "\n",
    "claim_doc_data_2 = claim_doc_data_2.drop([\"DMND_RESN\"], axis=1)"
   ]
  },
  {
   "cell_type": "code",
   "execution_count": 63,
   "metadata": {},
   "outputs": [],
   "source": [
    "claim_doc_data_2[\"HOSP_LOC\"] = \\\n",
    "    claim_doc_data_2[\"HOSP_LOC_CLOSE\"] \\\n",
    "    + claim_doc_data_2[\"HOSP_LOC_NORMAL\"] \\\n",
    "    + claim_doc_data_2[\"HOSP_LOC_FAR\"]\n",
    "claim_doc_data_2.loc[claim_doc_data_2[\"HOSP_LOC\"] == 0, \"HOSP_LOC\"] = 1\n",
    "\n",
    "claim_doc_data_2[\"HOSP_LOC_CLOSE\"] = claim_doc_data_2[\"HOSP_LOC_CLOSE\"] / claim_doc_data_2[\"HOSP_LOC\"]\n",
    "claim_doc_data_2[\"HOSP_LOC_NORMAL\"] = claim_doc_data_2[\"HOSP_LOC_NORMAL\"] / claim_doc_data_2[\"HOSP_LOC\"]\n",
    "claim_doc_data_2[\"HOSP_LOC_FAR\"] = claim_doc_data_2[\"HOSP_LOC_FAR\"] / claim_doc_data_2[\"HOSP_LOC\"]\n",
    "\n",
    "claim_doc_data_2 = claim_doc_data_2.drop([\"HOSP_LOC\"], axis=1)"
   ]
  },
  {
   "cell_type": "code",
   "execution_count": 64,
   "metadata": {},
   "outputs": [],
   "source": [
    "claim_doc_data_2[\"HOSP_SPEC_1\"] = claim_doc_data_2[\"HOSP_SPEC_1\"].apply(lambda num_: 1 if num_ > 0 else 0)\n",
    "claim_doc_data_2[\"HOSP_SPEC_2\"] = claim_doc_data_2[\"HOSP_SPEC_2\"].apply(lambda num_: 1 if num_ > 0 else 0)\n",
    "claim_doc_data_2[\"HOSP_SPEC_3\"] = claim_doc_data_2[\"HOSP_SPEC_3\"].apply(lambda num_: 1 if num_ > 0 else 0)\n",
    "claim_doc_data_2[\"HOSP_SPEC_4\"] = claim_doc_data_2[\"HOSP_SPEC_4\"].apply(lambda num_: 1 if num_ > 0 else 0)\n",
    "claim_doc_data_2[\"HOSP_SPEC_5\"] = claim_doc_data_2[\"HOSP_SPEC_5\"].apply(lambda num_: 1 if num_ > 0 else 0)\n",
    "claim_doc_data_2[\"HOSP_SPEC_6\"] = claim_doc_data_2[\"HOSP_SPEC_6\"].apply(lambda num_: 1 if num_ > 0 else 0)\n",
    "claim_doc_data_2[\"HOSP_SPEC_7\"] = claim_doc_data_2[\"HOSP_SPEC_7\"].apply(lambda num_: 1 if num_ > 0 else 0)\n",
    "claim_doc_data_2[\"HOSP_SPEC_8\"] = claim_doc_data_2[\"HOSP_SPEC_8\"].apply(lambda num_: 1 if num_ > 0 else 0)\n",
    "claim_doc_data_2[\"HOSP_SPEC_9\"] = claim_doc_data_2[\"HOSP_SPEC_9\"].apply(lambda num_: 1 if num_ > 0 else 0)\n",
    "claim_doc_data_2[\"HOSP_SPEC_10\"] = claim_doc_data_2[\"HOSP_SPEC_10\"].apply(lambda num_: 1 if num_ > 0 else 0)"
   ]
  },
  {
   "cell_type": "code",
   "execution_count": 65,
   "metadata": {},
   "outputs": [],
   "source": [
    "temp_index = cust_data[[\"CUST_ID\", \"SIU_CUST_BOOL\"]]\n",
    "claim_doc_data = pd.merge(temp_index, claim_doc_data_1, how=\"left\", on=\"CUST_ID\")\n",
    "claim_doc_data = pd.merge(claim_doc_data, claim_doc_data_2, how=\"left\", on=\"CUST_ID\")\n",
    "del claim_doc_data_1, claim_doc_data_2, temp_index"
   ]
  },
  {
   "cell_type": "code",
   "execution_count": 66,
   "metadata": {},
   "outputs": [],
   "source": [
    "for col in claim_doc_data.columns[2:4]:\n",
    "    claim_doc_data[col] = claim_doc_data[col].fillna(\"{''}\")\n",
    "\n",
    "for col in claim_doc_data.columns[4:]:\n",
    "    claim_doc_data[col] = claim_doc_data[col].fillna(0)"
   ]
  },
  {
   "cell_type": "markdown",
   "metadata": {},
   "source": [
    "##### 분리\n",
    "* train, test 데이터 모두 적용 끝."
   ]
  },
  {
   "cell_type": "code",
   "execution_count": 67,
   "metadata": {},
   "outputs": [
    {
     "name": "stdout",
     "output_type": "stream",
     "text": [
      "True\n",
      "True\n"
     ]
    }
   ],
   "source": [
    "temp_data = cust_data[[\n",
    "    \"CUST_ID\",\n",
    "    \"SEX\",\n",
    "    \"AGE_scaled\",\n",
    "    \"OCCP_RELEVENT_1\",\n",
    "    \"OCCP_RELEVENT_2\",\n",
    "    \"OCCP_RELEVENT_3\",\n",
    "    \"OCCP_RELEVENT_4\",\n",
    "    \"OCCP_RELEVENT_5\",\n",
    "    \"OCCP_RELEVENT_6\",\n",
    "    \"OCCP_RELEVENT_7\",\n",
    "    \"OCCP_RELEVENT_8\",\n",
    "    \"OCCP_RELEVENT_9\",\n",
    "    \"OCCP_RELEVENT_10\",\n",
    "    \"OCCP_RELEVENT_11\",\n",
    "    \"OCCP_RELEVENT_12\",\n",
    "    \"OCCP_RELEVENT_13\",\n",
    "    \"FP_CAREER_BOOL\", \"CHANGE_FP_BOOL\",\n",
    "    \"MAX_RGST_SUB_M_scaled\", \"RECP_RESN_SUB_Dmean_scaled\", \"RECP_HOSP_SUB_Dmean_scaled\",\n",
    "    \"TOTALPREM\", \"MAX_PRM\", \n",
    "    \"CUST_INCM\", \"RCBASE_HSHD_INCM\", \"JPBASE_HSHD_INCM\", \n",
    "    \"DMND_AMT\", \"PAYM_AMT\",\n",
    "    \"MINCRDT_scaled\", \"MAXCRDT_scaled\", \"AVGCRDT_scaled\", \"SUBCRDT_scaled\",\n",
    "    \"WEDD_BOOL\"\n",
    "]]\n",
    "\n",
    "cust_train_data = pd.merge(train_index, temp_data, how=\"left\", on=\"CUST_ID\")\n",
    "cust_test_data = pd.merge(test_index, temp_data, how=\"left\", on=\"CUST_ID\")\n",
    "\n",
    "print(len(train_index) == len(cust_train_data))\n",
    "print(len(test_index) == len(cust_test_data))\n",
    "\n",
    "del temp_data"
   ]
  },
  {
   "cell_type": "code",
   "execution_count": 68,
   "metadata": {},
   "outputs": [
    {
     "name": "stdout",
     "output_type": "stream",
     "text": [
      "True\n",
      "True\n"
     ]
    }
   ],
   "source": [
    "temp_data = claim_doc_data.drop([\"SIU_CUST_BOOL\"], axis=1)\n",
    "\n",
    "doc_train_data = pd.merge(train_index, temp_data, how=\"left\", on=\"CUST_ID\")\n",
    "doc_test_data = pd.merge(test_index, temp_data, how=\"left\", on=\"CUST_ID\")\n",
    "\n",
    "print(len(train_index) == len(doc_train_data))\n",
    "print(len(test_index) == len(doc_test_data))\n",
    "\n",
    "del temp_data"
   ]
  },
  {
   "cell_type": "code",
   "execution_count": 69,
   "metadata": {
    "scrolled": true
   },
   "outputs": [
    {
     "name": "stdout",
     "output_type": "stream",
     "text": [
      "True\n",
      "True\n"
     ]
    }
   ],
   "source": [
    "print(len(cust_train_data) == len(doc_train_data))\n",
    "print(len(cust_test_data) == len(doc_test_data))"
   ]
  },
  {
   "cell_type": "code",
   "execution_count": 70,
   "metadata": {},
   "outputs": [
    {
     "data": {
      "text/html": [
       "<div>\n",
       "<style scoped>\n",
       "    .dataframe tbody tr th:only-of-type {\n",
       "        vertical-align: middle;\n",
       "    }\n",
       "\n",
       "    .dataframe tbody tr th {\n",
       "        vertical-align: top;\n",
       "    }\n",
       "\n",
       "    .dataframe thead th {\n",
       "        text-align: right;\n",
       "    }\n",
       "</style>\n",
       "<table border=\"1\" class=\"dataframe\">\n",
       "  <thead>\n",
       "    <tr style=\"text-align: right;\">\n",
       "      <th></th>\n",
       "      <th>CUST_ID</th>\n",
       "      <th>SIU_CUST_BOOL</th>\n",
       "      <th>SEX</th>\n",
       "      <th>AGE_scaled</th>\n",
       "      <th>OCCP_RELEVENT_1</th>\n",
       "      <th>OCCP_RELEVENT_2</th>\n",
       "      <th>OCCP_RELEVENT_3</th>\n",
       "      <th>OCCP_RELEVENT_4</th>\n",
       "      <th>OCCP_RELEVENT_5</th>\n",
       "      <th>OCCP_RELEVENT_6</th>\n",
       "      <th>...</th>\n",
       "      <th>CUST_INCM</th>\n",
       "      <th>RCBASE_HSHD_INCM</th>\n",
       "      <th>JPBASE_HSHD_INCM</th>\n",
       "      <th>DMND_AMT</th>\n",
       "      <th>PAYM_AMT</th>\n",
       "      <th>MINCRDT_scaled</th>\n",
       "      <th>MAXCRDT_scaled</th>\n",
       "      <th>AVGCRDT_scaled</th>\n",
       "      <th>SUBCRDT_scaled</th>\n",
       "      <th>WEDD_BOOL</th>\n",
       "    </tr>\n",
       "  </thead>\n",
       "  <tbody>\n",
       "    <tr>\n",
       "      <th>0</th>\n",
       "      <td>17766</td>\n",
       "      <td>1</td>\n",
       "      <td>0</td>\n",
       "      <td>0.330078</td>\n",
       "      <td>0</td>\n",
       "      <td>0</td>\n",
       "      <td>1</td>\n",
       "      <td>0</td>\n",
       "      <td>0</td>\n",
       "      <td>0</td>\n",
       "      <td>...</td>\n",
       "      <td>3302.0</td>\n",
       "      <td>5975.0</td>\n",
       "      <td>3302.0</td>\n",
       "      <td>7082353</td>\n",
       "      <td>7082353</td>\n",
       "      <td>0.5</td>\n",
       "      <td>0.6</td>\n",
       "      <td>0.55</td>\n",
       "      <td>0.1</td>\n",
       "      <td>0</td>\n",
       "    </tr>\n",
       "    <tr>\n",
       "      <th>1</th>\n",
       "      <td>10914</td>\n",
       "      <td>0</td>\n",
       "      <td>0</td>\n",
       "      <td>0.330078</td>\n",
       "      <td>0</td>\n",
       "      <td>0</td>\n",
       "      <td>0</td>\n",
       "      <td>0</td>\n",
       "      <td>0</td>\n",
       "      <td>1</td>\n",
       "      <td>...</td>\n",
       "      <td>3114.0</td>\n",
       "      <td>8345.0</td>\n",
       "      <td>3114.0</td>\n",
       "      <td>1918480</td>\n",
       "      <td>1918480</td>\n",
       "      <td>0.6</td>\n",
       "      <td>0.6</td>\n",
       "      <td>0.60</td>\n",
       "      <td>0.0</td>\n",
       "      <td>0</td>\n",
       "    </tr>\n",
       "    <tr>\n",
       "      <th>2</th>\n",
       "      <td>772</td>\n",
       "      <td>0</td>\n",
       "      <td>1</td>\n",
       "      <td>0.520020</td>\n",
       "      <td>0</td>\n",
       "      <td>1</td>\n",
       "      <td>0</td>\n",
       "      <td>0</td>\n",
       "      <td>0</td>\n",
       "      <td>1</td>\n",
       "      <td>...</td>\n",
       "      <td>5012.0</td>\n",
       "      <td>9358.0</td>\n",
       "      <td>5012.0</td>\n",
       "      <td>1800000</td>\n",
       "      <td>1800000</td>\n",
       "      <td>0.6</td>\n",
       "      <td>0.6</td>\n",
       "      <td>0.60</td>\n",
       "      <td>0.0</td>\n",
       "      <td>1</td>\n",
       "    </tr>\n",
       "    <tr>\n",
       "      <th>3</th>\n",
       "      <td>20185</td>\n",
       "      <td>0</td>\n",
       "      <td>0</td>\n",
       "      <td>0.479980</td>\n",
       "      <td>0</td>\n",
       "      <td>0</td>\n",
       "      <td>1</td>\n",
       "      <td>0</td>\n",
       "      <td>0</td>\n",
       "      <td>0</td>\n",
       "      <td>...</td>\n",
       "      <td>3820.0</td>\n",
       "      <td>3793.0</td>\n",
       "      <td>8618.0</td>\n",
       "      <td>3320000</td>\n",
       "      <td>3320000</td>\n",
       "      <td>0.3</td>\n",
       "      <td>0.6</td>\n",
       "      <td>0.45</td>\n",
       "      <td>0.3</td>\n",
       "      <td>1</td>\n",
       "    </tr>\n",
       "    <tr>\n",
       "      <th>4</th>\n",
       "      <td>10295</td>\n",
       "      <td>0</td>\n",
       "      <td>1</td>\n",
       "      <td>0.219971</td>\n",
       "      <td>1</td>\n",
       "      <td>0</td>\n",
       "      <td>0</td>\n",
       "      <td>0</td>\n",
       "      <td>0</td>\n",
       "      <td>0</td>\n",
       "      <td>...</td>\n",
       "      <td>0.0</td>\n",
       "      <td>2447.0</td>\n",
       "      <td>2411.0</td>\n",
       "      <td>1180302</td>\n",
       "      <td>1180000</td>\n",
       "      <td>0.6</td>\n",
       "      <td>0.6</td>\n",
       "      <td>0.60</td>\n",
       "      <td>0.0</td>\n",
       "      <td>0</td>\n",
       "    </tr>\n",
       "  </tbody>\n",
       "</table>\n",
       "<p>5 rows × 34 columns</p>\n",
       "</div>"
      ],
      "text/plain": [
       "   CUST_ID  SIU_CUST_BOOL  SEX  AGE_scaled  OCCP_RELEVENT_1  OCCP_RELEVENT_2  \\\n",
       "0    17766              1    0    0.330078                0                0   \n",
       "1    10914              0    0    0.330078                0                0   \n",
       "2      772              0    1    0.520020                0                1   \n",
       "3    20185              0    0    0.479980                0                0   \n",
       "4    10295              0    1    0.219971                1                0   \n",
       "\n",
       "   OCCP_RELEVENT_3  OCCP_RELEVENT_4  OCCP_RELEVENT_5  OCCP_RELEVENT_6  ...  \\\n",
       "0                1                0                0                0  ...   \n",
       "1                0                0                0                1  ...   \n",
       "2                0                0                0                1  ...   \n",
       "3                1                0                0                0  ...   \n",
       "4                0                0                0                0  ...   \n",
       "\n",
       "   CUST_INCM  RCBASE_HSHD_INCM  JPBASE_HSHD_INCM  DMND_AMT  PAYM_AMT  \\\n",
       "0     3302.0            5975.0            3302.0   7082353   7082353   \n",
       "1     3114.0            8345.0            3114.0   1918480   1918480   \n",
       "2     5012.0            9358.0            5012.0   1800000   1800000   \n",
       "3     3820.0            3793.0            8618.0   3320000   3320000   \n",
       "4        0.0            2447.0            2411.0   1180302   1180000   \n",
       "\n",
       "   MINCRDT_scaled  MAXCRDT_scaled  AVGCRDT_scaled  SUBCRDT_scaled  WEDD_BOOL  \n",
       "0             0.5             0.6            0.55             0.1          0  \n",
       "1             0.6             0.6            0.60             0.0          0  \n",
       "2             0.6             0.6            0.60             0.0          1  \n",
       "3             0.3             0.6            0.45             0.3          1  \n",
       "4             0.6             0.6            0.60             0.0          0  \n",
       "\n",
       "[5 rows x 34 columns]"
      ]
     },
     "execution_count": 70,
     "metadata": {},
     "output_type": "execute_result"
    }
   ],
   "source": [
    "cust_train_data.head()"
   ]
  },
  {
   "cell_type": "code",
   "execution_count": 71,
   "metadata": {},
   "outputs": [
    {
     "data": {
      "text/html": [
       "<div>\n",
       "<style scoped>\n",
       "    .dataframe tbody tr th:only-of-type {\n",
       "        vertical-align: middle;\n",
       "    }\n",
       "\n",
       "    .dataframe tbody tr th {\n",
       "        vertical-align: top;\n",
       "    }\n",
       "\n",
       "    .dataframe thead th {\n",
       "        text-align: right;\n",
       "    }\n",
       "</style>\n",
       "<table border=\"1\" class=\"dataframe\">\n",
       "  <thead>\n",
       "    <tr style=\"text-align: right;\">\n",
       "      <th></th>\n",
       "      <th>CUST_ID</th>\n",
       "      <th>SIU_CUST_BOOL</th>\n",
       "      <th>DSAS_LIST</th>\n",
       "      <th>RESL_LIST</th>\n",
       "      <th>ACCI_DVSN_1</th>\n",
       "      <th>ACCI_DVSN_2</th>\n",
       "      <th>ACCI_DVSN_3</th>\n",
       "      <th>DMND_RESN_1</th>\n",
       "      <th>DMND_RESN_2</th>\n",
       "      <th>DMND_RESN_3</th>\n",
       "      <th>...</th>\n",
       "      <th>HOSP_SPEC_1</th>\n",
       "      <th>HOSP_SPEC_2</th>\n",
       "      <th>HOSP_SPEC_3</th>\n",
       "      <th>HOSP_SPEC_4</th>\n",
       "      <th>HOSP_SPEC_5</th>\n",
       "      <th>HOSP_SPEC_6</th>\n",
       "      <th>HOSP_SPEC_7</th>\n",
       "      <th>HOSP_SPEC_8</th>\n",
       "      <th>HOSP_SPEC_9</th>\n",
       "      <th>HOSP_SPEC_10</th>\n",
       "    </tr>\n",
       "  </thead>\n",
       "  <tbody>\n",
       "    <tr>\n",
       "      <th>0</th>\n",
       "      <td>17766</td>\n",
       "      <td>1</td>\n",
       "      <td>[족, 재건, 족관절염좌, 경추, 경추염좌, 양, 견, 급성, 벽, 양측견관절염좌,...</td>\n",
       "      <td>[부위, 상세불명부위, 경추, 발목, 탈구, 추, 상, 관절, 급성, 불명, 발, ...</td>\n",
       "      <td>0.916667</td>\n",
       "      <td>0.0</td>\n",
       "      <td>0.083333</td>\n",
       "      <td>0.0</td>\n",
       "      <td>0.583333</td>\n",
       "      <td>0.250000</td>\n",
       "      <td>...</td>\n",
       "      <td>1.0</td>\n",
       "      <td>1.0</td>\n",
       "      <td>1.0</td>\n",
       "      <td>0.0</td>\n",
       "      <td>0.0</td>\n",
       "      <td>0.0</td>\n",
       "      <td>0.0</td>\n",
       "      <td>0.0</td>\n",
       "      <td>0.0</td>\n",
       "      <td>0.0</td>\n",
       "    </tr>\n",
       "    <tr>\n",
       "      <th>1</th>\n",
       "      <td>10914</td>\n",
       "      <td>0</td>\n",
       "      <td>[요추염좌, 요추부수핵탈출증, 부수, 탈출증, 요추염좌외, 요추, 외, 핵, 염좌]</td>\n",
       "      <td>[관절, 허리뼈, 요추, 탈구, 인대, 골반, 긴장, 염좌]</td>\n",
       "      <td>1.000000</td>\n",
       "      <td>0.0</td>\n",
       "      <td>0.000000</td>\n",
       "      <td>0.0</td>\n",
       "      <td>0.222222</td>\n",
       "      <td>0.777778</td>\n",
       "      <td>...</td>\n",
       "      <td>1.0</td>\n",
       "      <td>0.0</td>\n",
       "      <td>1.0</td>\n",
       "      <td>0.0</td>\n",
       "      <td>0.0</td>\n",
       "      <td>0.0</td>\n",
       "      <td>0.0</td>\n",
       "      <td>0.0</td>\n",
       "      <td>0.0</td>\n",
       "      <td>0.0</td>\n",
       "    </tr>\n",
       "    <tr>\n",
       "      <th>2</th>\n",
       "      <td>772</td>\n",
       "      <td>0</td>\n",
       "      <td>[우측, 생물, 골절, 치루, 근본, 불명결장, 2, 절제술, 치루근본절제술, 불명...</td>\n",
       "      <td>[생물, 골절, 직장부의, 흉골, 항문, 양성, 부의, 흉추, 열구, 누공, 결장,...</td>\n",
       "      <td>0.333333</td>\n",
       "      <td>0.0</td>\n",
       "      <td>0.666667</td>\n",
       "      <td>0.0</td>\n",
       "      <td>0.000000</td>\n",
       "      <td>0.000000</td>\n",
       "      <td>...</td>\n",
       "      <td>1.0</td>\n",
       "      <td>1.0</td>\n",
       "      <td>0.0</td>\n",
       "      <td>0.0</td>\n",
       "      <td>0.0</td>\n",
       "      <td>0.0</td>\n",
       "      <td>0.0</td>\n",
       "      <td>0.0</td>\n",
       "      <td>0.0</td>\n",
       "      <td>0.0</td>\n",
       "    </tr>\n",
       "  </tbody>\n",
       "</table>\n",
       "<p>3 rows × 28 columns</p>\n",
       "</div>"
      ],
      "text/plain": [
       "   CUST_ID  SIU_CUST_BOOL                                          DSAS_LIST  \\\n",
       "0    17766              1  [족, 재건, 족관절염좌, 경추, 경추염좌, 양, 견, 급성, 벽, 양측견관절염좌,...   \n",
       "1    10914              0     [요추염좌, 요추부수핵탈출증, 부수, 탈출증, 요추염좌외, 요추, 외, 핵, 염좌]   \n",
       "2      772              0  [우측, 생물, 골절, 치루, 근본, 불명결장, 2, 절제술, 치루근본절제술, 불명...   \n",
       "\n",
       "                                           RESL_LIST  ACCI_DVSN_1  \\\n",
       "0  [부위, 상세불명부위, 경추, 발목, 탈구, 추, 상, 관절, 급성, 불명, 발, ...     0.916667   \n",
       "1                  [관절, 허리뼈, 요추, 탈구, 인대, 골반, 긴장, 염좌]     1.000000   \n",
       "2  [생물, 골절, 직장부의, 흉골, 항문, 양성, 부의, 흉추, 열구, 누공, 결장,...     0.333333   \n",
       "\n",
       "   ACCI_DVSN_2  ACCI_DVSN_3  DMND_RESN_1  DMND_RESN_2  DMND_RESN_3  ...  \\\n",
       "0          0.0     0.083333          0.0     0.583333     0.250000  ...   \n",
       "1          0.0     0.000000          0.0     0.222222     0.777778  ...   \n",
       "2          0.0     0.666667          0.0     0.000000     0.000000  ...   \n",
       "\n",
       "   HOSP_SPEC_1  HOSP_SPEC_2  HOSP_SPEC_3  HOSP_SPEC_4  HOSP_SPEC_5  \\\n",
       "0          1.0          1.0          1.0          0.0          0.0   \n",
       "1          1.0          0.0          1.0          0.0          0.0   \n",
       "2          1.0          1.0          0.0          0.0          0.0   \n",
       "\n",
       "   HOSP_SPEC_6  HOSP_SPEC_7  HOSP_SPEC_8  HOSP_SPEC_9  HOSP_SPEC_10  \n",
       "0          0.0          0.0          0.0          0.0           0.0  \n",
       "1          0.0          0.0          0.0          0.0           0.0  \n",
       "2          0.0          0.0          0.0          0.0           0.0  \n",
       "\n",
       "[3 rows x 28 columns]"
      ]
     },
     "execution_count": 71,
     "metadata": {},
     "output_type": "execute_result"
    }
   ],
   "source": [
    "doc_train_data.head(3)"
   ]
  },
  {
   "cell_type": "markdown",
   "metadata": {},
   "source": [
    "### train 데이터에 적용"
   ]
  },
  {
   "cell_type": "markdown",
   "metadata": {},
   "source": [
    "#### 고려하지 않을 변수 확인"
   ]
  },
  {
   "cell_type": "markdown",
   "metadata": {},
   "source": [
    "###### 고객 개인 데이터(2)"
   ]
  },
  {
   "cell_type": "code",
   "execution_count": 72,
   "metadata": {},
   "outputs": [],
   "source": [
    "temp_df = cust_train_data.drop(\"CUST_ID\", axis=1)"
   ]
  },
  {
   "cell_type": "code",
   "execution_count": 73,
   "metadata": {},
   "outputs": [
    {
     "data": {
      "text/plain": [
       "<matplotlib.axes._subplots.AxesSubplot at 0x286293600c8>"
      ]
     },
     "execution_count": 73,
     "metadata": {},
     "output_type": "execute_result"
    },
    {
     "data": {
      "image/png": "[encoded data removed]",
      "text/plain": [
       "<Figure size 1152x1152 with 2 Axes>"
      ]
     },
     "metadata": {
      "needs_background": "light"
     },
     "output_type": "display_data"
    }
   ],
   "source": [
    "corrs = temp_df.corr()\n",
    "corrs = corrs.apply(round, ndigits=1) # 소수 첫번째 자리까지\n",
    "corrs = corrs.apply(abs) # 부호 보지 않음\n",
    "plt.figure(figsize=(16, 16))\n",
    "sns.heatmap(corrs, annot=True)"
   ]
  },
  {
   "cell_type": "code",
   "execution_count": 74,
   "metadata": {},
   "outputs": [],
   "source": [
    "temp_df = temp_df.drop([\n",
    "    \"AGE_scaled\", # 직업_학생(OCCP_RELEVENT_1)과 상관계수 너무 높음\n",
    "    \"RECP_RESN_SUB_Dmean_scaled\", # 접수일자-퇴원일자(RECP_HOSP_SUB)와 상관계수 너무 높음\n",
    "    \"PAYM_AMT\", # 청구금액(DMND_AMT)과 상관계수 너무 높음\n",
    "    \"MINCRDT_scaled\", \"MAXCRDT_scaled\" # 평균 신용등급(AVGCRDT)과 상관계수 너무 높음\n",
    "], axis=1)\n",
    "\n",
    "cust_train_data = cust_train_data.drop([\n",
    "    \"AGE_scaled\", \"RECP_RESN_SUB_Dmean_scaled\", \"PAYM_AMT\", \"MINCRDT_scaled\", \"MAXCRDT_scaled\"\n",
    "], axis=1)\n",
    "cust_test_data = cust_test_data.drop([\n",
    "    \"AGE_scaled\", \"RECP_RESN_SUB_Dmean_scaled\", \"PAYM_AMT\", \"MINCRDT_scaled\", \"MAXCRDT_scaled\"\n",
    "], axis=1)"
   ]
  },
  {
   "cell_type": "code",
   "execution_count": 75,
   "metadata": {},
   "outputs": [],
   "source": [
    "temp_y = temp_df.iloc[:, 0]\n",
    "temp_X = temp_df.iloc[:, 1:]"
   ]
  },
  {
   "cell_type": "code",
   "execution_count": 76,
   "metadata": {},
   "outputs": [
    {
     "data": {
      "text/html": [
       "<table class=\"simpletable\">\n",
       "<caption>OLS Regression Results</caption>\n",
       "<tr>\n",
       "  <th>Dep. Variable:</th>      <td>SIU_CUST_BOOL</td>  <th>  R-squared:         </th> <td>   0.059</td> \n",
       "</tr>\n",
       "<tr>\n",
       "  <th>Model:</th>                   <td>OLS</td>       <th>  Adj. R-squared:    </th> <td>   0.057</td> \n",
       "</tr>\n",
       "<tr>\n",
       "  <th>Method:</th>             <td>Least Squares</td>  <th>  F-statistic:       </th> <td>   33.20</td> \n",
       "</tr>\n",
       "<tr>\n",
       "  <th>Date:</th>             <td>Tue, 25 Aug 2020</td> <th>  Prob (F-statistic):</th> <td>5.98e-166</td>\n",
       "</tr>\n",
       "<tr>\n",
       "  <th>Time:</th>                 <td>22:08:08</td>     <th>  Log-Likelihood:    </th> <td> -1811.3</td> \n",
       "</tr>\n",
       "<tr>\n",
       "  <th>No. Observations:</th>      <td> 14424</td>      <th>  AIC:               </th> <td>   3679.</td> \n",
       "</tr>\n",
       "<tr>\n",
       "  <th>Df Residuals:</th>          <td> 14396</td>      <th>  BIC:               </th> <td>   3891.</td> \n",
       "</tr>\n",
       "<tr>\n",
       "  <th>Df Model:</th>              <td>    27</td>      <th>                     </th>     <td> </td>    \n",
       "</tr>\n",
       "<tr>\n",
       "  <th>Covariance Type:</th>      <td>nonrobust</td>    <th>                     </th>     <td> </td>    \n",
       "</tr>\n",
       "</table>\n",
       "<table class=\"simpletable\">\n",
       "<tr>\n",
       "               <td></td>                 <th>coef</th>     <th>std err</th>      <th>t</th>      <th>P>|t|</th>  <th>[0.025</th>    <th>0.975]</th>  \n",
       "</tr>\n",
       "<tr>\n",
       "  <th>const</th>                      <td>   -0.0620</td> <td>    0.020</td> <td>   -3.028</td> <td> 0.002</td> <td>   -0.102</td> <td>   -0.022</td>\n",
       "</tr>\n",
       "<tr>\n",
       "  <th>SEX</th>                        <td>   -0.0229</td> <td>    0.005</td> <td>   -4.269</td> <td> 0.000</td> <td>   -0.033</td> <td>   -0.012</td>\n",
       "</tr>\n",
       "<tr>\n",
       "  <th>OCCP_RELEVENT_1</th>            <td>    0.0140</td> <td>    0.008</td> <td>    1.769</td> <td> 0.077</td> <td>   -0.002</td> <td>    0.029</td>\n",
       "</tr>\n",
       "<tr>\n",
       "  <th>OCCP_RELEVENT_2</th>            <td>    0.0216</td> <td>    0.006</td> <td>    3.367</td> <td> 0.001</td> <td>    0.009</td> <td>    0.034</td>\n",
       "</tr>\n",
       "<tr>\n",
       "  <th>OCCP_RELEVENT_3</th>            <td>    0.0358</td> <td>    0.007</td> <td>    5.117</td> <td> 0.000</td> <td>    0.022</td> <td>    0.050</td>\n",
       "</tr>\n",
       "<tr>\n",
       "  <th>OCCP_RELEVENT_4</th>            <td>   -0.0062</td> <td>    0.009</td> <td>   -0.688</td> <td> 0.491</td> <td>   -0.024</td> <td>    0.012</td>\n",
       "</tr>\n",
       "<tr>\n",
       "  <th>OCCP_RELEVENT_5</th>            <td>    0.0870</td> <td>    0.031</td> <td>    2.780</td> <td> 0.005</td> <td>    0.026</td> <td>    0.148</td>\n",
       "</tr>\n",
       "<tr>\n",
       "  <th>OCCP_RELEVENT_6</th>            <td>   -0.0222</td> <td>    0.008</td> <td>   -2.707</td> <td> 0.007</td> <td>   -0.038</td> <td>   -0.006</td>\n",
       "</tr>\n",
       "<tr>\n",
       "  <th>OCCP_RELEVENT_7</th>            <td>    0.0014</td> <td>    0.006</td> <td>    0.219</td> <td> 0.827</td> <td>   -0.011</td> <td>    0.014</td>\n",
       "</tr>\n",
       "<tr>\n",
       "  <th>OCCP_RELEVENT_8</th>            <td>    0.0135</td> <td>    0.006</td> <td>    2.153</td> <td> 0.031</td> <td>    0.001</td> <td>    0.026</td>\n",
       "</tr>\n",
       "<tr>\n",
       "  <th>OCCP_RELEVENT_9</th>            <td>   -0.0317</td> <td>    0.009</td> <td>   -3.497</td> <td> 0.000</td> <td>   -0.050</td> <td>   -0.014</td>\n",
       "</tr>\n",
       "<tr>\n",
       "  <th>OCCP_RELEVENT_10</th>           <td>   -0.0375</td> <td>    0.014</td> <td>   -2.707</td> <td> 0.007</td> <td>   -0.065</td> <td>   -0.010</td>\n",
       "</tr>\n",
       "<tr>\n",
       "  <th>OCCP_RELEVENT_11</th>           <td>   -0.0313</td> <td>    0.013</td> <td>   -2.423</td> <td> 0.015</td> <td>   -0.057</td> <td>   -0.006</td>\n",
       "</tr>\n",
       "<tr>\n",
       "  <th>OCCP_RELEVENT_12</th>           <td>   -0.0366</td> <td>    0.015</td> <td>   -2.474</td> <td> 0.013</td> <td>   -0.066</td> <td>   -0.008</td>\n",
       "</tr>\n",
       "<tr>\n",
       "  <th>OCCP_RELEVENT_13</th>           <td>   -0.0240</td> <td>    0.016</td> <td>   -1.475</td> <td> 0.140</td> <td>   -0.056</td> <td>    0.008</td>\n",
       "</tr>\n",
       "<tr>\n",
       "  <th>FP_CAREER_BOOL</th>             <td>    0.0351</td> <td>    0.010</td> <td>    3.377</td> <td> 0.001</td> <td>    0.015</td> <td>    0.055</td>\n",
       "</tr>\n",
       "<tr>\n",
       "  <th>CHANGE_FP_BOOL</th>             <td>    0.0244</td> <td>    0.005</td> <td>    5.213</td> <td> 0.000</td> <td>    0.015</td> <td>    0.034</td>\n",
       "</tr>\n",
       "<tr>\n",
       "  <th>MAX_RGST_SUB_M_scaled</th>      <td>    0.0156</td> <td>    0.004</td> <td>    3.505</td> <td> 0.000</td> <td>    0.007</td> <td>    0.024</td>\n",
       "</tr>\n",
       "<tr>\n",
       "  <th>RECP_HOSP_SUB_Dmean_scaled</th> <td>    0.0774</td> <td>    0.007</td> <td>   11.507</td> <td> 0.000</td> <td>    0.064</td> <td>    0.091</td>\n",
       "</tr>\n",
       "<tr>\n",
       "  <th>TOTALPREM</th>                  <td>-1.434e-10</td> <td> 6.84e-11</td> <td>   -2.097</td> <td> 0.036</td> <td>-2.77e-10</td> <td>-9.36e-12</td>\n",
       "</tr>\n",
       "<tr>\n",
       "  <th>MAX_PRM</th>                    <td> 8.592e-09</td> <td>  2.4e-09</td> <td>    3.583</td> <td> 0.000</td> <td> 3.89e-09</td> <td> 1.33e-08</td>\n",
       "</tr>\n",
       "<tr>\n",
       "  <th>CUST_INCM</th>                  <td> 4.058e-06</td> <td> 1.43e-06</td> <td>    2.836</td> <td> 0.005</td> <td> 1.25e-06</td> <td> 6.86e-06</td>\n",
       "</tr>\n",
       "<tr>\n",
       "  <th>RCBASE_HSHD_INCM</th>           <td>-3.527e-06</td> <td> 8.81e-07</td> <td>   -4.002</td> <td> 0.000</td> <td>-5.25e-06</td> <td> -1.8e-06</td>\n",
       "</tr>\n",
       "<tr>\n",
       "  <th>JPBASE_HSHD_INCM</th>           <td> 4.886e-07</td> <td> 1.12e-06</td> <td>    0.435</td> <td> 0.663</td> <td>-1.71e-06</td> <td> 2.69e-06</td>\n",
       "</tr>\n",
       "<tr>\n",
       "  <th>DMND_AMT</th>                   <td> 2.866e-09</td> <td> 1.66e-10</td> <td>   17.219</td> <td> 0.000</td> <td> 2.54e-09</td> <td> 3.19e-09</td>\n",
       "</tr>\n",
       "<tr>\n",
       "  <th>AVGCRDT_scaled</th>             <td>    0.2306</td> <td>    0.030</td> <td>    7.659</td> <td> 0.000</td> <td>    0.172</td> <td>    0.290</td>\n",
       "</tr>\n",
       "<tr>\n",
       "  <th>SUBCRDT_scaled</th>             <td>   -0.0790</td> <td>    0.025</td> <td>   -3.099</td> <td> 0.002</td> <td>   -0.129</td> <td>   -0.029</td>\n",
       "</tr>\n",
       "<tr>\n",
       "  <th>WEDD_BOOL</th>                  <td>    0.0008</td> <td>    0.007</td> <td>    0.106</td> <td> 0.915</td> <td>   -0.013</td> <td>    0.015</td>\n",
       "</tr>\n",
       "</table>\n",
       "<table class=\"simpletable\">\n",
       "<tr>\n",
       "  <th>Omnibus:</th>       <td>7625.661</td> <th>  Durbin-Watson:     </th> <td>   2.008</td> \n",
       "</tr>\n",
       "<tr>\n",
       "  <th>Prob(Omnibus):</th>  <td> 0.000</td>  <th>  Jarque-Bera (JB):  </th> <td>39192.124</td>\n",
       "</tr>\n",
       "<tr>\n",
       "  <th>Skew:</th>           <td> 2.669</td>  <th>  Prob(JB):          </th> <td>    0.00</td> \n",
       "</tr>\n",
       "<tr>\n",
       "  <th>Kurtosis:</th>       <td> 9.060</td>  <th>  Cond. No.          </th> <td>8.26e+08</td> \n",
       "</tr>\n",
       "</table><br/><br/>Warnings:<br/>[1] Standard Errors assume that the covariance matrix of the errors is correctly specified.<br/>[2] The condition number is large, 8.26e+08. This might indicate that there are<br/>strong multicollinearity or other numerical problems."
      ],
      "text/plain": [
       "<class 'statsmodels.iolib.summary.Summary'>\n",
       "\"\"\"\n",
       "                            OLS Regression Results                            \n",
       "==============================================================================\n",
       "Dep. Variable:          SIU_CUST_BOOL   R-squared:                       0.059\n",
       "Model:                            OLS   Adj. R-squared:                  0.057\n",
       "Method:                 Least Squares   F-statistic:                     33.20\n",
       "Date:                Tue, 25 Aug 2020   Prob (F-statistic):          5.98e-166\n",
       "Time:                        22:08:08   Log-Likelihood:                -1811.3\n",
       "No. Observations:               14424   AIC:                             3679.\n",
       "Df Residuals:                   14396   BIC:                             3891.\n",
       "Df Model:                          27                                         \n",
       "Covariance Type:            nonrobust                                         \n",
       "==============================================================================================\n",
       "                                 coef    std err          t      P>|t|      [0.025      0.975]\n",
       "----------------------------------------------------------------------------------------------\n",
       "const                         -0.0620      0.020     -3.028      0.002      -0.102      -0.022\n",
       "SEX                           -0.0229      0.005     -4.269      0.000      -0.033      -0.012\n",
       "OCCP_RELEVENT_1                0.0140      0.008      1.769      0.077      -0.002       0.029\n",
       "OCCP_RELEVENT_2                0.0216      0.006      3.367      0.001       0.009       0.034\n",
       "OCCP_RELEVENT_3                0.0358      0.007      5.117      0.000       0.022       0.050\n",
       "OCCP_RELEVENT_4               -0.0062      0.009     -0.688      0.491      -0.024       0.012\n",
       "OCCP_RELEVENT_5                0.0870      0.031      2.780      0.005       0.026       0.148\n",
       "OCCP_RELEVENT_6               -0.0222      0.008     -2.707      0.007      -0.038      -0.006\n",
       "OCCP_RELEVENT_7                0.0014      0.006      0.219      0.827      -0.011       0.014\n",
       "OCCP_RELEVENT_8                0.0135      0.006      2.153      0.031       0.001       0.026\n",
       "OCCP_RELEVENT_9               -0.0317      0.009     -3.497      0.000      -0.050      -0.014\n",
       "OCCP_RELEVENT_10              -0.0375      0.014     -2.707      0.007      -0.065      -0.010\n",
       "OCCP_RELEVENT_11              -0.0313      0.013     -2.423      0.015      -0.057      -0.006\n",
       "OCCP_RELEVENT_12              -0.0366      0.015     -2.474      0.013      -0.066      -0.008\n",
       "OCCP_RELEVENT_13              -0.0240      0.016     -1.475      0.140      -0.056       0.008\n",
       "FP_CAREER_BOOL                 0.0351      0.010      3.377      0.001       0.015       0.055\n",
       "CHANGE_FP_BOOL                 0.0244      0.005      5.213      0.000       0.015       0.034\n",
       "MAX_RGST_SUB_M_scaled          0.0156      0.004      3.505      0.000       0.007       0.024\n",
       "RECP_HOSP_SUB_Dmean_scaled     0.0774      0.007     11.507      0.000       0.064       0.091\n",
       "TOTALPREM                  -1.434e-10   6.84e-11     -2.097      0.036   -2.77e-10   -9.36e-12\n",
       "MAX_PRM                     8.592e-09    2.4e-09      3.583      0.000    3.89e-09    1.33e-08\n",
       "CUST_INCM                   4.058e-06   1.43e-06      2.836      0.005    1.25e-06    6.86e-06\n",
       "RCBASE_HSHD_INCM           -3.527e-06   8.81e-07     -4.002      0.000   -5.25e-06    -1.8e-06\n",
       "JPBASE_HSHD_INCM            4.886e-07   1.12e-06      0.435      0.663   -1.71e-06    2.69e-06\n",
       "DMND_AMT                    2.866e-09   1.66e-10     17.219      0.000    2.54e-09    3.19e-09\n",
       "AVGCRDT_scaled                 0.2306      0.030      7.659      0.000       0.172       0.290\n",
       "SUBCRDT_scaled                -0.0790      0.025     -3.099      0.002      -0.129      -0.029\n",
       "WEDD_BOOL                      0.0008      0.007      0.106      0.915      -0.013       0.015\n",
       "==============================================================================\n",
       "Omnibus:                     7625.661   Durbin-Watson:                   2.008\n",
       "Prob(Omnibus):                  0.000   Jarque-Bera (JB):            39192.124\n",
       "Skew:                           2.669   Prob(JB):                         0.00\n",
       "Kurtosis:                       9.060   Cond. No.                     8.26e+08\n",
       "==============================================================================\n",
       "\n",
       "Warnings:\n",
       "[1] Standard Errors assume that the covariance matrix of the errors is correctly specified.\n",
       "[2] The condition number is large, 8.26e+08. This might indicate that there are\n",
       "strong multicollinearity or other numerical problems.\n",
       "\"\"\""
      ]
     },
     "execution_count": 76,
     "metadata": {},
     "output_type": "execute_result"
    }
   ],
   "source": [
    "# 유의확률 확인\n",
    "temp_X = sm.add_constant(temp_X)\n",
    "\n",
    "reg = sm.OLS(temp_y, temp_X).fit()\n",
    "\n",
    "reg.summary()"
   ]
  },
  {
   "cell_type": "code",
   "execution_count": 77,
   "metadata": {},
   "outputs": [
    {
     "data": {
      "text/html": [
       "<div>\n",
       "<style scoped>\n",
       "    .dataframe tbody tr th:only-of-type {\n",
       "        vertical-align: middle;\n",
       "    }\n",
       "\n",
       "    .dataframe tbody tr th {\n",
       "        vertical-align: top;\n",
       "    }\n",
       "\n",
       "    .dataframe thead th {\n",
       "        text-align: right;\n",
       "    }\n",
       "</style>\n",
       "<table border=\"1\" class=\"dataframe\">\n",
       "  <thead>\n",
       "    <tr style=\"text-align: right;\">\n",
       "      <th></th>\n",
       "      <th>feature</th>\n",
       "      <th>VIF</th>\n",
       "    </tr>\n",
       "  </thead>\n",
       "  <tbody>\n",
       "    <tr>\n",
       "      <th>0</th>\n",
       "      <td>const</td>\n",
       "      <td>80.215233</td>\n",
       "    </tr>\n",
       "    <tr>\n",
       "      <th>1</th>\n",
       "      <td>SEX</td>\n",
       "      <td>1.353643</td>\n",
       "    </tr>\n",
       "    <tr>\n",
       "      <th>2</th>\n",
       "      <td>OCCP_RELEVENT_1</td>\n",
       "      <td>2.110630</td>\n",
       "    </tr>\n",
       "    <tr>\n",
       "      <th>3</th>\n",
       "      <td>OCCP_RELEVENT_2</td>\n",
       "      <td>1.847533</td>\n",
       "    </tr>\n",
       "    <tr>\n",
       "      <th>4</th>\n",
       "      <td>OCCP_RELEVENT_3</td>\n",
       "      <td>1.402077</td>\n",
       "    </tr>\n",
       "    <tr>\n",
       "      <th>5</th>\n",
       "      <td>OCCP_RELEVENT_4</td>\n",
       "      <td>1.158659</td>\n",
       "    </tr>\n",
       "    <tr>\n",
       "      <th>6</th>\n",
       "      <td>OCCP_RELEVENT_5</td>\n",
       "      <td>1.020151</td>\n",
       "    </tr>\n",
       "    <tr>\n",
       "      <th>7</th>\n",
       "      <td>OCCP_RELEVENT_6</td>\n",
       "      <td>1.235292</td>\n",
       "    </tr>\n",
       "    <tr>\n",
       "      <th>8</th>\n",
       "      <td>OCCP_RELEVENT_7</td>\n",
       "      <td>1.382051</td>\n",
       "    </tr>\n",
       "    <tr>\n",
       "      <th>9</th>\n",
       "      <td>OCCP_RELEVENT_8</td>\n",
       "      <td>1.401984</td>\n",
       "    </tr>\n",
       "    <tr>\n",
       "      <th>10</th>\n",
       "      <td>OCCP_RELEVENT_9</td>\n",
       "      <td>1.148925</td>\n",
       "    </tr>\n",
       "    <tr>\n",
       "      <th>11</th>\n",
       "      <td>OCCP_RELEVENT_10</td>\n",
       "      <td>1.110245</td>\n",
       "    </tr>\n",
       "    <tr>\n",
       "      <th>12</th>\n",
       "      <td>OCCP_RELEVENT_11</td>\n",
       "      <td>1.068347</td>\n",
       "    </tr>\n",
       "    <tr>\n",
       "      <th>13</th>\n",
       "      <td>OCCP_RELEVENT_12</td>\n",
       "      <td>1.067180</td>\n",
       "    </tr>\n",
       "    <tr>\n",
       "      <th>14</th>\n",
       "      <td>OCCP_RELEVENT_13</td>\n",
       "      <td>1.043577</td>\n",
       "    </tr>\n",
       "    <tr>\n",
       "      <th>15</th>\n",
       "      <td>FP_CAREER_BOOL</td>\n",
       "      <td>1.136305</td>\n",
       "    </tr>\n",
       "    <tr>\n",
       "      <th>16</th>\n",
       "      <td>CHANGE_FP_BOOL</td>\n",
       "      <td>1.049663</td>\n",
       "    </tr>\n",
       "    <tr>\n",
       "      <th>17</th>\n",
       "      <td>MAX_RGST_SUB_M_scaled</td>\n",
       "      <td>1.345998</td>\n",
       "    </tr>\n",
       "    <tr>\n",
       "      <th>18</th>\n",
       "      <td>RECP_HOSP_SUB_Dmean_scaled</td>\n",
       "      <td>1.037349</td>\n",
       "    </tr>\n",
       "    <tr>\n",
       "      <th>19</th>\n",
       "      <td>TOTALPREM</td>\n",
       "      <td>1.726050</td>\n",
       "    </tr>\n",
       "    <tr>\n",
       "      <th>20</th>\n",
       "      <td>MAX_PRM</td>\n",
       "      <td>1.508701</td>\n",
       "    </tr>\n",
       "    <tr>\n",
       "      <th>21</th>\n",
       "      <td>CUST_INCM</td>\n",
       "      <td>1.950459</td>\n",
       "    </tr>\n",
       "    <tr>\n",
       "      <th>22</th>\n",
       "      <td>RCBASE_HSHD_INCM</td>\n",
       "      <td>1.406835</td>\n",
       "    </tr>\n",
       "    <tr>\n",
       "      <th>23</th>\n",
       "      <td>JPBASE_HSHD_INCM</td>\n",
       "      <td>1.913241</td>\n",
       "    </tr>\n",
       "    <tr>\n",
       "      <th>24</th>\n",
       "      <td>DMND_AMT</td>\n",
       "      <td>1.079573</td>\n",
       "    </tr>\n",
       "    <tr>\n",
       "      <th>25</th>\n",
       "      <td>AVGCRDT_scaled</td>\n",
       "      <td>1.280827</td>\n",
       "    </tr>\n",
       "    <tr>\n",
       "      <th>26</th>\n",
       "      <td>SUBCRDT_scaled</td>\n",
       "      <td>1.385654</td>\n",
       "    </tr>\n",
       "    <tr>\n",
       "      <th>27</th>\n",
       "      <td>WEDD_BOOL</td>\n",
       "      <td>2.376258</td>\n",
       "    </tr>\n",
       "  </tbody>\n",
       "</table>\n",
       "</div>"
      ],
      "text/plain": [
       "                       feature        VIF\n",
       "0                        const  80.215233\n",
       "1                          SEX   1.353643\n",
       "2              OCCP_RELEVENT_1   2.110630\n",
       "3              OCCP_RELEVENT_2   1.847533\n",
       "4              OCCP_RELEVENT_3   1.402077\n",
       "5              OCCP_RELEVENT_4   1.158659\n",
       "6              OCCP_RELEVENT_5   1.020151\n",
       "7              OCCP_RELEVENT_6   1.235292\n",
       "8              OCCP_RELEVENT_7   1.382051\n",
       "9              OCCP_RELEVENT_8   1.401984\n",
       "10             OCCP_RELEVENT_9   1.148925\n",
       "11            OCCP_RELEVENT_10   1.110245\n",
       "12            OCCP_RELEVENT_11   1.068347\n",
       "13            OCCP_RELEVENT_12   1.067180\n",
       "14            OCCP_RELEVENT_13   1.043577\n",
       "15              FP_CAREER_BOOL   1.136305\n",
       "16              CHANGE_FP_BOOL   1.049663\n",
       "17       MAX_RGST_SUB_M_scaled   1.345998\n",
       "18  RECP_HOSP_SUB_Dmean_scaled   1.037349\n",
       "19                   TOTALPREM   1.726050\n",
       "20                     MAX_PRM   1.508701\n",
       "21                   CUST_INCM   1.950459\n",
       "22            RCBASE_HSHD_INCM   1.406835\n",
       "23            JPBASE_HSHD_INCM   1.913241\n",
       "24                    DMND_AMT   1.079573\n",
       "25              AVGCRDT_scaled   1.280827\n",
       "26              SUBCRDT_scaled   1.385654\n",
       "27                   WEDD_BOOL   2.376258"
      ]
     },
     "execution_count": 77,
     "metadata": {},
     "output_type": "execute_result"
    }
   ],
   "source": [
    "vif_df = pd.DataFrame()\n",
    "vif_df[\"feature\"] = temp_X.columns\n",
    "vif_df[\"VIF\"] = [ vif(temp_X.values, i) for i in range(len(temp_X.columns)) ]\n",
    "\n",
    "vif_df"
   ]
  },
  {
   "cell_type": "code",
   "execution_count": 78,
   "metadata": {},
   "outputs": [],
   "source": [
    "temp_df = temp_df.drop([\n",
    "    \"OCCP_RELEVENT_4\", # 직업_노무직및운전직: 유의확률 - 0.350\n",
    "    \"OCCP_RELEVENT_7\", # 직업_사무직: 유의확률 - 0.924\n",
    "    \"OCCP_RELEVENT_13\", # 직업_고위직: 유의확률 - 0.121\n",
    "    \"JPBASE_HSHD_INCM\", # 가구소득추정금액2: 유의확률 - 0.562\n",
    "    \"WEDD_BOOL\" # 결혼여부: 유의확률 - 0.922 (???)\n",
    "], axis=1)\n",
    "\n",
    "cust_train_data = cust_train_data.drop([\n",
    "    \"OCCP_RELEVENT_4\", \"OCCP_RELEVENT_7\", \"OCCP_RELEVENT_13\", \"JPBASE_HSHD_INCM\", \"WEDD_BOOL\"\n",
    "], axis=1)\n",
    "cust_test_data = cust_test_data.drop([\n",
    "    \"OCCP_RELEVENT_4\", \"OCCP_RELEVENT_7\", \"OCCP_RELEVENT_13\", \"JPBASE_HSHD_INCM\", \"WEDD_BOOL\"\n",
    "], axis=1)"
   ]
  },
  {
   "cell_type": "code",
   "execution_count": 79,
   "metadata": {},
   "outputs": [],
   "source": [
    "del temp_df, temp_X, temp_y"
   ]
  },
  {
   "cell_type": "markdown",
   "metadata": {},
   "source": [
    "###### 개별 사건 데이터(2)"
   ]
  },
  {
   "cell_type": "code",
   "execution_count": 80,
   "metadata": {},
   "outputs": [],
   "source": [
    "temp_df = doc_train_data.drop([\"CUST_ID\", \"DSAS_LIST\", \"RESL_LIST\"], axis=1)"
   ]
  },
  {
   "cell_type": "code",
   "execution_count": 81,
   "metadata": {},
   "outputs": [
    {
     "data": {
      "text/plain": [
       "<matplotlib.axes._subplots.AxesSubplot at 0x2862b567c08>"
      ]
     },
     "execution_count": 81,
     "metadata": {},
     "output_type": "execute_result"
    },
    {
     "data": {
      "image/png": "[encoded data removed]",
      "text/plain": [
       "<Figure size 1152x1152 with 2 Axes>"
      ]
     },
     "metadata": {
      "needs_background": "light"
     },
     "output_type": "display_data"
    }
   ],
   "source": [
    "corrs = temp_df.corr()\n",
    "corrs = corrs.apply(round, ndigits=1) # 소수 첫번째 자리까지\n",
    "corrs = corrs.apply(abs) # 부호 보지 않음\n",
    "plt.figure(figsize=(16, 16))\n",
    "sns.heatmap(corrs, annot=True)"
   ]
  },
  {
   "cell_type": "code",
   "execution_count": 82,
   "metadata": {},
   "outputs": [],
   "source": [
    "temp_y = temp_df.iloc[:, 0]\n",
    "temp_X = temp_df.iloc[:, 1:]"
   ]
  },
  {
   "cell_type": "code",
   "execution_count": 83,
   "metadata": {},
   "outputs": [
    {
     "data": {
      "text/html": [
       "<table class=\"simpletable\">\n",
       "<caption>OLS Regression Results</caption>\n",
       "<tr>\n",
       "  <th>Dep. Variable:</th>      <td>SIU_CUST_BOOL</td>  <th>  R-squared:         </th> <td>   0.232</td>\n",
       "</tr>\n",
       "<tr>\n",
       "  <th>Model:</th>                   <td>OLS</td>       <th>  Adj. R-squared:    </th> <td>   0.231</td>\n",
       "</tr>\n",
       "<tr>\n",
       "  <th>Method:</th>             <td>Least Squares</td>  <th>  F-statistic:       </th> <td>   197.6</td>\n",
       "</tr>\n",
       "<tr>\n",
       "  <th>Date:</th>             <td>Tue, 25 Aug 2020</td> <th>  Prob (F-statistic):</th>  <td>  0.00</td> \n",
       "</tr>\n",
       "<tr>\n",
       "  <th>Time:</th>                 <td>22:08:12</td>     <th>  Log-Likelihood:    </th> <td> -344.05</td>\n",
       "</tr>\n",
       "<tr>\n",
       "  <th>No. Observations:</th>      <td> 14424</td>      <th>  AIC:               </th> <td>   734.1</td>\n",
       "</tr>\n",
       "<tr>\n",
       "  <th>Df Residuals:</th>          <td> 14401</td>      <th>  BIC:               </th> <td>   908.4</td>\n",
       "</tr>\n",
       "<tr>\n",
       "  <th>Df Model:</th>              <td>    22</td>      <th>                     </th>     <td> </td>   \n",
       "</tr>\n",
       "<tr>\n",
       "  <th>Covariance Type:</th>      <td>nonrobust</td>    <th>                     </th>     <td> </td>   \n",
       "</tr>\n",
       "</table>\n",
       "<table class=\"simpletable\">\n",
       "<tr>\n",
       "         <td></td>            <th>coef</th>     <th>std err</th>      <th>t</th>      <th>P>|t|</th>  <th>[0.025</th>    <th>0.975]</th>  \n",
       "</tr>\n",
       "<tr>\n",
       "  <th>const</th>           <td>-6.545e-15</td> <td>    0.175</td> <td>-3.73e-14</td> <td> 1.000</td> <td>   -0.344</td> <td>    0.344</td>\n",
       "</tr>\n",
       "<tr>\n",
       "  <th>ACCI_DVSN_1</th>     <td>    0.0161</td> <td>    0.073</td> <td>    0.221</td> <td> 0.825</td> <td>   -0.126</td> <td>    0.158</td>\n",
       "</tr>\n",
       "<tr>\n",
       "  <th>ACCI_DVSN_2</th>     <td>   -0.0772</td> <td>    0.073</td> <td>   -1.061</td> <td> 0.289</td> <td>   -0.220</td> <td>    0.065</td>\n",
       "</tr>\n",
       "<tr>\n",
       "  <th>ACCI_DVSN_3</th>     <td>   -0.0014</td> <td>    0.073</td> <td>   -0.020</td> <td> 0.984</td> <td>   -0.144</td> <td>    0.141</td>\n",
       "</tr>\n",
       "<tr>\n",
       "  <th>DMND_RESN_1</th>     <td>   -0.0611</td> <td>    0.040</td> <td>   -1.517</td> <td> 0.129</td> <td>   -0.140</td> <td>    0.018</td>\n",
       "</tr>\n",
       "<tr>\n",
       "  <th>DMND_RESN_2</th>     <td>    0.0811</td> <td>    0.034</td> <td>    2.421</td> <td> 0.016</td> <td>    0.015</td> <td>    0.147</td>\n",
       "</tr>\n",
       "<tr>\n",
       "  <th>DMND_RESN_3</th>     <td>   -0.0975</td> <td>    0.034</td> <td>   -2.901</td> <td> 0.004</td> <td>   -0.163</td> <td>   -0.032</td>\n",
       "</tr>\n",
       "<tr>\n",
       "  <th>DMND_RESN_4</th>     <td>    0.3484</td> <td>    0.053</td> <td>    6.538</td> <td> 0.000</td> <td>    0.244</td> <td>    0.453</td>\n",
       "</tr>\n",
       "<tr>\n",
       "  <th>DMND_RESN_5</th>     <td>   -0.0989</td> <td>    0.034</td> <td>   -2.919</td> <td> 0.004</td> <td>   -0.165</td> <td>   -0.032</td>\n",
       "</tr>\n",
       "<tr>\n",
       "  <th>DMND_RESN_6</th>     <td>   -0.1014</td> <td>    0.034</td> <td>   -2.958</td> <td> 0.003</td> <td>   -0.169</td> <td>   -0.034</td>\n",
       "</tr>\n",
       "<tr>\n",
       "  <th>DMND_RESN_7</th>     <td>   -0.1333</td> <td>    0.082</td> <td>   -1.625</td> <td> 0.104</td> <td>   -0.294</td> <td>    0.027</td>\n",
       "</tr>\n",
       "<tr>\n",
       "  <th>HEED_HOSP</th>       <td>    0.0208</td> <td>    0.003</td> <td>    8.129</td> <td> 0.000</td> <td>    0.016</td> <td>    0.026</td>\n",
       "</tr>\n",
       "<tr>\n",
       "  <th>HOSP_LOC_CLOSE</th>  <td>   -0.0216</td> <td>    0.073</td> <td>   -0.298</td> <td> 0.766</td> <td>   -0.164</td> <td>    0.121</td>\n",
       "</tr>\n",
       "<tr>\n",
       "  <th>HOSP_LOC_NORMAL</th> <td>   -0.0108</td> <td>    0.073</td> <td>   -0.149</td> <td> 0.882</td> <td>   -0.153</td> <td>    0.132</td>\n",
       "</tr>\n",
       "<tr>\n",
       "  <th>HOSP_LOC_FAR</th>    <td>   -0.0302</td> <td>    0.073</td> <td>   -0.416</td> <td> 0.677</td> <td>   -0.172</td> <td>    0.112</td>\n",
       "</tr>\n",
       "<tr>\n",
       "  <th>HOSP_SPEC_1</th>     <td>    0.0498</td> <td>    0.007</td> <td>    7.581</td> <td> 0.000</td> <td>    0.037</td> <td>    0.063</td>\n",
       "</tr>\n",
       "<tr>\n",
       "  <th>HOSP_SPEC_2</th>     <td>    0.0942</td> <td>    0.005</td> <td>   19.840</td> <td> 0.000</td> <td>    0.085</td> <td>    0.103</td>\n",
       "</tr>\n",
       "<tr>\n",
       "  <th>HOSP_SPEC_3</th>     <td>   -0.0247</td> <td>    0.005</td> <td>   -4.792</td> <td> 0.000</td> <td>   -0.035</td> <td>   -0.015</td>\n",
       "</tr>\n",
       "<tr>\n",
       "  <th>HOSP_SPEC_4</th>     <td>    0.2016</td> <td>    0.015</td> <td>   13.636</td> <td> 0.000</td> <td>    0.173</td> <td>    0.231</td>\n",
       "</tr>\n",
       "<tr>\n",
       "  <th>HOSP_SPEC_5</th>     <td>    0.0118</td> <td>    0.010</td> <td>    1.152</td> <td> 0.249</td> <td>   -0.008</td> <td>    0.032</td>\n",
       "</tr>\n",
       "<tr>\n",
       "  <th>HOSP_SPEC_6</th>     <td>    0.0842</td> <td>    0.062</td> <td>    1.357</td> <td> 0.175</td> <td>   -0.037</td> <td>    0.206</td>\n",
       "</tr>\n",
       "<tr>\n",
       "  <th>HOSP_SPEC_7</th>     <td>    0.0625</td> <td>    0.048</td> <td>    1.307</td> <td> 0.191</td> <td>   -0.031</td> <td>    0.156</td>\n",
       "</tr>\n",
       "<tr>\n",
       "  <th>HOSP_SPEC_8</th>     <td>    0.2126</td> <td>    0.008</td> <td>   25.115</td> <td> 0.000</td> <td>    0.196</td> <td>    0.229</td>\n",
       "</tr>\n",
       "<tr>\n",
       "  <th>HOSP_SPEC_9</th>     <td>    0.0698</td> <td>    0.066</td> <td>    1.050</td> <td> 0.294</td> <td>   -0.061</td> <td>    0.200</td>\n",
       "</tr>\n",
       "<tr>\n",
       "  <th>HOSP_SPEC_10</th>    <td>    0.1602</td> <td>    0.006</td> <td>   27.904</td> <td> 0.000</td> <td>    0.149</td> <td>    0.171</td>\n",
       "</tr>\n",
       "</table>\n",
       "<table class=\"simpletable\">\n",
       "<tr>\n",
       "  <th>Omnibus:</th>       <td>6126.498</td> <th>  Durbin-Watson:     </th> <td>   2.014</td> \n",
       "</tr>\n",
       "<tr>\n",
       "  <th>Prob(Omnibus):</th>  <td> 0.000</td>  <th>  Jarque-Bera (JB):  </th> <td>26768.066</td>\n",
       "</tr>\n",
       "<tr>\n",
       "  <th>Skew:</th>           <td> 2.099</td>  <th>  Prob(JB):          </th> <td>    0.00</td> \n",
       "</tr>\n",
       "<tr>\n",
       "  <th>Kurtosis:</th>       <td> 8.188</td>  <th>  Cond. No.          </th> <td>6.42e+15</td> \n",
       "</tr>\n",
       "</table><br/><br/>Warnings:<br/>[1] Standard Errors assume that the covariance matrix of the errors is correctly specified.<br/>[2] The smallest eigenvalue is 1.2e-27. This might indicate that there are<br/>strong multicollinearity problems or that the design matrix is singular."
      ],
      "text/plain": [
       "<class 'statsmodels.iolib.summary.Summary'>\n",
       "\"\"\"\n",
       "                            OLS Regression Results                            \n",
       "==============================================================================\n",
       "Dep. Variable:          SIU_CUST_BOOL   R-squared:                       0.232\n",
       "Model:                            OLS   Adj. R-squared:                  0.231\n",
       "Method:                 Least Squares   F-statistic:                     197.6\n",
       "Date:                Tue, 25 Aug 2020   Prob (F-statistic):               0.00\n",
       "Time:                        22:08:12   Log-Likelihood:                -344.05\n",
       "No. Observations:               14424   AIC:                             734.1\n",
       "Df Residuals:                   14401   BIC:                             908.4\n",
       "Df Model:                          22                                         \n",
       "Covariance Type:            nonrobust                                         \n",
       "===================================================================================\n",
       "                      coef    std err          t      P>|t|      [0.025      0.975]\n",
       "-----------------------------------------------------------------------------------\n",
       "const           -6.545e-15      0.175  -3.73e-14      1.000      -0.344       0.344\n",
       "ACCI_DVSN_1         0.0161      0.073      0.221      0.825      -0.126       0.158\n",
       "ACCI_DVSN_2        -0.0772      0.073     -1.061      0.289      -0.220       0.065\n",
       "ACCI_DVSN_3        -0.0014      0.073     -0.020      0.984      -0.144       0.141\n",
       "DMND_RESN_1        -0.0611      0.040     -1.517      0.129      -0.140       0.018\n",
       "DMND_RESN_2         0.0811      0.034      2.421      0.016       0.015       0.147\n",
       "DMND_RESN_3        -0.0975      0.034     -2.901      0.004      -0.163      -0.032\n",
       "DMND_RESN_4         0.3484      0.053      6.538      0.000       0.244       0.453\n",
       "DMND_RESN_5        -0.0989      0.034     -2.919      0.004      -0.165      -0.032\n",
       "DMND_RESN_6        -0.1014      0.034     -2.958      0.003      -0.169      -0.034\n",
       "DMND_RESN_7        -0.1333      0.082     -1.625      0.104      -0.294       0.027\n",
       "HEED_HOSP           0.0208      0.003      8.129      0.000       0.016       0.026\n",
       "HOSP_LOC_CLOSE     -0.0216      0.073     -0.298      0.766      -0.164       0.121\n",
       "HOSP_LOC_NORMAL    -0.0108      0.073     -0.149      0.882      -0.153       0.132\n",
       "HOSP_LOC_FAR       -0.0302      0.073     -0.416      0.677      -0.172       0.112\n",
       "HOSP_SPEC_1         0.0498      0.007      7.581      0.000       0.037       0.063\n",
       "HOSP_SPEC_2         0.0942      0.005     19.840      0.000       0.085       0.103\n",
       "HOSP_SPEC_3        -0.0247      0.005     -4.792      0.000      -0.035      -0.015\n",
       "HOSP_SPEC_4         0.2016      0.015     13.636      0.000       0.173       0.231\n",
       "HOSP_SPEC_5         0.0118      0.010      1.152      0.249      -0.008       0.032\n",
       "HOSP_SPEC_6         0.0842      0.062      1.357      0.175      -0.037       0.206\n",
       "HOSP_SPEC_7         0.0625      0.048      1.307      0.191      -0.031       0.156\n",
       "HOSP_SPEC_8         0.2126      0.008     25.115      0.000       0.196       0.229\n",
       "HOSP_SPEC_9         0.0698      0.066      1.050      0.294      -0.061       0.200\n",
       "HOSP_SPEC_10        0.1602      0.006     27.904      0.000       0.149       0.171\n",
       "==============================================================================\n",
       "Omnibus:                     6126.498   Durbin-Watson:                   2.014\n",
       "Prob(Omnibus):                  0.000   Jarque-Bera (JB):            26768.066\n",
       "Skew:                           2.099   Prob(JB):                         0.00\n",
       "Kurtosis:                       8.188   Cond. No.                     6.42e+15\n",
       "==============================================================================\n",
       "\n",
       "Warnings:\n",
       "[1] Standard Errors assume that the covariance matrix of the errors is correctly specified.\n",
       "[2] The smallest eigenvalue is 1.2e-27. This might indicate that there are\n",
       "strong multicollinearity problems or that the design matrix is singular.\n",
       "\"\"\""
      ]
     },
     "execution_count": 83,
     "metadata": {},
     "output_type": "execute_result"
    }
   ],
   "source": [
    "# 유의확률 확인\n",
    "temp_X = sm.add_constant(temp_X)\n",
    "\n",
    "reg = sm.OLS(temp_y, temp_X).fit()\n",
    "\n",
    "reg.summary()"
   ]
  },
  {
   "cell_type": "code",
   "execution_count": 84,
   "metadata": {},
   "outputs": [],
   "source": [
    "temp_df = temp_df.drop([\n",
    "    \"ACCI_DVSN_3\", # 사고구분_질병: 다중공선성 우려\n",
    "    \"DMND_RESN_1\", # 청구원인_사망: 다중공선성 우려\n",
    "    \"DMND_RESN_7\", # 청구원인_치료: 다중공선성 우려\n",
    "    \"HOSP_LOC_NORMAL\", # 병원거리_중간: 다중공선성 우려\n",
    "    \"HOSP_SPEC_5\", # 병원종별구분_치과: 다중공선성 우려\n",
    "    \"HOSP_SPEC_6\", # 병원종별구분_보건: 다중공선성 우려\n",
    "    \"HOSP_SPEC_7\", # 병원종별구분_약국: 다중공선성 우려\n",
    "    \"HOSP_SPEC_9\" # 병원종별구분_해외: 다중공선성 우려\n",
    "], axis=1)"
   ]
  },
  {
   "cell_type": "code",
   "execution_count": 85,
   "metadata": {},
   "outputs": [
    {
     "data": {
      "text/html": [
       "<table class=\"simpletable\">\n",
       "<caption>OLS Regression Results</caption>\n",
       "<tr>\n",
       "  <th>Dep. Variable:</th>      <td>SIU_CUST_BOOL</td>  <th>  R-squared:         </th> <td>   0.232</td>\n",
       "</tr>\n",
       "<tr>\n",
       "  <th>Model:</th>                   <td>OLS</td>       <th>  Adj. R-squared:    </th> <td>   0.231</td>\n",
       "</tr>\n",
       "<tr>\n",
       "  <th>Method:</th>             <td>Least Squares</td>  <th>  F-statistic:       </th> <td>   271.3</td>\n",
       "</tr>\n",
       "<tr>\n",
       "  <th>Date:</th>             <td>Tue, 25 Aug 2020</td> <th>  Prob (F-statistic):</th>  <td>  0.00</td> \n",
       "</tr>\n",
       "<tr>\n",
       "  <th>Time:</th>                 <td>22:08:12</td>     <th>  Log-Likelihood:    </th> <td> -347.38</td>\n",
       "</tr>\n",
       "<tr>\n",
       "  <th>No. Observations:</th>      <td> 14424</td>      <th>  AIC:               </th> <td>   728.8</td>\n",
       "</tr>\n",
       "<tr>\n",
       "  <th>Df Residuals:</th>          <td> 14407</td>      <th>  BIC:               </th> <td>   857.6</td>\n",
       "</tr>\n",
       "<tr>\n",
       "  <th>Df Model:</th>              <td>    16</td>      <th>                     </th>     <td> </td>   \n",
       "</tr>\n",
       "<tr>\n",
       "  <th>Covariance Type:</th>      <td>nonrobust</td>    <th>                     </th>     <td> </td>   \n",
       "</tr>\n",
       "</table>\n",
       "<table class=\"simpletable\">\n",
       "<tr>\n",
       "         <td></td>           <th>coef</th>     <th>std err</th>      <th>t</th>      <th>P>|t|</th>  <th>[0.025</th>    <th>0.975]</th>  \n",
       "</tr>\n",
       "<tr>\n",
       "  <th>const</th>          <td>   -0.0761</td> <td>    0.025</td> <td>   -2.985</td> <td> 0.003</td> <td>   -0.126</td> <td>   -0.026</td>\n",
       "</tr>\n",
       "<tr>\n",
       "  <th>ACCI_DVSN_1</th>    <td>    0.0173</td> <td>    0.006</td> <td>    2.720</td> <td> 0.007</td> <td>    0.005</td> <td>    0.030</td>\n",
       "</tr>\n",
       "<tr>\n",
       "  <th>ACCI_DVSN_2</th>    <td>   -0.0758</td> <td>    0.009</td> <td>   -8.465</td> <td> 0.000</td> <td>   -0.093</td> <td>   -0.058</td>\n",
       "</tr>\n",
       "<tr>\n",
       "  <th>DMND_RESN_2</th>    <td>    0.1448</td> <td>    0.025</td> <td>    5.790</td> <td> 0.000</td> <td>    0.096</td> <td>    0.194</td>\n",
       "</tr>\n",
       "<tr>\n",
       "  <th>DMND_RESN_3</th>    <td>   -0.0331</td> <td>    0.025</td> <td>   -1.310</td> <td> 0.190</td> <td>   -0.083</td> <td>    0.016</td>\n",
       "</tr>\n",
       "<tr>\n",
       "  <th>DMND_RESN_4</th>    <td>    0.4117</td> <td>    0.054</td> <td>    7.672</td> <td> 0.000</td> <td>    0.307</td> <td>    0.517</td>\n",
       "</tr>\n",
       "<tr>\n",
       "  <th>DMND_RESN_5</th>    <td>   -0.0343</td> <td>    0.025</td> <td>   -1.346</td> <td> 0.178</td> <td>   -0.084</td> <td>    0.016</td>\n",
       "</tr>\n",
       "<tr>\n",
       "  <th>DMND_RESN_6</th>    <td>   -0.0362</td> <td>    0.027</td> <td>   -1.353</td> <td> 0.176</td> <td>   -0.089</td> <td>    0.016</td>\n",
       "</tr>\n",
       "<tr>\n",
       "  <th>HEED_HOSP</th>      <td>    0.0209</td> <td>    0.003</td> <td>    8.166</td> <td> 0.000</td> <td>    0.016</td> <td>    0.026</td>\n",
       "</tr>\n",
       "<tr>\n",
       "  <th>HOSP_LOC_CLOSE</th> <td>   -0.0113</td> <td>    0.006</td> <td>   -1.844</td> <td> 0.065</td> <td>   -0.023</td> <td>    0.001</td>\n",
       "</tr>\n",
       "<tr>\n",
       "  <th>HOSP_LOC_FAR</th>   <td>   -0.0193</td> <td>    0.007</td> <td>   -2.829</td> <td> 0.005</td> <td>   -0.033</td> <td>   -0.006</td>\n",
       "</tr>\n",
       "<tr>\n",
       "  <th>HOSP_SPEC_1</th>    <td>    0.0499</td> <td>    0.007</td> <td>    7.619</td> <td> 0.000</td> <td>    0.037</td> <td>    0.063</td>\n",
       "</tr>\n",
       "<tr>\n",
       "  <th>HOSP_SPEC_2</th>    <td>    0.0951</td> <td>    0.005</td> <td>   20.380</td> <td> 0.000</td> <td>    0.086</td> <td>    0.104</td>\n",
       "</tr>\n",
       "<tr>\n",
       "  <th>HOSP_SPEC_3</th>    <td>   -0.0247</td> <td>    0.005</td> <td>   -4.792</td> <td> 0.000</td> <td>   -0.035</td> <td>   -0.015</td>\n",
       "</tr>\n",
       "<tr>\n",
       "  <th>HOSP_SPEC_4</th>    <td>    0.2014</td> <td>    0.015</td> <td>   13.620</td> <td> 0.000</td> <td>    0.172</td> <td>    0.230</td>\n",
       "</tr>\n",
       "<tr>\n",
       "  <th>HOSP_SPEC_8</th>    <td>    0.2127</td> <td>    0.008</td> <td>   25.130</td> <td> 0.000</td> <td>    0.196</td> <td>    0.229</td>\n",
       "</tr>\n",
       "<tr>\n",
       "  <th>HOSP_SPEC_10</th>   <td>    0.1603</td> <td>    0.006</td> <td>   27.949</td> <td> 0.000</td> <td>    0.149</td> <td>    0.172</td>\n",
       "</tr>\n",
       "</table>\n",
       "<table class=\"simpletable\">\n",
       "<tr>\n",
       "  <th>Omnibus:</th>       <td>6126.891</td> <th>  Durbin-Watson:     </th> <td>   2.014</td> \n",
       "</tr>\n",
       "<tr>\n",
       "  <th>Prob(Omnibus):</th>  <td> 0.000</td>  <th>  Jarque-Bera (JB):  </th> <td>26761.369</td>\n",
       "</tr>\n",
       "<tr>\n",
       "  <th>Skew:</th>           <td> 2.099</td>  <th>  Prob(JB):          </th> <td>    0.00</td> \n",
       "</tr>\n",
       "<tr>\n",
       "  <th>Kurtosis:</th>       <td> 8.186</td>  <th>  Cond. No.          </th> <td>    55.2</td> \n",
       "</tr>\n",
       "</table><br/><br/>Warnings:<br/>[1] Standard Errors assume that the covariance matrix of the errors is correctly specified."
      ],
      "text/plain": [
       "<class 'statsmodels.iolib.summary.Summary'>\n",
       "\"\"\"\n",
       "                            OLS Regression Results                            \n",
       "==============================================================================\n",
       "Dep. Variable:          SIU_CUST_BOOL   R-squared:                       0.232\n",
       "Model:                            OLS   Adj. R-squared:                  0.231\n",
       "Method:                 Least Squares   F-statistic:                     271.3\n",
       "Date:                Tue, 25 Aug 2020   Prob (F-statistic):               0.00\n",
       "Time:                        22:08:12   Log-Likelihood:                -347.38\n",
       "No. Observations:               14424   AIC:                             728.8\n",
       "Df Residuals:                   14407   BIC:                             857.6\n",
       "Df Model:                          16                                         \n",
       "Covariance Type:            nonrobust                                         \n",
       "==================================================================================\n",
       "                     coef    std err          t      P>|t|      [0.025      0.975]\n",
       "----------------------------------------------------------------------------------\n",
       "const             -0.0761      0.025     -2.985      0.003      -0.126      -0.026\n",
       "ACCI_DVSN_1        0.0173      0.006      2.720      0.007       0.005       0.030\n",
       "ACCI_DVSN_2       -0.0758      0.009     -8.465      0.000      -0.093      -0.058\n",
       "DMND_RESN_2        0.1448      0.025      5.790      0.000       0.096       0.194\n",
       "DMND_RESN_3       -0.0331      0.025     -1.310      0.190      -0.083       0.016\n",
       "DMND_RESN_4        0.4117      0.054      7.672      0.000       0.307       0.517\n",
       "DMND_RESN_5       -0.0343      0.025     -1.346      0.178      -0.084       0.016\n",
       "DMND_RESN_6       -0.0362      0.027     -1.353      0.176      -0.089       0.016\n",
       "HEED_HOSP          0.0209      0.003      8.166      0.000       0.016       0.026\n",
       "HOSP_LOC_CLOSE    -0.0113      0.006     -1.844      0.065      -0.023       0.001\n",
       "HOSP_LOC_FAR      -0.0193      0.007     -2.829      0.005      -0.033      -0.006\n",
       "HOSP_SPEC_1        0.0499      0.007      7.619      0.000       0.037       0.063\n",
       "HOSP_SPEC_2        0.0951      0.005     20.380      0.000       0.086       0.104\n",
       "HOSP_SPEC_3       -0.0247      0.005     -4.792      0.000      -0.035      -0.015\n",
       "HOSP_SPEC_4        0.2014      0.015     13.620      0.000       0.172       0.230\n",
       "HOSP_SPEC_8        0.2127      0.008     25.130      0.000       0.196       0.229\n",
       "HOSP_SPEC_10       0.1603      0.006     27.949      0.000       0.149       0.172\n",
       "==============================================================================\n",
       "Omnibus:                     6126.891   Durbin-Watson:                   2.014\n",
       "Prob(Omnibus):                  0.000   Jarque-Bera (JB):            26761.369\n",
       "Skew:                           2.099   Prob(JB):                         0.00\n",
       "Kurtosis:                       8.186   Cond. No.                         55.2\n",
       "==============================================================================\n",
       "\n",
       "Warnings:\n",
       "[1] Standard Errors assume that the covariance matrix of the errors is correctly specified.\n",
       "\"\"\""
      ]
     },
     "execution_count": 85,
     "metadata": {},
     "output_type": "execute_result"
    }
   ],
   "source": [
    "temp_y = temp_df.iloc[:, 0]\n",
    "temp_X = temp_df.iloc[:, 1:]\n",
    "\n",
    "# 유의확률 한번만 더 확인\n",
    "temp_X = sm.add_constant(temp_X)\n",
    "\n",
    "reg = sm.OLS(temp_y, temp_X).fit()\n",
    "\n",
    "reg.summary()"
   ]
  },
  {
   "cell_type": "code",
   "execution_count": 86,
   "metadata": {},
   "outputs": [],
   "source": [
    "temp_df = temp_df.drop([\n",
    "    \"DMND_RESN_5\", # 청구원인_수술: 다중공선성 우려\n",
    "    \"DMND_RESN_6\" # 청구원인_진단: 다중공선성 우려\n",
    "], axis=1)"
   ]
  },
  {
   "cell_type": "code",
   "execution_count": 87,
   "metadata": {},
   "outputs": [
    {
     "data": {
      "text/html": [
       "<table class=\"simpletable\">\n",
       "<caption>OLS Regression Results</caption>\n",
       "<tr>\n",
       "  <th>Dep. Variable:</th>      <td>SIU_CUST_BOOL</td>  <th>  R-squared:         </th> <td>   0.231</td>\n",
       "</tr>\n",
       "<tr>\n",
       "  <th>Model:</th>                   <td>OLS</td>       <th>  Adj. R-squared:    </th> <td>   0.231</td>\n",
       "</tr>\n",
       "<tr>\n",
       "  <th>Method:</th>             <td>Least Squares</td>  <th>  F-statistic:       </th> <td>   310.0</td>\n",
       "</tr>\n",
       "<tr>\n",
       "  <th>Date:</th>             <td>Tue, 25 Aug 2020</td> <th>  Prob (F-statistic):</th>  <td>  0.00</td> \n",
       "</tr>\n",
       "<tr>\n",
       "  <th>Time:</th>                 <td>22:08:12</td>     <th>  Log-Likelihood:    </th> <td> -348.35</td>\n",
       "</tr>\n",
       "<tr>\n",
       "  <th>No. Observations:</th>      <td> 14424</td>      <th>  AIC:               </th> <td>   726.7</td>\n",
       "</tr>\n",
       "<tr>\n",
       "  <th>Df Residuals:</th>          <td> 14409</td>      <th>  BIC:               </th> <td>   840.3</td>\n",
       "</tr>\n",
       "<tr>\n",
       "  <th>Df Model:</th>              <td>    14</td>      <th>                     </th>     <td> </td>   \n",
       "</tr>\n",
       "<tr>\n",
       "  <th>Covariance Type:</th>      <td>nonrobust</td>    <th>                     </th>     <td> </td>   \n",
       "</tr>\n",
       "</table>\n",
       "<table class=\"simpletable\">\n",
       "<tr>\n",
       "         <td></td>           <th>coef</th>     <th>std err</th>      <th>t</th>      <th>P>|t|</th>  <th>[0.025</th>    <th>0.975]</th>  \n",
       "</tr>\n",
       "<tr>\n",
       "  <th>const</th>          <td>   -0.1091</td> <td>    0.009</td> <td>  -12.385</td> <td> 0.000</td> <td>   -0.126</td> <td>   -0.092</td>\n",
       "</tr>\n",
       "<tr>\n",
       "  <th>ACCI_DVSN_1</th>    <td>    0.0164</td> <td>    0.006</td> <td>    2.960</td> <td> 0.003</td> <td>    0.006</td> <td>    0.027</td>\n",
       "</tr>\n",
       "<tr>\n",
       "  <th>ACCI_DVSN_2</th>    <td>   -0.0756</td> <td>    0.009</td> <td>   -8.589</td> <td> 0.000</td> <td>   -0.093</td> <td>   -0.058</td>\n",
       "</tr>\n",
       "<tr>\n",
       "  <th>DMND_RESN_2</th>    <td>    0.1779</td> <td>    0.008</td> <td>   23.115</td> <td> 0.000</td> <td>    0.163</td> <td>    0.193</td>\n",
       "</tr>\n",
       "<tr>\n",
       "  <th>DMND_RESN_3</th>    <td>    0.0004</td> <td>    0.007</td> <td>    0.049</td> <td> 0.961</td> <td>   -0.014</td> <td>    0.015</td>\n",
       "</tr>\n",
       "<tr>\n",
       "  <th>DMND_RESN_4</th>    <td>    0.4452</td> <td>    0.048</td> <td>    9.283</td> <td> 0.000</td> <td>    0.351</td> <td>    0.539</td>\n",
       "</tr>\n",
       "<tr>\n",
       "  <th>HEED_HOSP</th>      <td>    0.0209</td> <td>    0.003</td> <td>    8.158</td> <td> 0.000</td> <td>    0.016</td> <td>    0.026</td>\n",
       "</tr>\n",
       "<tr>\n",
       "  <th>HOSP_LOC_CLOSE</th> <td>   -0.0114</td> <td>    0.006</td> <td>   -1.860</td> <td> 0.063</td> <td>   -0.023</td> <td>    0.001</td>\n",
       "</tr>\n",
       "<tr>\n",
       "  <th>HOSP_LOC_FAR</th>   <td>   -0.0192</td> <td>    0.007</td> <td>   -2.824</td> <td> 0.005</td> <td>   -0.033</td> <td>   -0.006</td>\n",
       "</tr>\n",
       "<tr>\n",
       "  <th>HOSP_SPEC_1</th>    <td>    0.0499</td> <td>    0.007</td> <td>    7.651</td> <td> 0.000</td> <td>    0.037</td> <td>    0.063</td>\n",
       "</tr>\n",
       "<tr>\n",
       "  <th>HOSP_SPEC_2</th>    <td>    0.0948</td> <td>    0.005</td> <td>   20.337</td> <td> 0.000</td> <td>    0.086</td> <td>    0.104</td>\n",
       "</tr>\n",
       "<tr>\n",
       "  <th>HOSP_SPEC_3</th>    <td>   -0.0245</td> <td>    0.005</td> <td>   -4.782</td> <td> 0.000</td> <td>   -0.035</td> <td>   -0.014</td>\n",
       "</tr>\n",
       "<tr>\n",
       "  <th>HOSP_SPEC_4</th>    <td>    0.2023</td> <td>    0.015</td> <td>   13.704</td> <td> 0.000</td> <td>    0.173</td> <td>    0.231</td>\n",
       "</tr>\n",
       "<tr>\n",
       "  <th>HOSP_SPEC_8</th>    <td>    0.2128</td> <td>    0.008</td> <td>   25.149</td> <td> 0.000</td> <td>    0.196</td> <td>    0.229</td>\n",
       "</tr>\n",
       "<tr>\n",
       "  <th>HOSP_SPEC_10</th>   <td>    0.1602</td> <td>    0.006</td> <td>   27.936</td> <td> 0.000</td> <td>    0.149</td> <td>    0.171</td>\n",
       "</tr>\n",
       "</table>\n",
       "<table class=\"simpletable\">\n",
       "<tr>\n",
       "  <th>Omnibus:</th>       <td>6128.314</td> <th>  Durbin-Watson:     </th> <td>   2.014</td> \n",
       "</tr>\n",
       "<tr>\n",
       "  <th>Prob(Omnibus):</th>  <td> 0.000</td>  <th>  Jarque-Bera (JB):  </th> <td>26762.698</td>\n",
       "</tr>\n",
       "<tr>\n",
       "  <th>Skew:</th>           <td> 2.100</td>  <th>  Prob(JB):          </th> <td>    0.00</td> \n",
       "</tr>\n",
       "<tr>\n",
       "  <th>Kurtosis:</th>       <td> 8.185</td>  <th>  Cond. No.          </th> <td>    39.9</td> \n",
       "</tr>\n",
       "</table><br/><br/>Warnings:<br/>[1] Standard Errors assume that the covariance matrix of the errors is correctly specified."
      ],
      "text/plain": [
       "<class 'statsmodels.iolib.summary.Summary'>\n",
       "\"\"\"\n",
       "                            OLS Regression Results                            \n",
       "==============================================================================\n",
       "Dep. Variable:          SIU_CUST_BOOL   R-squared:                       0.231\n",
       "Model:                            OLS   Adj. R-squared:                  0.231\n",
       "Method:                 Least Squares   F-statistic:                     310.0\n",
       "Date:                Tue, 25 Aug 2020   Prob (F-statistic):               0.00\n",
       "Time:                        22:08:12   Log-Likelihood:                -348.35\n",
       "No. Observations:               14424   AIC:                             726.7\n",
       "Df Residuals:                   14409   BIC:                             840.3\n",
       "Df Model:                          14                                         \n",
       "Covariance Type:            nonrobust                                         \n",
       "==================================================================================\n",
       "                     coef    std err          t      P>|t|      [0.025      0.975]\n",
       "----------------------------------------------------------------------------------\n",
       "const             -0.1091      0.009    -12.385      0.000      -0.126      -0.092\n",
       "ACCI_DVSN_1        0.0164      0.006      2.960      0.003       0.006       0.027\n",
       "ACCI_DVSN_2       -0.0756      0.009     -8.589      0.000      -0.093      -0.058\n",
       "DMND_RESN_2        0.1779      0.008     23.115      0.000       0.163       0.193\n",
       "DMND_RESN_3        0.0004      0.007      0.049      0.961      -0.014       0.015\n",
       "DMND_RESN_4        0.4452      0.048      9.283      0.000       0.351       0.539\n",
       "HEED_HOSP          0.0209      0.003      8.158      0.000       0.016       0.026\n",
       "HOSP_LOC_CLOSE    -0.0114      0.006     -1.860      0.063      -0.023       0.001\n",
       "HOSP_LOC_FAR      -0.0192      0.007     -2.824      0.005      -0.033      -0.006\n",
       "HOSP_SPEC_1        0.0499      0.007      7.651      0.000       0.037       0.063\n",
       "HOSP_SPEC_2        0.0948      0.005     20.337      0.000       0.086       0.104\n",
       "HOSP_SPEC_3       -0.0245      0.005     -4.782      0.000      -0.035      -0.014\n",
       "HOSP_SPEC_4        0.2023      0.015     13.704      0.000       0.173       0.231\n",
       "HOSP_SPEC_8        0.2128      0.008     25.149      0.000       0.196       0.229\n",
       "HOSP_SPEC_10       0.1602      0.006     27.936      0.000       0.149       0.171\n",
       "==============================================================================\n",
       "Omnibus:                     6128.314   Durbin-Watson:                   2.014\n",
       "Prob(Omnibus):                  0.000   Jarque-Bera (JB):            26762.698\n",
       "Skew:                           2.100   Prob(JB):                         0.00\n",
       "Kurtosis:                       8.185   Cond. No.                         39.9\n",
       "==============================================================================\n",
       "\n",
       "Warnings:\n",
       "[1] Standard Errors assume that the covariance matrix of the errors is correctly specified.\n",
       "\"\"\""
      ]
     },
     "execution_count": 87,
     "metadata": {},
     "output_type": "execute_result"
    }
   ],
   "source": [
    "temp_y = temp_df.iloc[:, 0]\n",
    "temp_X = temp_df.iloc[:, 1:]\n",
    "\n",
    "# 유의확률 딱 한번만 더 확인\n",
    "temp_X = sm.add_constant(temp_X)\n",
    "\n",
    "reg = sm.OLS(temp_y, temp_X).fit()\n",
    "\n",
    "reg.summary()"
   ]
  },
  {
   "cell_type": "code",
   "execution_count": 88,
   "metadata": {},
   "outputs": [
    {
     "data": {
      "text/html": [
       "<div>\n",
       "<style scoped>\n",
       "    .dataframe tbody tr th:only-of-type {\n",
       "        vertical-align: middle;\n",
       "    }\n",
       "\n",
       "    .dataframe tbody tr th {\n",
       "        vertical-align: top;\n",
       "    }\n",
       "\n",
       "    .dataframe thead th {\n",
       "        text-align: right;\n",
       "    }\n",
       "</style>\n",
       "<table border=\"1\" class=\"dataframe\">\n",
       "  <thead>\n",
       "    <tr style=\"text-align: right;\">\n",
       "      <th></th>\n",
       "      <th>feature</th>\n",
       "      <th>VIF</th>\n",
       "    </tr>\n",
       "  </thead>\n",
       "  <tbody>\n",
       "    <tr>\n",
       "      <th>0</th>\n",
       "      <td>const</td>\n",
       "      <td>18.205050</td>\n",
       "    </tr>\n",
       "    <tr>\n",
       "      <th>1</th>\n",
       "      <td>ACCI_DVSN_1</td>\n",
       "      <td>1.124121</td>\n",
       "    </tr>\n",
       "    <tr>\n",
       "      <th>2</th>\n",
       "      <td>ACCI_DVSN_2</td>\n",
       "      <td>1.181790</td>\n",
       "    </tr>\n",
       "    <tr>\n",
       "      <th>3</th>\n",
       "      <td>DMND_RESN_2</td>\n",
       "      <td>1.764931</td>\n",
       "    </tr>\n",
       "    <tr>\n",
       "      <th>4</th>\n",
       "      <td>DMND_RESN_3</td>\n",
       "      <td>1.539523</td>\n",
       "    </tr>\n",
       "    <tr>\n",
       "      <th>5</th>\n",
       "      <td>DMND_RESN_4</td>\n",
       "      <td>1.030092</td>\n",
       "    </tr>\n",
       "    <tr>\n",
       "      <th>6</th>\n",
       "      <td>HEED_HOSP</td>\n",
       "      <td>1.035588</td>\n",
       "    </tr>\n",
       "    <tr>\n",
       "      <th>7</th>\n",
       "      <td>HOSP_LOC_CLOSE</td>\n",
       "      <td>1.659517</td>\n",
       "    </tr>\n",
       "    <tr>\n",
       "      <th>8</th>\n",
       "      <td>HOSP_LOC_FAR</td>\n",
       "      <td>1.765339</td>\n",
       "    </tr>\n",
       "    <tr>\n",
       "      <th>9</th>\n",
       "      <td>HOSP_SPEC_1</td>\n",
       "      <td>1.791510</td>\n",
       "    </tr>\n",
       "    <tr>\n",
       "      <th>10</th>\n",
       "      <td>HOSP_SPEC_2</td>\n",
       "      <td>1.272731</td>\n",
       "    </tr>\n",
       "    <tr>\n",
       "      <th>11</th>\n",
       "      <td>HOSP_SPEC_3</td>\n",
       "      <td>1.536049</td>\n",
       "    </tr>\n",
       "    <tr>\n",
       "      <th>12</th>\n",
       "      <td>HOSP_SPEC_4</td>\n",
       "      <td>1.040398</td>\n",
       "    </tr>\n",
       "    <tr>\n",
       "      <th>13</th>\n",
       "      <td>HOSP_SPEC_8</td>\n",
       "      <td>1.109490</td>\n",
       "    </tr>\n",
       "    <tr>\n",
       "      <th>14</th>\n",
       "      <td>HOSP_SPEC_10</td>\n",
       "      <td>1.155788</td>\n",
       "    </tr>\n",
       "  </tbody>\n",
       "</table>\n",
       "</div>"
      ],
      "text/plain": [
       "           feature        VIF\n",
       "0            const  18.205050\n",
       "1      ACCI_DVSN_1   1.124121\n",
       "2      ACCI_DVSN_2   1.181790\n",
       "3      DMND_RESN_2   1.764931\n",
       "4      DMND_RESN_3   1.539523\n",
       "5      DMND_RESN_4   1.030092\n",
       "6        HEED_HOSP   1.035588\n",
       "7   HOSP_LOC_CLOSE   1.659517\n",
       "8     HOSP_LOC_FAR   1.765339\n",
       "9      HOSP_SPEC_1   1.791510\n",
       "10     HOSP_SPEC_2   1.272731\n",
       "11     HOSP_SPEC_3   1.536049\n",
       "12     HOSP_SPEC_4   1.040398\n",
       "13     HOSP_SPEC_8   1.109490\n",
       "14    HOSP_SPEC_10   1.155788"
      ]
     },
     "execution_count": 88,
     "metadata": {},
     "output_type": "execute_result"
    }
   ],
   "source": [
    "vif_df = pd.DataFrame()\n",
    "vif_df[\"feature\"] = temp_X.columns\n",
    "vif_df[\"VIF\"] = [ vif(temp_X.values, i) for i in range(len(temp_X.columns)) ]\n",
    "\n",
    "vif_df"
   ]
  },
  {
   "cell_type": "code",
   "execution_count": 89,
   "metadata": {},
   "outputs": [],
   "source": [
    "temp_df = temp_df.drop([\n",
    "    \"DMND_RESN_3\" # 청구원인_통원: 유의확률 - 0.961\n",
    "], axis=1)\n",
    "\n",
    "doc_train_data = doc_train_data.drop([\n",
    "    \"ACCI_DVSN_3\", \n",
    "    \"DMND_RESN_1\", \"DMND_RESN_3\", \"DMND_RESN_5\", \"DMND_RESN_6\", \"DMND_RESN_7\", \n",
    "    \"HOSP_LOC_NORMAL\", \n",
    "    \"HOSP_SPEC_5\", \"HOSP_SPEC_6\", \"HOSP_SPEC_7\", \"HOSP_SPEC_9\"\n",
    "], axis=1)\n",
    "doc_test_data = doc_test_data.drop([\n",
    "    \"ACCI_DVSN_3\", \n",
    "    \"DMND_RESN_1\", \"DMND_RESN_3\", \"DMND_RESN_5\", \"DMND_RESN_6\", \"DMND_RESN_7\", \n",
    "    \"HOSP_LOC_NORMAL\", \n",
    "    \"HOSP_SPEC_5\", \"HOSP_SPEC_6\", \"HOSP_SPEC_7\", \"HOSP_SPEC_9\"\n",
    "], axis=1)"
   ]
  },
  {
   "cell_type": "code",
   "execution_count": 90,
   "metadata": {},
   "outputs": [],
   "source": [
    "del temp_df, temp_X, temp_y, reg, vif_df"
   ]
  },
  {
   "cell_type": "markdown",
   "metadata": {},
   "source": [
    "### 고객 개인 데이터(3)"
   ]
  },
  {
   "cell_type": "code",
   "execution_count": 91,
   "metadata": {},
   "outputs": [
    {
     "data": {
      "text/html": [
       "<div>\n",
       "<style scoped>\n",
       "    .dataframe tbody tr th:only-of-type {\n",
       "        vertical-align: middle;\n",
       "    }\n",
       "\n",
       "    .dataframe tbody tr th {\n",
       "        vertical-align: top;\n",
       "    }\n",
       "\n",
       "    .dataframe thead th {\n",
       "        text-align: right;\n",
       "    }\n",
       "</style>\n",
       "<table border=\"1\" class=\"dataframe\">\n",
       "  <thead>\n",
       "    <tr style=\"text-align: right;\">\n",
       "      <th></th>\n",
       "      <th>count</th>\n",
       "      <th>mean</th>\n",
       "      <th>std</th>\n",
       "      <th>min</th>\n",
       "      <th>25%</th>\n",
       "      <th>50%</th>\n",
       "      <th>75%</th>\n",
       "      <th>max</th>\n",
       "    </tr>\n",
       "  </thead>\n",
       "  <tbody>\n",
       "    <tr>\n",
       "      <th>CUST_ID</th>\n",
       "      <td>14424.0</td>\n",
       "      <td>1.115486e+04</td>\n",
       "      <td>6.446132e+03</td>\n",
       "      <td>1.0</td>\n",
       "      <td>5575.750000</td>\n",
       "      <td>1.112750e+04</td>\n",
       "      <td>1.672475e+04</td>\n",
       "      <td>2.240000e+04</td>\n",
       "    </tr>\n",
       "    <tr>\n",
       "      <th>SIU_CUST_BOOL</th>\n",
       "      <td>14424.0</td>\n",
       "      <td>8.763172e-02</td>\n",
       "      <td>2.827684e-01</td>\n",
       "      <td>0.0</td>\n",
       "      <td>0.000000</td>\n",
       "      <td>0.000000e+00</td>\n",
       "      <td>0.000000e+00</td>\n",
       "      <td>1.000000e+00</td>\n",
       "    </tr>\n",
       "    <tr>\n",
       "      <th>SEX</th>\n",
       "      <td>14424.0</td>\n",
       "      <td>4.318497e-01</td>\n",
       "      <td>4.953509e-01</td>\n",
       "      <td>0.0</td>\n",
       "      <td>0.000000</td>\n",
       "      <td>0.000000e+00</td>\n",
       "      <td>1.000000e+00</td>\n",
       "      <td>1.000000e+00</td>\n",
       "    </tr>\n",
       "    <tr>\n",
       "      <th>OCCP_RELEVENT_1</th>\n",
       "      <td>14424.0</td>\n",
       "      <td>2.306572e-01</td>\n",
       "      <td>4.212681e-01</td>\n",
       "      <td>0.0</td>\n",
       "      <td>0.000000</td>\n",
       "      <td>0.000000e+00</td>\n",
       "      <td>0.000000e+00</td>\n",
       "      <td>1.000000e+00</td>\n",
       "    </tr>\n",
       "    <tr>\n",
       "      <th>OCCP_RELEVENT_2</th>\n",
       "      <td>14424.0</td>\n",
       "      <td>3.787438e-01</td>\n",
       "      <td>4.850910e-01</td>\n",
       "      <td>0.0</td>\n",
       "      <td>0.000000</td>\n",
       "      <td>0.000000e+00</td>\n",
       "      <td>1.000000e+00</td>\n",
       "      <td>1.000000e+00</td>\n",
       "    </tr>\n",
       "    <tr>\n",
       "      <th>OCCP_RELEVENT_3</th>\n",
       "      <td>14424.0</td>\n",
       "      <td>1.828896e-01</td>\n",
       "      <td>3.865894e-01</td>\n",
       "      <td>0.0</td>\n",
       "      <td>0.000000</td>\n",
       "      <td>0.000000e+00</td>\n",
       "      <td>0.000000e+00</td>\n",
       "      <td>1.000000e+00</td>\n",
       "    </tr>\n",
       "    <tr>\n",
       "      <th>OCCP_RELEVENT_5</th>\n",
       "      <td>14424.0</td>\n",
       "      <td>5.476983e-03</td>\n",
       "      <td>7.380625e-02</td>\n",
       "      <td>0.0</td>\n",
       "      <td>0.000000</td>\n",
       "      <td>0.000000e+00</td>\n",
       "      <td>0.000000e+00</td>\n",
       "      <td>1.000000e+00</td>\n",
       "    </tr>\n",
       "    <tr>\n",
       "      <th>OCCP_RELEVENT_6</th>\n",
       "      <td>14424.0</td>\n",
       "      <td>1.079451e-01</td>\n",
       "      <td>3.103218e-01</td>\n",
       "      <td>0.0</td>\n",
       "      <td>0.000000</td>\n",
       "      <td>0.000000e+00</td>\n",
       "      <td>0.000000e+00</td>\n",
       "      <td>1.000000e+00</td>\n",
       "    </tr>\n",
       "    <tr>\n",
       "      <th>OCCP_RELEVENT_8</th>\n",
       "      <td>14424.0</td>\n",
       "      <td>2.457016e-01</td>\n",
       "      <td>4.305173e-01</td>\n",
       "      <td>0.0</td>\n",
       "      <td>0.000000</td>\n",
       "      <td>0.000000e+00</td>\n",
       "      <td>0.000000e+00</td>\n",
       "      <td>1.000000e+00</td>\n",
       "    </tr>\n",
       "    <tr>\n",
       "      <th>OCCP_RELEVENT_9</th>\n",
       "      <td>14424.0</td>\n",
       "      <td>7.924293e-02</td>\n",
       "      <td>2.701269e-01</td>\n",
       "      <td>0.0</td>\n",
       "      <td>0.000000</td>\n",
       "      <td>0.000000e+00</td>\n",
       "      <td>0.000000e+00</td>\n",
       "      <td>1.000000e+00</td>\n",
       "    </tr>\n",
       "    <tr>\n",
       "      <th>OCCP_RELEVENT_10</th>\n",
       "      <td>14424.0</td>\n",
       "      <td>3.126733e-02</td>\n",
       "      <td>1.740454e-01</td>\n",
       "      <td>0.0</td>\n",
       "      <td>0.000000</td>\n",
       "      <td>0.000000e+00</td>\n",
       "      <td>0.000000e+00</td>\n",
       "      <td>1.000000e+00</td>\n",
       "    </tr>\n",
       "    <tr>\n",
       "      <th>OCCP_RELEVENT_11</th>\n",
       "      <td>14424.0</td>\n",
       "      <td>3.466445e-02</td>\n",
       "      <td>1.829348e-01</td>\n",
       "      <td>0.0</td>\n",
       "      <td>0.000000</td>\n",
       "      <td>0.000000e+00</td>\n",
       "      <td>0.000000e+00</td>\n",
       "      <td>1.000000e+00</td>\n",
       "    </tr>\n",
       "    <tr>\n",
       "      <th>OCCP_RELEVENT_12</th>\n",
       "      <td>14424.0</td>\n",
       "      <td>2.620632e-02</td>\n",
       "      <td>1.597539e-01</td>\n",
       "      <td>0.0</td>\n",
       "      <td>0.000000</td>\n",
       "      <td>0.000000e+00</td>\n",
       "      <td>0.000000e+00</td>\n",
       "      <td>1.000000e+00</td>\n",
       "    </tr>\n",
       "    <tr>\n",
       "      <th>FP_CAREER_BOOL</th>\n",
       "      <td>14424.0</td>\n",
       "      <td>5.837493e-02</td>\n",
       "      <td>2.344592e-01</td>\n",
       "      <td>0.0</td>\n",
       "      <td>0.000000</td>\n",
       "      <td>0.000000e+00</td>\n",
       "      <td>0.000000e+00</td>\n",
       "      <td>1.000000e+00</td>\n",
       "    </tr>\n",
       "    <tr>\n",
       "      <th>CHANGE_FP_BOOL</th>\n",
       "      <td>14424.0</td>\n",
       "      <td>5.163616e-01</td>\n",
       "      <td>4.997495e-01</td>\n",
       "      <td>0.0</td>\n",
       "      <td>0.000000</td>\n",
       "      <td>1.000000e+00</td>\n",
       "      <td>1.000000e+00</td>\n",
       "      <td>1.000000e+00</td>\n",
       "    </tr>\n",
       "    <tr>\n",
       "      <th>MAX_RGST_SUB_M_scaled</th>\n",
       "      <td>14424.0</td>\n",
       "      <td>-4.266394e-01</td>\n",
       "      <td>5.944614e-01</td>\n",
       "      <td>-1.0</td>\n",
       "      <td>-1.000000</td>\n",
       "      <td>-6.131472e-01</td>\n",
       "      <td>2.085141e-01</td>\n",
       "      <td>6.670233e-01</td>\n",
       "    </tr>\n",
       "    <tr>\n",
       "      <th>RECP_HOSP_SUB_Dmean_scaled</th>\n",
       "      <td>14424.0</td>\n",
       "      <td>-5.196379e-02</td>\n",
       "      <td>3.461424e-01</td>\n",
       "      <td>-1.0</td>\n",
       "      <td>-0.294058</td>\n",
       "      <td>-7.575203e-02</td>\n",
       "      <td>1.965054e-01</td>\n",
       "      <td>1.006863e+00</td>\n",
       "    </tr>\n",
       "    <tr>\n",
       "      <th>TOTALPREM</th>\n",
       "      <td>14424.0</td>\n",
       "      <td>2.212254e+07</td>\n",
       "      <td>4.392411e+07</td>\n",
       "      <td>1.0</td>\n",
       "      <td>1.000000</td>\n",
       "      <td>9.235318e+06</td>\n",
       "      <td>2.585278e+07</td>\n",
       "      <td>1.840052e+09</td>\n",
       "    </tr>\n",
       "    <tr>\n",
       "      <th>MAX_PRM</th>\n",
       "      <td>14424.0</td>\n",
       "      <td>3.410767e+05</td>\n",
       "      <td>1.171299e+06</td>\n",
       "      <td>1.0</td>\n",
       "      <td>1.000000</td>\n",
       "      <td>1.299330e+05</td>\n",
       "      <td>3.504332e+05</td>\n",
       "      <td>5.686262e+07</td>\n",
       "    </tr>\n",
       "    <tr>\n",
       "      <th>CUST_INCM</th>\n",
       "      <td>14424.0</td>\n",
       "      <td>2.069353e+03</td>\n",
       "      <td>2.232015e+03</td>\n",
       "      <td>0.0</td>\n",
       "      <td>0.000000</td>\n",
       "      <td>0.000000e+00</td>\n",
       "      <td>4.079000e+03</td>\n",
       "      <td>1.268700e+04</td>\n",
       "    </tr>\n",
       "    <tr>\n",
       "      <th>RCBASE_HSHD_INCM</th>\n",
       "      <td>14424.0</td>\n",
       "      <td>4.766341e+03</td>\n",
       "      <td>3.077394e+03</td>\n",
       "      <td>0.0</td>\n",
       "      <td>2968.750000</td>\n",
       "      <td>4.799000e+03</td>\n",
       "      <td>6.619000e+03</td>\n",
       "      <td>1.982900e+04</td>\n",
       "    </tr>\n",
       "    <tr>\n",
       "      <th>DMND_AMT</th>\n",
       "      <td>14424.0</td>\n",
       "      <td>4.332966e+06</td>\n",
       "      <td>1.427434e+07</td>\n",
       "      <td>0.0</td>\n",
       "      <td>340000.000000</td>\n",
       "      <td>8.700000e+05</td>\n",
       "      <td>2.510000e+06</td>\n",
       "      <td>5.131648e+08</td>\n",
       "    </tr>\n",
       "    <tr>\n",
       "      <th>AVGCRDT_scaled</th>\n",
       "      <td>14424.0</td>\n",
       "      <td>6.023537e-01</td>\n",
       "      <td>8.595165e-02</td>\n",
       "      <td>0.1</td>\n",
       "      <td>0.600000</td>\n",
       "      <td>6.000000e-01</td>\n",
       "      <td>6.000000e-01</td>\n",
       "      <td>1.000000e+00</td>\n",
       "    </tr>\n",
       "    <tr>\n",
       "      <th>SUBCRDT_scaled</th>\n",
       "      <td>14424.0</td>\n",
       "      <td>3.679285e-02</td>\n",
       "      <td>1.055764e-01</td>\n",
       "      <td>0.0</td>\n",
       "      <td>0.000000</td>\n",
       "      <td>0.000000e+00</td>\n",
       "      <td>0.000000e+00</td>\n",
       "      <td>7.000000e-01</td>\n",
       "    </tr>\n",
       "  </tbody>\n",
       "</table>\n",
       "</div>"
      ],
      "text/plain": [
       "                              count          mean           std  min  \\\n",
       "CUST_ID                     14424.0  1.115486e+04  6.446132e+03  1.0   \n",
       "SIU_CUST_BOOL               14424.0  8.763172e-02  2.827684e-01  0.0   \n",
       "SEX                         14424.0  4.318497e-01  4.953509e-01  0.0   \n",
       "OCCP_RELEVENT_1             14424.0  2.306572e-01  4.212681e-01  0.0   \n",
       "OCCP_RELEVENT_2             14424.0  3.787438e-01  4.850910e-01  0.0   \n",
       "OCCP_RELEVENT_3             14424.0  1.828896e-01  3.865894e-01  0.0   \n",
       "OCCP_RELEVENT_5             14424.0  5.476983e-03  7.380625e-02  0.0   \n",
       "OCCP_RELEVENT_6             14424.0  1.079451e-01  3.103218e-01  0.0   \n",
       "OCCP_RELEVENT_8             14424.0  2.457016e-01  4.305173e-01  0.0   \n",
       "OCCP_RELEVENT_9             14424.0  7.924293e-02  2.701269e-01  0.0   \n",
       "OCCP_RELEVENT_10            14424.0  3.126733e-02  1.740454e-01  0.0   \n",
       "OCCP_RELEVENT_11            14424.0  3.466445e-02  1.829348e-01  0.0   \n",
       "OCCP_RELEVENT_12            14424.0  2.620632e-02  1.597539e-01  0.0   \n",
       "FP_CAREER_BOOL              14424.0  5.837493e-02  2.344592e-01  0.0   \n",
       "CHANGE_FP_BOOL              14424.0  5.163616e-01  4.997495e-01  0.0   \n",
       "MAX_RGST_SUB_M_scaled       14424.0 -4.266394e-01  5.944614e-01 -1.0   \n",
       "RECP_HOSP_SUB_Dmean_scaled  14424.0 -5.196379e-02  3.461424e-01 -1.0   \n",
       "TOTALPREM                   14424.0  2.212254e+07  4.392411e+07  1.0   \n",
       "MAX_PRM                     14424.0  3.410767e+05  1.171299e+06  1.0   \n",
       "CUST_INCM                   14424.0  2.069353e+03  2.232015e+03  0.0   \n",
       "RCBASE_HSHD_INCM            14424.0  4.766341e+03  3.077394e+03  0.0   \n",
       "DMND_AMT                    14424.0  4.332966e+06  1.427434e+07  0.0   \n",
       "AVGCRDT_scaled              14424.0  6.023537e-01  8.595165e-02  0.1   \n",
       "SUBCRDT_scaled              14424.0  3.679285e-02  1.055764e-01  0.0   \n",
       "\n",
       "                                      25%           50%           75%  \\\n",
       "CUST_ID                       5575.750000  1.112750e+04  1.672475e+04   \n",
       "SIU_CUST_BOOL                    0.000000  0.000000e+00  0.000000e+00   \n",
       "SEX                              0.000000  0.000000e+00  1.000000e+00   \n",
       "OCCP_RELEVENT_1                  0.000000  0.000000e+00  0.000000e+00   \n",
       "OCCP_RELEVENT_2                  0.000000  0.000000e+00  1.000000e+00   \n",
       "OCCP_RELEVENT_3                  0.000000  0.000000e+00  0.000000e+00   \n",
       "OCCP_RELEVENT_5                  0.000000  0.000000e+00  0.000000e+00   \n",
       "OCCP_RELEVENT_6                  0.000000  0.000000e+00  0.000000e+00   \n",
       "OCCP_RELEVENT_8                  0.000000  0.000000e+00  0.000000e+00   \n",
       "OCCP_RELEVENT_9                  0.000000  0.000000e+00  0.000000e+00   \n",
       "OCCP_RELEVENT_10                 0.000000  0.000000e+00  0.000000e+00   \n",
       "OCCP_RELEVENT_11                 0.000000  0.000000e+00  0.000000e+00   \n",
       "OCCP_RELEVENT_12                 0.000000  0.000000e+00  0.000000e+00   \n",
       "FP_CAREER_BOOL                   0.000000  0.000000e+00  0.000000e+00   \n",
       "CHANGE_FP_BOOL                   0.000000  1.000000e+00  1.000000e+00   \n",
       "MAX_RGST_SUB_M_scaled           -1.000000 -6.131472e-01  2.085141e-01   \n",
       "RECP_HOSP_SUB_Dmean_scaled      -0.294058 -7.575203e-02  1.965054e-01   \n",
       "TOTALPREM                        1.000000  9.235318e+06  2.585278e+07   \n",
       "MAX_PRM                          1.000000  1.299330e+05  3.504332e+05   \n",
       "CUST_INCM                        0.000000  0.000000e+00  4.079000e+03   \n",
       "RCBASE_HSHD_INCM              2968.750000  4.799000e+03  6.619000e+03   \n",
       "DMND_AMT                    340000.000000  8.700000e+05  2.510000e+06   \n",
       "AVGCRDT_scaled                   0.600000  6.000000e-01  6.000000e-01   \n",
       "SUBCRDT_scaled                   0.000000  0.000000e+00  0.000000e+00   \n",
       "\n",
       "                                     max  \n",
       "CUST_ID                     2.240000e+04  \n",
       "SIU_CUST_BOOL               1.000000e+00  \n",
       "SEX                         1.000000e+00  \n",
       "OCCP_RELEVENT_1             1.000000e+00  \n",
       "OCCP_RELEVENT_2             1.000000e+00  \n",
       "OCCP_RELEVENT_3             1.000000e+00  \n",
       "OCCP_RELEVENT_5             1.000000e+00  \n",
       "OCCP_RELEVENT_6             1.000000e+00  \n",
       "OCCP_RELEVENT_8             1.000000e+00  \n",
       "OCCP_RELEVENT_9             1.000000e+00  \n",
       "OCCP_RELEVENT_10            1.000000e+00  \n",
       "OCCP_RELEVENT_11            1.000000e+00  \n",
       "OCCP_RELEVENT_12            1.000000e+00  \n",
       "FP_CAREER_BOOL              1.000000e+00  \n",
       "CHANGE_FP_BOOL              1.000000e+00  \n",
       "MAX_RGST_SUB_M_scaled       6.670233e-01  \n",
       "RECP_HOSP_SUB_Dmean_scaled  1.006863e+00  \n",
       "TOTALPREM                   1.840052e+09  \n",
       "MAX_PRM                     5.686262e+07  \n",
       "CUST_INCM                   1.268700e+04  \n",
       "RCBASE_HSHD_INCM            1.982900e+04  \n",
       "DMND_AMT                    5.131648e+08  \n",
       "AVGCRDT_scaled              1.000000e+00  \n",
       "SUBCRDT_scaled              7.000000e-01  "
      ]
     },
     "execution_count": 91,
     "metadata": {},
     "output_type": "execute_result"
    }
   ],
   "source": [
    "cust_train_data.describe().T"
   ]
  },
  {
   "cell_type": "markdown",
   "metadata": {},
   "source": [
    "###### TOTALPREM\n",
    "- 고객이 지금까지 당사에 실제 납입한 총 보험료의 합계"
   ]
  },
  {
   "cell_type": "code",
   "execution_count": 92,
   "metadata": {},
   "outputs": [
    {
     "data": {
      "image/png": "[encoded data removed]",
      "text/plain": [
       "<Figure size 1152x360 with 2 Axes>"
      ]
     },
     "metadata": {
      "needs_background": "light"
     },
     "output_type": "display_data"
    }
   ],
   "source": [
    "fig, axs = plt.subplots(1, 2, figsize=(16, 5))\n",
    "sns.distplot(cust_train_data[\"TOTALPREM\"], ax=axs[0])\n",
    "plt.title(\"TOTALPREM: Total Premium\")\n",
    "sns.distplot(cust_train_data.loc[cust_train_data[\"TOTALPREM\"] > 1000000, \"TOTALPREM\"], ax=axs[1])\n",
    "plt.title(\"TOTALPREM: Total Premium\")\n",
    "plt.show()"
   ]
  },
  {
   "cell_type": "code",
   "execution_count": 93,
   "metadata": {},
   "outputs": [
    {
     "data": {
      "text/plain": [
       "9235317.5"
      ]
     },
     "execution_count": 93,
     "metadata": {},
     "output_type": "execute_result"
    }
   ],
   "source": [
    "cust_train_data[\"TOTALPREM\"].median()"
   ]
  },
  {
   "cell_type": "code",
   "execution_count": 94,
   "metadata": {},
   "outputs": [],
   "source": [
    "cust_train_data[\"TOTALPREM_scaled\"] = \\\n",
    "    cust_train_data[\"TOTALPREM\"]\\\n",
    "    .apply(lambda num_: (np.log(num_) / np.log(9000000))) # 중위값과 비슷한 값"
   ]
  },
  {
   "cell_type": "code",
   "execution_count": 95,
   "metadata": {},
   "outputs": [
    {
     "data": {
      "text/plain": [
       "count    14424.000000\n",
       "mean         0.763855\n",
       "std          0.455598\n",
       "min          0.000000\n",
       "25%          0.000000\n",
       "50%          1.001612\n",
       "75%          1.065897\n",
       "max          1.332256\n",
       "Name: TOTALPREM_scaled, dtype: float64"
      ]
     },
     "execution_count": 95,
     "metadata": {},
     "output_type": "execute_result"
    }
   ],
   "source": [
    "cust_train_data[\"TOTALPREM_scaled\"].describe()"
   ]
  },
  {
   "cell_type": "code",
   "execution_count": 96,
   "metadata": {},
   "outputs": [
    {
     "data": {
      "image/png": "[encoded data removed]",
      "text/plain": [
       "<Figure size 432x288 with 1 Axes>"
      ]
     },
     "metadata": {
      "needs_background": "light"
     },
     "output_type": "display_data"
    }
   ],
   "source": [
    "sns.distplot(cust_train_data[\"TOTALPREM_scaled\"])\n",
    "plt.title(\"TOTALPREM: Total Premium (scaled)\")\n",
    "plt.show()"
   ]
  },
  {
   "cell_type": "code",
   "execution_count": 97,
   "metadata": {},
   "outputs": [
    {
     "name": "stdout",
     "output_type": "stream",
     "text": [
      "0.9116684889807979 0.9754351927150638 0.7257443123324143 0.9000858647223535 0.8482623339317591\n"
     ]
    }
   ],
   "source": [
    "# 평균적으로 신용등급 우수 - 1~2\n",
    "totalprem_woosoo = \\\n",
    "    cust_train_data.loc[cust_train_data[\"AVGCRDT_scaled\"] < 0.25, \"TOTALPREM_scaled\"].mean()\n",
    "# 평균적으로 신용등급 보통 - 3~5\n",
    "totalprem_botong = \\\n",
    "    cust_train_data.loc[\n",
    "    cust_train_data[\"AVGCRDT_scaled\"].between(0.25, 0.55), \"TOTALPREM_scaled\"].mean()\n",
    "# 평균적으로 신용등급 보통 혹은 미확인 - 6\n",
    "totalprem_unknown = \\\n",
    "    cust_train_data.loc[\n",
    "    cust_train_data[\"AVGCRDT_scaled\"].between(0.55, 0.65), \"TOTALPREM_scaled\"].mean()\n",
    "# 평균적으로 신용등급 주의 - 7~8\n",
    "totalprem_zoouii = \\\n",
    "    cust_train_data.loc[\n",
    "    cust_train_data[\"AVGCRDT_scaled\"].between(0.65, 0.85), \"TOTALPREM_scaled\"].mean()\n",
    "# 평균적으로 신용등급 위험 - 9~10\n",
    "totalprem_weehum = \\\n",
    "    cust_train_data.loc[cust_train_data[\"AVGCRDT_scaled\"] >= 0.85, \"TOTALPREM_scaled\"].mean()\n",
    "\n",
    "print(totalprem_woosoo, \n",
    "      totalprem_botong, \n",
    "      totalprem_unknown, \n",
    "      totalprem_zoouii, \n",
    "      totalprem_weehum)"
   ]
  },
  {
   "cell_type": "code",
   "execution_count": 98,
   "metadata": {},
   "outputs": [
    {
     "data": {
      "image/png": "[encoded data removed]",
      "text/plain": [
       "<Figure size 432x288 with 1 Axes>"
      ]
     },
     "metadata": {
      "needs_background": "light"
     },
     "output_type": "display_data"
    }
   ],
   "source": [
    "# 평균적으로 신용등급 6인 사람들의 TOTALPREM으로 fillna\n",
    "cust_train_data.loc[\n",
    "    cust_train_data[\"TOTALPREM_scaled\"] == 0, \"TOTALPREM_scaled\"] = totalprem_unknown\n",
    "\n",
    "sns.distplot(cust_train_data[\"TOTALPREM_scaled\"])\n",
    "plt.title(\"TOTALPREM: Total Premium (scaled)\")\n",
    "plt.show()"
   ]
  },
  {
   "cell_type": "code",
   "execution_count": 99,
   "metadata": {},
   "outputs": [],
   "source": [
    "# 범위 조정\n",
    "cust_train_data[\"TOTALPREM_scaled\"] = cust_train_data[\"TOTALPREM_scaled\"].apply(lambda num_: num_-1)"
   ]
  },
  {
   "cell_type": "code",
   "execution_count": 100,
   "metadata": {},
   "outputs": [],
   "source": [
    "cust_test_data[\"TOTALPREM_scaled\"] = \\\n",
    "    cust_test_data[\"TOTALPREM\"]\\\n",
    "    .apply(lambda num_: (np.log(num_) / np.log(9000000))) # 중위값과 비슷한 값\n",
    "\n",
    "cust_test_data.loc[\n",
    "    cust_test_data[\"TOTALPREM_scaled\"] == 0, \"TOTALPREM_scaled\"] = totalprem_unknown\n",
    "cust_test_data[\"TOTALPREM_scaled\"] = cust_test_data[\"TOTALPREM_scaled\"].apply(lambda num_: num_-1)\n",
    "\n",
    "cust_train_data = cust_train_data.drop(\"TOTALPREM\", axis=1)\n",
    "cust_test_data = cust_test_data.drop(\"TOTALPREM\", axis=1)"
   ]
  },
  {
   "cell_type": "code",
   "execution_count": 101,
   "metadata": {},
   "outputs": [],
   "source": [
    "del totalprem_woosoo, totalprem_botong, totalprem_unknown, totalprem_zoouii, totalprem_weehum"
   ]
  },
  {
   "cell_type": "markdown",
   "metadata": {},
   "source": [
    "###### MAX_PRM\n",
    "- 당사에 최대규모의 보험료를 납입했던 월보험료 수준"
   ]
  },
  {
   "cell_type": "code",
   "execution_count": 102,
   "metadata": {},
   "outputs": [
    {
     "data": {
      "image/png": "[encoded data removed]",
      "text/plain": [
       "<Figure size 1152x360 with 2 Axes>"
      ]
     },
     "metadata": {
      "needs_background": "light"
     },
     "output_type": "display_data"
    }
   ],
   "source": [
    "fig, axs = plt.subplots(1, 2, figsize=(16, 5))\n",
    "sns.distplot(cust_train_data[\"MAX_PRM\"], ax=axs[0])\n",
    "plt.title(\"MAX_PRM: Max Premium\")\n",
    "sns.distplot(cust_train_data.loc[cust_train_data[\"MAX_PRM\"] > 1000000, \"MAX_PRM\"], ax=axs[1])\n",
    "plt.title(\"MAX_PRM: Max Premium\")\n",
    "plt.show()"
   ]
  },
  {
   "cell_type": "code",
   "execution_count": 103,
   "metadata": {},
   "outputs": [
    {
     "data": {
      "text/plain": [
       "129933.0"
      ]
     },
     "execution_count": 103,
     "metadata": {},
     "output_type": "execute_result"
    }
   ],
   "source": [
    "cust_train_data[\"MAX_PRM\"].median()"
   ]
  },
  {
   "cell_type": "code",
   "execution_count": 104,
   "metadata": {},
   "outputs": [],
   "source": [
    "cust_train_data[\"MAX_PRM_scaled\"] = \\\n",
    "    cust_train_data[\"MAX_PRM\"]\\\n",
    "    .apply(lambda num_: (np.log(num_) / np.log(100000))) # 중위값과 비슷한 값"
   ]
  },
  {
   "cell_type": "code",
   "execution_count": 105,
   "metadata": {
    "scrolled": true
   },
   "outputs": [
    {
     "data": {
      "text/plain": [
       "count    14424.000000\n",
       "mean         0.762243\n",
       "std          0.493770\n",
       "min          0.000000\n",
       "25%          0.000000\n",
       "50%          1.022744\n",
       "75%          1.108921\n",
       "max          1.550965\n",
       "Name: MAX_PRM_scaled, dtype: float64"
      ]
     },
     "execution_count": 105,
     "metadata": {},
     "output_type": "execute_result"
    }
   ],
   "source": [
    "cust_train_data[\"MAX_PRM_scaled\"].describe()"
   ]
  },
  {
   "cell_type": "code",
   "execution_count": 106,
   "metadata": {},
   "outputs": [
    {
     "data": {
      "image/png": "[encoded data removed]",
      "text/plain": [
       "<Figure size 432x288 with 1 Axes>"
      ]
     },
     "metadata": {
      "needs_background": "light"
     },
     "output_type": "display_data"
    }
   ],
   "source": [
    "sns.distplot(cust_train_data[\"MAX_PRM_scaled\"])\n",
    "plt.title(\"MAX_PRM: Max Premium (scaled)\")\n",
    "plt.show()"
   ]
  },
  {
   "cell_type": "code",
   "execution_count": 107,
   "metadata": {},
   "outputs": [
    {
     "name": "stdout",
     "output_type": "stream",
     "text": [
      "0.9003336348360922 1.0263728694649803 0.7119931080219309 0.9544687675235912 0.8958297559017253\n"
     ]
    }
   ],
   "source": [
    "# 평균적으로 신용등급 우수 - 1~2\n",
    "maxprm_woosoo = \\\n",
    "    cust_train_data.loc[cust_train_data[\"AVGCRDT_scaled\"] < 0.25, \"MAX_PRM_scaled\"].mean()\n",
    "# 평균적으로 신용등급 보통 - 3~5\n",
    "maxprm_botong = \\\n",
    "    cust_train_data.loc[\n",
    "    cust_train_data[\"AVGCRDT_scaled\"].between(0.25, 0.55), \"MAX_PRM_scaled\"].mean()\n",
    "# 평균적으로 신용등급 보통 혹은 미확인 - 6\n",
    "maxprm_unknown = \\\n",
    "    cust_train_data.loc[\n",
    "    cust_train_data[\"AVGCRDT_scaled\"].between(0.55, 0.65), \"MAX_PRM_scaled\"].mean()\n",
    "# 평균적으로 신용등급 주의 - 7~8\n",
    "maxprm_zoouii = \\\n",
    "    cust_train_data.loc[\n",
    "    cust_train_data[\"AVGCRDT_scaled\"].between(0.65, 0.85), \"MAX_PRM_scaled\"].mean()\n",
    "# 평균적으로 신용등급 위험 - 9~10\n",
    "maxprm_weehum = \\\n",
    "    cust_train_data.loc[cust_train_data[\"AVGCRDT_scaled\"] >= 0.85, \"MAX_PRM_scaled\"].mean()\n",
    "\n",
    "print(maxprm_woosoo, \n",
    "      maxprm_botong, \n",
    "      maxprm_unknown, \n",
    "      maxprm_zoouii, \n",
    "      maxprm_weehum)"
   ]
  },
  {
   "cell_type": "code",
   "execution_count": 108,
   "metadata": {},
   "outputs": [
    {
     "data": {
      "image/png": "[encoded data removed]",
      "text/plain": [
       "<Figure size 432x288 with 1 Axes>"
      ]
     },
     "metadata": {
      "needs_background": "light"
     },
     "output_type": "display_data"
    }
   ],
   "source": [
    "# 평균적으로 신용등급 6인 사람들의 TOTALPREM으로 fillna\n",
    "cust_train_data.loc[\n",
    "    cust_train_data[\"MAX_PRM_scaled\"] == 0, \"MAX_PRM_scaled\"] = maxprm_unknown\n",
    "\n",
    "sns.distplot(cust_train_data[\"MAX_PRM_scaled\"])\n",
    "plt.title(\"MAX_PRM: Max Premium (scaled)\")\n",
    "plt.show()"
   ]
  },
  {
   "cell_type": "code",
   "execution_count": 109,
   "metadata": {},
   "outputs": [],
   "source": [
    "# 범위 조정\n",
    "cust_train_data[\"MAX_PRM_scaled\"] = cust_train_data[\"MAX_PRM_scaled\"].apply(lambda num_: num_-1)"
   ]
  },
  {
   "cell_type": "code",
   "execution_count": 110,
   "metadata": {},
   "outputs": [],
   "source": [
    "cust_test_data[\"MAX_PRM_scaled\"] = \\\n",
    "    cust_test_data[\"MAX_PRM\"]\\\n",
    "    .apply(lambda num_: (np.log(num_) / np.log(100000))) # 중위값과 비슷한 값\n",
    "\n",
    "cust_test_data.loc[\n",
    "    cust_test_data[\"MAX_PRM_scaled\"] == 0, \"MAX_PRM_scaled\"] = maxprm_unknown\n",
    "cust_test_data[\"MAX_PRM_scaled\"] = cust_test_data[\"MAX_PRM_scaled\"].apply(lambda num_: num_-1)\n",
    "\n",
    "cust_train_data = cust_train_data.drop(\"MAX_PRM\", axis=1)\n",
    "cust_test_data = cust_test_data.drop(\"MAX_PRM\", axis=1)"
   ]
  },
  {
   "cell_type": "code",
   "execution_count": 111,
   "metadata": {},
   "outputs": [],
   "source": [
    "del maxprm_woosoo, maxprm_botong, maxprm_unknown, maxprm_zoouii, maxprm_weehum"
   ]
  },
  {
   "cell_type": "markdown",
   "metadata": {},
   "source": [
    "###### CUST_INCM\n",
    "- 고객의 연령/직업/보험료 수준등을 통한 고객의 개인 소득 추정금액"
   ]
  },
  {
   "cell_type": "code",
   "execution_count": 112,
   "metadata": {},
   "outputs": [
    {
     "data": {
      "image/png": "[encoded data removed]",
      "text/plain": [
       "<Figure size 1152x360 with 2 Axes>"
      ]
     },
     "metadata": {
      "needs_background": "light"
     },
     "output_type": "display_data"
    }
   ],
   "source": [
    "fig, axs = plt.subplots(1, 2, figsize=(16, 5))\n",
    "sns.distplot(cust_train_data[\"CUST_INCM\"], ax=axs[0])\n",
    "plt.title(\"CUST_INCM: Customer Income\")\n",
    "sns.distplot(cust_train_data.loc[cust_train_data[\"CUST_INCM\"] != 0, \"CUST_INCM\"], ax=axs[1])\n",
    "plt.title(\"CUST_INCM: Customer Income\")\n",
    "plt.show()"
   ]
  },
  {
   "cell_type": "code",
   "execution_count": 113,
   "metadata": {},
   "outputs": [
    {
     "data": {
      "text/plain": [
       "0.0"
      ]
     },
     "execution_count": 113,
     "metadata": {},
     "output_type": "execute_result"
    }
   ],
   "source": [
    "cust_train_data[\"CUST_INCM\"].median() # ???"
   ]
  },
  {
   "cell_type": "code",
   "execution_count": 114,
   "metadata": {},
   "outputs": [
    {
     "data": {
      "text/plain": [
       "4104.0"
      ]
     },
     "execution_count": 114,
     "metadata": {},
     "output_type": "execute_result"
    }
   ],
   "source": [
    "cust_train_data.loc[cust_train_data[\"CUST_INCM\"] != 0, \"CUST_INCM\"].median()"
   ]
  },
  {
   "cell_type": "code",
   "execution_count": 115,
   "metadata": {},
   "outputs": [],
   "source": [
    "cust_train_data.loc[cust_train_data[\"CUST_INCM\"] < 1, \"CUST_INCM\"] = 1\n",
    "\n",
    "cust_train_data[\"CUST_INCM_scaled\"] = \\\n",
    "    cust_train_data[\"CUST_INCM\"]\\\n",
    "    .apply(lambda num_: (np.log(num_) / np.log(4000))) # 중위값과 비슷한 값"
   ]
  },
  {
   "cell_type": "code",
   "execution_count": 116,
   "metadata": {
    "scrolled": true
   },
   "outputs": [
    {
     "data": {
      "text/plain": [
       "count    14424.000000\n",
       "mean         0.490948\n",
       "std          0.502010\n",
       "min          0.000000\n",
       "25%          0.000000\n",
       "50%          0.000000\n",
       "75%          1.002358\n",
       "max          1.139170\n",
       "Name: CUST_INCM_scaled, dtype: float64"
      ]
     },
     "execution_count": 116,
     "metadata": {},
     "output_type": "execute_result"
    }
   ],
   "source": [
    "cust_train_data[\"CUST_INCM_scaled\"].describe()"
   ]
  },
  {
   "cell_type": "code",
   "execution_count": 117,
   "metadata": {},
   "outputs": [
    {
     "data": {
      "image/png": "[encoded data removed]",
      "text/plain": [
       "<Figure size 432x288 with 1 Axes>"
      ]
     },
     "metadata": {
      "needs_background": "light"
     },
     "output_type": "display_data"
    }
   ],
   "source": [
    "sns.distplot(cust_train_data[\"CUST_INCM_scaled\"])\n",
    "plt.title(\"CUST_INCM: Customer Income (scaled)\")\n",
    "plt.show() # ?????"
   ]
  },
  {
   "cell_type": "code",
   "execution_count": 118,
   "metadata": {},
   "outputs": [
    {
     "name": "stdout",
     "output_type": "stream",
     "text": [
      "0.6281483843223247 0.6038298287629107 0.4572519758297111 0.6616883347253697 0.6382443707592306\n"
     ]
    }
   ],
   "source": [
    "# 평균적으로 신용등급 우수 - 1~2\n",
    "custincm_woosoo = \\\n",
    "    cust_train_data.loc[cust_train_data[\"AVGCRDT_scaled\"] < 0.25, \"CUST_INCM_scaled\"].mean()\n",
    "# 평균적으로 신용등급 보통 - 3~5\n",
    "custincm_botong = \\\n",
    "    cust_train_data.loc[\n",
    "    cust_train_data[\"AVGCRDT_scaled\"].between(0.25, 0.55), \"CUST_INCM_scaled\"].mean()\n",
    "# 평균적으로 신용등급 보통 혹은 미확인 - 6\n",
    "custincm_unknown = \\\n",
    "    cust_train_data.loc[\n",
    "    cust_train_data[\"AVGCRDT_scaled\"].between(0.55, 0.65), \"CUST_INCM_scaled\"].mean()\n",
    "# 평균적으로 신용등급 주의 - 7~8\n",
    "custincm_zoouii = \\\n",
    "    cust_train_data.loc[\n",
    "    cust_train_data[\"AVGCRDT_scaled\"].between(0.65, 0.85), \"CUST_INCM_scaled\"].mean()\n",
    "# 평균적으로 신용등급 위험 - 9~10\n",
    "custincm_weehum = \\\n",
    "    cust_train_data.loc[cust_train_data[\"AVGCRDT_scaled\"] >= 0.85, \"CUST_INCM_scaled\"].mean()\n",
    "\n",
    "print(custincm_woosoo, \n",
    "      custincm_botong, \n",
    "      custincm_unknown, \n",
    "      custincm_zoouii, \n",
    "      custincm_weehum)"
   ]
  },
  {
   "cell_type": "code",
   "execution_count": 119,
   "metadata": {},
   "outputs": [
    {
     "data": {
      "image/png": "[encoded data removed]",
      "text/plain": [
       "<Figure size 432x288 with 1 Axes>"
      ]
     },
     "metadata": {
      "needs_background": "light"
     },
     "output_type": "display_data"
    }
   ],
   "source": [
    "# 평균적으로 신용등급 6인 사람들의 TOTALPREM으로 fillna\n",
    "cust_train_data.loc[\n",
    "    cust_train_data[\"CUST_INCM_scaled\"] == 0, \"CUST_INCM_scaled\"] = custincm_unknown\n",
    "\n",
    "sns.distplot(cust_train_data[\"CUST_INCM_scaled\"])\n",
    "plt.title(\"CUST_INCM: Customer Income (scaled)\")\n",
    "plt.show()"
   ]
  },
  {
   "cell_type": "code",
   "execution_count": 120,
   "metadata": {},
   "outputs": [
    {
     "data": {
      "text/plain": [
       "count    14424.000000\n",
       "mean         0.724488\n",
       "std          0.273744\n",
       "min          0.457252\n",
       "25%          0.457252\n",
       "50%          0.457252\n",
       "75%          1.002358\n",
       "max          1.139170\n",
       "Name: CUST_INCM_scaled, dtype: float64"
      ]
     },
     "execution_count": 120,
     "metadata": {},
     "output_type": "execute_result"
    }
   ],
   "source": [
    "cust_train_data[\"CUST_INCM_scaled\"].describe()"
   ]
  },
  {
   "cell_type": "code",
   "execution_count": 121,
   "metadata": {},
   "outputs": [],
   "source": [
    "# 범위 조정\n",
    "cust_train_data[\"CUST_INCM_scaled\"] = cust_train_data[\"CUST_INCM_scaled\"].apply(lambda num_: num_-0.4)"
   ]
  },
  {
   "cell_type": "code",
   "execution_count": 122,
   "metadata": {},
   "outputs": [],
   "source": [
    "cust_test_data.loc[cust_test_data[\"CUST_INCM\"] < 1, \"CUST_INCM\"] = 1\n",
    "\n",
    "cust_test_data[\"CUST_INCM_scaled\"] = \\\n",
    "    cust_test_data[\"CUST_INCM\"]\\\n",
    "    .apply(lambda num_: (np.log(num_) / np.log(4000))) # 중위값과 비슷한 값\n",
    "\n",
    "cust_test_data.loc[\n",
    "    cust_test_data[\"CUST_INCM_scaled\"] == 0, \"CUST_INCM_scaled\"] = custincm_unknown\n",
    "cust_test_data[\"CUST_INCM_scaled\"] = cust_test_data[\"CUST_INCM_scaled\"].apply(lambda num_: num_-1)\n",
    "\n",
    "cust_train_data = cust_train_data.drop(\"CUST_INCM\", axis=1)\n",
    "cust_test_data = cust_test_data.drop(\"CUST_INCM\", axis=1)"
   ]
  },
  {
   "cell_type": "code",
   "execution_count": 123,
   "metadata": {},
   "outputs": [],
   "source": [
    "del custincm_woosoo, custincm_botong, custincm_unknown, custincm_zoouii, custincm_weehum"
   ]
  },
  {
   "cell_type": "markdown",
   "metadata": {},
   "source": [
    "###### RCBASE_HSHD_INCM\n",
    "- 고객의 주택가격을 우선하여 정한 가구소득 추정금액"
   ]
  },
  {
   "cell_type": "code",
   "execution_count": 124,
   "metadata": {},
   "outputs": [
    {
     "data": {
      "image/png": "[encoded data removed]",
      "text/plain": [
       "<Figure size 1152x360 with 2 Axes>"
      ]
     },
     "metadata": {
      "needs_background": "light"
     },
     "output_type": "display_data"
    }
   ],
   "source": [
    "fig, axs = plt.subplots(1, 2, figsize=(16, 5))\n",
    "sns.distplot(cust_train_data[\"RCBASE_HSHD_INCM\"], ax=axs[0])\n",
    "plt.title(\"RCBASE_HSHD_INCM: Residence Cost Based Income\")\n",
    "sns.distplot(cust_train_data.loc[cust_train_data[\"RCBASE_HSHD_INCM\"] != 0, \"RCBASE_HSHD_INCM\"], ax=axs[1])\n",
    "plt.title(\"RCBASE_HSHD_INCM: Residence Cost Based Income\")\n",
    "plt.show()"
   ]
  },
  {
   "cell_type": "code",
   "execution_count": 125,
   "metadata": {},
   "outputs": [
    {
     "data": {
      "text/plain": [
       "4799.0"
      ]
     },
     "execution_count": 125,
     "metadata": {},
     "output_type": "execute_result"
    }
   ],
   "source": [
    "cust_train_data[\"RCBASE_HSHD_INCM\"].median()"
   ]
  },
  {
   "cell_type": "code",
   "execution_count": 126,
   "metadata": {},
   "outputs": [],
   "source": [
    "cust_train_data.loc[cust_train_data[\"RCBASE_HSHD_INCM\"] < 1, \"RCBASE_HSHD_INCM\"] = 1\n",
    "\n",
    "cust_train_data[\"RCBASE_HSHD_INCM_scaled\"] = \\\n",
    "    cust_train_data[\"RCBASE_HSHD_INCM\"]\\\n",
    "    .apply(lambda num_: (np.log(num_) / np.log(5000))) # 중위값과 비슷한 값"
   ]
  },
  {
   "cell_type": "code",
   "execution_count": 127,
   "metadata": {
    "scrolled": true
   },
   "outputs": [
    {
     "data": {
      "text/plain": [
       "count    14424.000000\n",
       "mean         0.833926\n",
       "std          0.381472\n",
       "min          0.000000\n",
       "25%          0.938795\n",
       "50%          0.995183\n",
       "75%          1.032934\n",
       "max          1.161756\n",
       "Name: RCBASE_HSHD_INCM_scaled, dtype: float64"
      ]
     },
     "execution_count": 127,
     "metadata": {},
     "output_type": "execute_result"
    }
   ],
   "source": [
    "cust_train_data[\"RCBASE_HSHD_INCM_scaled\"].describe()"
   ]
  },
  {
   "cell_type": "code",
   "execution_count": 128,
   "metadata": {},
   "outputs": [
    {
     "data": {
      "image/png": "[encoded data removed]",
      "text/plain": [
       "<Figure size 432x288 with 1 Axes>"
      ]
     },
     "metadata": {
      "needs_background": "light"
     },
     "output_type": "display_data"
    }
   ],
   "source": [
    "sns.distplot(cust_train_data[\"RCBASE_HSHD_INCM_scaled\"])\n",
    "plt.title(\"RCBASE_HSHD_INCM: Residence Cost Based Income (scaled)\")\n",
    "plt.show()"
   ]
  },
  {
   "cell_type": "code",
   "execution_count": 129,
   "metadata": {},
   "outputs": [
    {
     "name": "stdout",
     "output_type": "stream",
     "text": [
      "0.9225392522051301 0.9081570356055612 0.8282543231400677 0.8184392650382378 0.8159901058897391\n"
     ]
    }
   ],
   "source": [
    "# 평균적으로 신용등급 우수 - 1~2\n",
    "rcbase_woosoo = \\\n",
    "    cust_train_data.loc[cust_train_data[\"AVGCRDT_scaled\"] < 0.25, \"RCBASE_HSHD_INCM_scaled\"].mean()\n",
    "# 평균적으로 신용등급 보통 - 3~5\n",
    "rcbase_botong = \\\n",
    "    cust_train_data.loc[\n",
    "    cust_train_data[\"AVGCRDT_scaled\"].between(0.25, 0.55), \"RCBASE_HSHD_INCM_scaled\"].mean()\n",
    "# 평균적으로 신용등급 보통 혹은 미확인 - 6\n",
    "rcbase_unknown = \\\n",
    "    cust_train_data.loc[\n",
    "    cust_train_data[\"AVGCRDT_scaled\"].between(0.55, 0.65), \"RCBASE_HSHD_INCM_scaled\"].mean()\n",
    "# 평균적으로 신용등급 주의 - 7~8\n",
    "rcbase_zoouii = \\\n",
    "    cust_train_data.loc[\n",
    "    cust_train_data[\"AVGCRDT_scaled\"].between(0.65, 0.85), \"RCBASE_HSHD_INCM_scaled\"].mean()\n",
    "# 평균적으로 신용등급 위험 - 9~10\n",
    "rcbase_weehum = \\\n",
    "    cust_train_data.loc[cust_train_data[\"AVGCRDT_scaled\"] >= 0.85, \"RCBASE_HSHD_INCM_scaled\"].mean()\n",
    "\n",
    "print(rcbase_woosoo, \n",
    "      rcbase_botong, \n",
    "      rcbase_unknown, \n",
    "      rcbase_zoouii, \n",
    "      rcbase_weehum) # 신용등급으로 분리 X"
   ]
  },
  {
   "cell_type": "code",
   "execution_count": 130,
   "metadata": {},
   "outputs": [
    {
     "data": {
      "image/png": "[encoded data removed]",
      "text/plain": [
       "<Figure size 432x288 with 1 Axes>"
      ]
     },
     "metadata": {
      "needs_background": "light"
     },
     "output_type": "display_data"
    }
   ],
   "source": [
    "# 평균적으로 신용등급 6인 사람들의 TOTALPREM으로 fillna\n",
    "cust_train_data.loc[\n",
    "    cust_train_data[\"RCBASE_HSHD_INCM_scaled\"] == 0, \"RCBASE_HSHD_INCM_scaled\"] = rcbase_unknown\n",
    "\n",
    "sns.distplot(cust_train_data[\"RCBASE_HSHD_INCM_scaled\"])\n",
    "plt.title(\"RCBASE_HSHD_INCM: Residence Cost Based Income (scaled)\")\n",
    "plt.show()"
   ]
  },
  {
   "cell_type": "code",
   "execution_count": 131,
   "metadata": {},
   "outputs": [
    {
     "data": {
      "text/plain": [
       "count    14424.000000\n",
       "mean         0.975471\n",
       "std          0.081455\n",
       "min          0.773764\n",
       "25%          0.938795\n",
       "50%          0.995183\n",
       "75%          1.032934\n",
       "max          1.161756\n",
       "Name: RCBASE_HSHD_INCM_scaled, dtype: float64"
      ]
     },
     "execution_count": 131,
     "metadata": {},
     "output_type": "execute_result"
    }
   ],
   "source": [
    "cust_train_data[\"RCBASE_HSHD_INCM_scaled\"].describe()"
   ]
  },
  {
   "cell_type": "code",
   "execution_count": 132,
   "metadata": {},
   "outputs": [],
   "source": [
    "# 범위 조정\n",
    "cust_train_data[\"RCBASE_HSHD_INCM_scaled\"] = cust_train_data[\"RCBASE_HSHD_INCM_scaled\"].apply(lambda num_: num_-0.2)"
   ]
  },
  {
   "cell_type": "code",
   "execution_count": 133,
   "metadata": {},
   "outputs": [],
   "source": [
    "cust_test_data.loc[cust_test_data[\"RCBASE_HSHD_INCM\"] < 1, \"RCBASE_HSHD_INCM\"] = 1\n",
    "\n",
    "cust_test_data[\"RCBASE_HSHD_INCM_scaled\"] = \\\n",
    "    cust_test_data[\"RCBASE_HSHD_INCM\"]\\\n",
    "    .apply(lambda num_: (np.log(num_) / np.log(5000))) # 중위값과 비슷한 값\n",
    "\n",
    "cust_test_data.loc[\n",
    "    cust_test_data[\"RCBASE_HSHD_INCM_scaled\"] == 0, \"RCBASE_HSHD_INCM_scaled\"] = rcbase_unknown\n",
    "cust_test_data[\"RCBASE_HSHD_INCM_scaled\"] = cust_test_data[\"RCBASE_HSHD_INCM_scaled\"].apply(lambda num_: num_-1)\n",
    "\n",
    "cust_train_data = cust_train_data.drop(\"RCBASE_HSHD_INCM\", axis=1)\n",
    "cust_test_data = cust_test_data.drop(\"RCBASE_HSHD_INCM\", axis=1)"
   ]
  },
  {
   "cell_type": "code",
   "execution_count": 134,
   "metadata": {},
   "outputs": [],
   "source": [
    "del rcbase_woosoo, rcbase_botong, rcbase_unknown, rcbase_zoouii, rcbase_weehum"
   ]
  },
  {
   "cell_type": "markdown",
   "metadata": {},
   "source": [
    "###### DMND_AMT\n",
    "- 사고보험금 청구금액"
   ]
  },
  {
   "cell_type": "code",
   "execution_count": 135,
   "metadata": {},
   "outputs": [
    {
     "data": {
      "image/png": "[encoded data removed]",
      "text/plain": [
       "<Figure size 1152x360 with 2 Axes>"
      ]
     },
     "metadata": {
      "needs_background": "light"
     },
     "output_type": "display_data"
    }
   ],
   "source": [
    "fig, axs = plt.subplots(1, 2, figsize=(16, 5))\n",
    "sns.distplot(cust_train_data[\"DMND_AMT\"], ax=axs[0])\n",
    "plt.title(\"DMND_AMT: Demanded Amount\")\n",
    "sns.distplot(cust_train_data.loc[cust_train_data[\"DMND_AMT\"] > 1000000, \"DMND_AMT\"], ax=axs[1])\n",
    "plt.title(\"DMND_AMT: Demanded Amount\")\n",
    "plt.show()"
   ]
  },
  {
   "cell_type": "code",
   "execution_count": 136,
   "metadata": {},
   "outputs": [
    {
     "data": {
      "text/plain": [
       "870000.0"
      ]
     },
     "execution_count": 136,
     "metadata": {},
     "output_type": "execute_result"
    }
   ],
   "source": [
    "cust_train_data[\"DMND_AMT\"].median()"
   ]
  },
  {
   "cell_type": "code",
   "execution_count": 137,
   "metadata": {},
   "outputs": [],
   "source": [
    "cust_train_data.loc[cust_train_data[\"DMND_AMT\"] < 1, \"DMND_AMT\"] = 1\n",
    "\n",
    "cust_train_data[\"DMND_AMT_scaled\"] = \\\n",
    "    cust_train_data[\"DMND_AMT\"]\\\n",
    "    .apply(lambda num_: (np.log(num_) / np.log(900000))) # 중위값과 비슷한 값"
   ]
  },
  {
   "cell_type": "code",
   "execution_count": 138,
   "metadata": {
    "scrolled": true
   },
   "outputs": [
    {
     "data": {
      "text/plain": [
       "count    14424.000000\n",
       "mean         1.006735\n",
       "std          0.117598\n",
       "min          0.000000\n",
       "25%          0.928998\n",
       "50%          0.997527\n",
       "75%          1.074809\n",
       "max          1.462866\n",
       "Name: DMND_AMT_scaled, dtype: float64"
      ]
     },
     "execution_count": 138,
     "metadata": {},
     "output_type": "execute_result"
    }
   ],
   "source": [
    "cust_train_data[\"DMND_AMT_scaled\"].describe()"
   ]
  },
  {
   "cell_type": "code",
   "execution_count": 139,
   "metadata": {},
   "outputs": [
    {
     "data": {
      "image/png": "[encoded data removed]",
      "text/plain": [
       "<Figure size 432x288 with 1 Axes>"
      ]
     },
     "metadata": {
      "needs_background": "light"
     },
     "output_type": "display_data"
    }
   ],
   "source": [
    "sns.distplot(cust_train_data[\"DMND_AMT_scaled\"])\n",
    "plt.title(\"DMND_AMT: Demanded Amount (scaled)\")\n",
    "plt.show()"
   ]
  },
  {
   "cell_type": "code",
   "execution_count": 140,
   "metadata": {},
   "outputs": [],
   "source": [
    "# 범위 조정\n",
    "cust_train_data[\"DMND_AMT_scaled\"] = cust_train_data[\"DMND_AMT_scaled\"].apply(lambda num_: num_-1)"
   ]
  },
  {
   "cell_type": "code",
   "execution_count": 141,
   "metadata": {},
   "outputs": [],
   "source": [
    "cust_test_data.loc[cust_test_data[\"DMND_AMT\"] < 1, \"DMND_AMT\"] = 1\n",
    "\n",
    "cust_test_data[\"DMND_AMT_scaled\"] = \\\n",
    "    cust_test_data[\"DMND_AMT\"]\\\n",
    "    .apply(lambda num_: (np.log(num_) / np.log(900000))) # 중위값과 비슷한 값\n",
    "\n",
    "cust_train_data.loc[cust_train_data[\"DMND_AMT\"] < 1, \"DMND_AMT\"] = 1\n",
    "cust_test_data[\"DMND_AMT_scaled\"] = cust_test_data[\"DMND_AMT_scaled\"].apply(lambda num_: num_-1)\n",
    "\n",
    "cust_train_data = cust_train_data.drop(\"DMND_AMT\", axis=1)\n",
    "cust_test_data = cust_test_data.drop(\"DMND_AMT\", axis=1)"
   ]
  },
  {
   "cell_type": "markdown",
   "metadata": {},
   "source": [
    "###### 상관계수 다시 확인"
   ]
  },
  {
   "cell_type": "code",
   "execution_count": 142,
   "metadata": {},
   "outputs": [],
   "source": [
    "temp_df = cust_train_data.drop([\"CUST_ID\"], axis=1)"
   ]
  },
  {
   "cell_type": "code",
   "execution_count": 143,
   "metadata": {},
   "outputs": [
    {
     "data": {
      "text/plain": [
       "<matplotlib.axes._subplots.AxesSubplot at 0x2862da23a08>"
      ]
     },
     "execution_count": 143,
     "metadata": {},
     "output_type": "execute_result"
    },
    {
     "data": {
      "image/png": "[encoded data removed]",
      "text/plain": [
       "<Figure size 1152x1152 with 2 Axes>"
      ]
     },
     "metadata": {
      "needs_background": "light"
     },
     "output_type": "display_data"
    }
   ],
   "source": [
    "corrs = temp_df.corr()\n",
    "corrs = corrs.apply(round, ndigits=1) # 소수 첫번째 자리까지\n",
    "corrs = corrs.apply(abs) # 부호 보지 않음\n",
    "plt.figure(figsize=(16, 16))\n",
    "sns.heatmap(corrs, annot=True)"
   ]
  },
  {
   "cell_type": "code",
   "execution_count": 144,
   "metadata": {},
   "outputs": [],
   "source": [
    "# TOTALPREM과 상관계수 높은 MAX_PRM 삭제\n",
    "cust_train_data = cust_train_data.drop(\"MAX_PRM_scaled\", axis=1)\n",
    "cust_test_data = cust_test_data.drop(\"MAX_PRM_scaled\", axis=1)"
   ]
  },
  {
   "cell_type": "markdown",
   "metadata": {},
   "source": [
    "### 개별 사건 데이터(3)\n",
    "* TFIDF 활용"
   ]
  },
  {
   "cell_type": "code",
   "execution_count": 145,
   "metadata": {},
   "outputs": [
    {
     "data": {
      "text/html": [
       "<div>\n",
       "<style scoped>\n",
       "    .dataframe tbody tr th:only-of-type {\n",
       "        vertical-align: middle;\n",
       "    }\n",
       "\n",
       "    .dataframe tbody tr th {\n",
       "        vertical-align: top;\n",
       "    }\n",
       "\n",
       "    .dataframe thead th {\n",
       "        text-align: right;\n",
       "    }\n",
       "</style>\n",
       "<table border=\"1\" class=\"dataframe\">\n",
       "  <thead>\n",
       "    <tr style=\"text-align: right;\">\n",
       "      <th></th>\n",
       "      <th>CUST_ID</th>\n",
       "      <th>SIU_CUST_BOOL</th>\n",
       "      <th>DSAS_LIST</th>\n",
       "      <th>RESL_LIST</th>\n",
       "      <th>ACCI_DVSN_1</th>\n",
       "      <th>ACCI_DVSN_2</th>\n",
       "      <th>DMND_RESN_2</th>\n",
       "      <th>DMND_RESN_4</th>\n",
       "      <th>HEED_HOSP</th>\n",
       "      <th>HOSP_LOC_CLOSE</th>\n",
       "      <th>HOSP_LOC_FAR</th>\n",
       "      <th>HOSP_SPEC_1</th>\n",
       "      <th>HOSP_SPEC_2</th>\n",
       "      <th>HOSP_SPEC_3</th>\n",
       "      <th>HOSP_SPEC_4</th>\n",
       "      <th>HOSP_SPEC_8</th>\n",
       "      <th>HOSP_SPEC_10</th>\n",
       "    </tr>\n",
       "  </thead>\n",
       "  <tbody>\n",
       "    <tr>\n",
       "      <th>0</th>\n",
       "      <td>17766</td>\n",
       "      <td>1</td>\n",
       "      <td>[족, 재건, 족관절염좌, 경추, 경추염좌, 양, 견, 급성, 벽, 양측견관절염좌,...</td>\n",
       "      <td>[부위, 상세불명부위, 경추, 발목, 탈구, 추, 상, 관절, 급성, 불명, 발, ...</td>\n",
       "      <td>0.916667</td>\n",
       "      <td>0.000000</td>\n",
       "      <td>0.583333</td>\n",
       "      <td>0.0</td>\n",
       "      <td>0.0</td>\n",
       "      <td>0.583333</td>\n",
       "      <td>0.416667</td>\n",
       "      <td>1.0</td>\n",
       "      <td>1.0</td>\n",
       "      <td>1.0</td>\n",
       "      <td>0.0</td>\n",
       "      <td>0.0</td>\n",
       "      <td>0.0</td>\n",
       "    </tr>\n",
       "    <tr>\n",
       "      <th>1</th>\n",
       "      <td>10914</td>\n",
       "      <td>0</td>\n",
       "      <td>[요추염좌, 요추부수핵탈출증, 부수, 탈출증, 요추염좌외, 요추, 외, 핵, 염좌]</td>\n",
       "      <td>[관절, 허리뼈, 요추, 탈구, 인대, 골반, 긴장, 염좌]</td>\n",
       "      <td>1.000000</td>\n",
       "      <td>0.000000</td>\n",
       "      <td>0.222222</td>\n",
       "      <td>0.0</td>\n",
       "      <td>0.0</td>\n",
       "      <td>0.000000</td>\n",
       "      <td>1.000000</td>\n",
       "      <td>1.0</td>\n",
       "      <td>0.0</td>\n",
       "      <td>1.0</td>\n",
       "      <td>0.0</td>\n",
       "      <td>0.0</td>\n",
       "      <td>0.0</td>\n",
       "    </tr>\n",
       "    <tr>\n",
       "      <th>2</th>\n",
       "      <td>772</td>\n",
       "      <td>0</td>\n",
       "      <td>[우측, 생물, 골절, 치루, 근본, 불명결장, 2, 절제술, 치루근본절제술, 불명...</td>\n",
       "      <td>[생물, 골절, 직장부의, 흉골, 항문, 양성, 부의, 흉추, 열구, 누공, 결장,...</td>\n",
       "      <td>0.333333</td>\n",
       "      <td>0.000000</td>\n",
       "      <td>0.000000</td>\n",
       "      <td>0.0</td>\n",
       "      <td>0.0</td>\n",
       "      <td>1.000000</td>\n",
       "      <td>0.000000</td>\n",
       "      <td>1.0</td>\n",
       "      <td>1.0</td>\n",
       "      <td>0.0</td>\n",
       "      <td>0.0</td>\n",
       "      <td>0.0</td>\n",
       "      <td>0.0</td>\n",
       "    </tr>\n",
       "    <tr>\n",
       "      <th>3</th>\n",
       "      <td>20185</td>\n",
       "      <td>0</td>\n",
       "      <td>[슬관절, 우측대퇴부좌상, 좌측, 우측, 상악, 경요추염좌, 제, 상악좌측제2, 치...</td>\n",
       "      <td>[부위, 신경, 경추, 탈구, 장애, 추, 관절, 치은염, 잇몸염, 염좌, 경, 안...</td>\n",
       "      <td>0.000000</td>\n",
       "      <td>0.333333</td>\n",
       "      <td>0.666667</td>\n",
       "      <td>0.0</td>\n",
       "      <td>0.0</td>\n",
       "      <td>0.666667</td>\n",
       "      <td>0.000000</td>\n",
       "      <td>1.0</td>\n",
       "      <td>1.0</td>\n",
       "      <td>0.0</td>\n",
       "      <td>0.0</td>\n",
       "      <td>1.0</td>\n",
       "      <td>0.0</td>\n",
       "    </tr>\n",
       "    <tr>\n",
       "      <th>4</th>\n",
       "      <td>10295</td>\n",
       "      <td>0</td>\n",
       "      <td>[급성, 세균성, 복막, 급성충수염, 복막고름집, 장감염, 충수, 충수절제술, 절제...</td>\n",
       "      <td>[급성, 세균성, 기타, 장, 충수염, 감염]</td>\n",
       "      <td>0.000000</td>\n",
       "      <td>0.000000</td>\n",
       "      <td>0.666667</td>\n",
       "      <td>0.0</td>\n",
       "      <td>0.0</td>\n",
       "      <td>0.000000</td>\n",
       "      <td>0.666667</td>\n",
       "      <td>0.0</td>\n",
       "      <td>1.0</td>\n",
       "      <td>0.0</td>\n",
       "      <td>0.0</td>\n",
       "      <td>0.0</td>\n",
       "      <td>0.0</td>\n",
       "    </tr>\n",
       "  </tbody>\n",
       "</table>\n",
       "</div>"
      ],
      "text/plain": [
       "   CUST_ID  SIU_CUST_BOOL                                          DSAS_LIST  \\\n",
       "0    17766              1  [족, 재건, 족관절염좌, 경추, 경추염좌, 양, 견, 급성, 벽, 양측견관절염좌,...   \n",
       "1    10914              0     [요추염좌, 요추부수핵탈출증, 부수, 탈출증, 요추염좌외, 요추, 외, 핵, 염좌]   \n",
       "2      772              0  [우측, 생물, 골절, 치루, 근본, 불명결장, 2, 절제술, 치루근본절제술, 불명...   \n",
       "3    20185              0  [슬관절, 우측대퇴부좌상, 좌측, 우측, 상악, 경요추염좌, 제, 상악좌측제2, 치...   \n",
       "4    10295              0  [급성, 세균성, 복막, 급성충수염, 복막고름집, 장감염, 충수, 충수절제술, 절제...   \n",
       "\n",
       "                                           RESL_LIST  ACCI_DVSN_1  \\\n",
       "0  [부위, 상세불명부위, 경추, 발목, 탈구, 추, 상, 관절, 급성, 불명, 발, ...     0.916667   \n",
       "1                  [관절, 허리뼈, 요추, 탈구, 인대, 골반, 긴장, 염좌]     1.000000   \n",
       "2  [생물, 골절, 직장부의, 흉골, 항문, 양성, 부의, 흉추, 열구, 누공, 결장,...     0.333333   \n",
       "3  [부위, 신경, 경추, 탈구, 장애, 추, 관절, 치은염, 잇몸염, 염좌, 경, 안...     0.000000   \n",
       "4                          [급성, 세균성, 기타, 장, 충수염, 감염]     0.000000   \n",
       "\n",
       "   ACCI_DVSN_2  DMND_RESN_2  DMND_RESN_4  HEED_HOSP  HOSP_LOC_CLOSE  \\\n",
       "0     0.000000     0.583333          0.0        0.0        0.583333   \n",
       "1     0.000000     0.222222          0.0        0.0        0.000000   \n",
       "2     0.000000     0.000000          0.0        0.0        1.000000   \n",
       "3     0.333333     0.666667          0.0        0.0        0.666667   \n",
       "4     0.000000     0.666667          0.0        0.0        0.000000   \n",
       "\n",
       "   HOSP_LOC_FAR  HOSP_SPEC_1  HOSP_SPEC_2  HOSP_SPEC_3  HOSP_SPEC_4  \\\n",
       "0      0.416667          1.0          1.0          1.0          0.0   \n",
       "1      1.000000          1.0          0.0          1.0          0.0   \n",
       "2      0.000000          1.0          1.0          0.0          0.0   \n",
       "3      0.000000          1.0          1.0          0.0          0.0   \n",
       "4      0.666667          0.0          1.0          0.0          0.0   \n",
       "\n",
       "   HOSP_SPEC_8  HOSP_SPEC_10  \n",
       "0          0.0           0.0  \n",
       "1          0.0           0.0  \n",
       "2          0.0           0.0  \n",
       "3          1.0           0.0  \n",
       "4          0.0           0.0  "
      ]
     },
     "execution_count": 145,
     "metadata": {},
     "output_type": "execute_result"
    }
   ],
   "source": [
    "doc_train_data.head()"
   ]
  },
  {
   "cell_type": "code",
   "execution_count": 146,
   "metadata": {},
   "outputs": [],
   "source": [
    "temp_doc = doc_train_data[\"DSAS_LIST\"] + doc_train_data[\"RESL_LIST\"] "
   ]
  },
  {
   "cell_type": "code",
   "execution_count": 147,
   "metadata": {},
   "outputs": [],
   "source": [
    "def dummy_preprocessor(doc):\n",
    "    doc_set = set(doc)\n",
    "    if len(doc_set) == 0:\n",
    "        return doc\n",
    "    erase_set = set()\n",
    "    for token in doc_set:\n",
    "        if len(token) < 2:\n",
    "            erase_set.add(token)\n",
    "        elif re.search(r'\\d', token):\n",
    "            erase_set.add(token)\n",
    "    return list(doc_set - erase_set)\n",
    "\n",
    "temp_doc = temp_doc.apply(dummy_preprocessor)\n",
    "\n",
    "del dummy_preprocessor"
   ]
  },
  {
   "cell_type": "code",
   "execution_count": 148,
   "metadata": {},
   "outputs": [],
   "source": [
    "# AttributeError ('list' object has no attribute 'lower') 방지\n",
    "dummy_tokenizer = lambda doc: doc\n",
    "dummy_preprocessor = lambda doc: doc\n",
    "\n",
    "MAX_FEATURES = 100\n",
    "tfidf = TfidfVectorizer(max_features = MAX_FEATURES,\n",
    "                        tokenizer=dummy_tokenizer,\n",
    "                        preprocessor=dummy_preprocessor)"
   ]
  },
  {
   "cell_type": "code",
   "execution_count": 149,
   "metadata": {},
   "outputs": [
    {
     "name": "stderr",
     "output_type": "stream",
     "text": [
      "C:\\Programming\\Anaconda3\\lib\\site-packages\\sklearn\\feature_extraction\\text.py:484: UserWarning: The parameter 'token_pattern' will not be used since 'tokenizer' is not None'\n",
      "  warnings.warn(\"The parameter 'token_pattern' will not be used\"\n"
     ]
    }
   ],
   "source": [
    "tfidfv = tfidf.fit(temp_doc)"
   ]
  },
  {
   "cell_type": "code",
   "execution_count": 150,
   "metadata": {},
   "outputs": [],
   "source": [
    "tfidf_sp_train = tfidfv.transform(doc_train_data[\"DSAS_LIST\"] + doc_train_data[\"RESL_LIST\"]).toarray()\n",
    "tfidf_sp_test = tfidfv.transform(doc_test_data[\"DSAS_LIST\"] + doc_test_data[\"RESL_LIST\"]).toarray()"
   ]
  },
  {
   "cell_type": "code",
   "execution_count": 151,
   "metadata": {},
   "outputs": [],
   "source": [
    "doc_train_data = doc_train_data.drop([\"DSAS_LIST\", \"RESL_LIST\"], axis=1)\n",
    "doc_test_data = doc_test_data.drop([\"DSAS_LIST\", \"RESL_LIST\"], axis=1)\n",
    "\n",
    "for i in range(0, MAX_FEATURES):\n",
    "    newcol = \"TFIDF_\" + str(i)\n",
    "    doc_train_data[newcol] = pd.Series(tfidf_sp_train[:, i])\n",
    "    \n",
    "for i in range(0, MAX_FEATURES):\n",
    "    newcol = \"TFIDF_\" + str(i)\n",
    "    doc_test_data[newcol] = pd.Series(tfidf_sp_test[:, i])"
   ]
  },
  {
   "cell_type": "code",
   "execution_count": 152,
   "metadata": {},
   "outputs": [],
   "source": [
    "del temp_doc"
   ]
  },
  {
   "cell_type": "code",
   "execution_count": 153,
   "metadata": {},
   "outputs": [
    {
     "data": {
      "text/plain": [
       "['간판',\n",
       " '감염',\n",
       " '거골',\n",
       " '결장',\n",
       " '결장염',\n",
       " '경부',\n",
       " '경추',\n",
       " '경하',\n",
       " '골반',\n",
       " '골절',\n",
       " '관의',\n",
       " '관절',\n",
       " '관절염',\n",
       " '근본',\n",
       " '근육',\n",
       " '급성',\n",
       " '기관지',\n",
       " '기관지염',\n",
       " '기타',\n",
       " '기타질환',\n",
       " '긴장',\n",
       " '뇌진탕',\n",
       " '늑골',\n",
       " '다리',\n",
       " '다발성',\n",
       " '단일',\n",
       " '동반',\n",
       " '두개골',\n",
       " '디스크',\n",
       " '만성',\n",
       " '목부위',\n",
       " '무릎',\n",
       " '발목',\n",
       " '발의',\n",
       " '발의골절',\n",
       " '병증',\n",
       " '부분',\n",
       " '부위',\n",
       " '불명',\n",
       " '상세불명',\n",
       " '상처',\n",
       " '생물',\n",
       " '손목',\n",
       " '손부위',\n",
       " '손상',\n",
       " '수술',\n",
       " '수지',\n",
       " '슬관절',\n",
       " '신경',\n",
       " '신경통',\n",
       " '아래',\n",
       " '아래다리',\n",
       " '아래팔',\n",
       " '악성',\n",
       " '안면',\n",
       " '안면골',\n",
       " '양성',\n",
       " '양측',\n",
       " '어깨',\n",
       " '염좌',\n",
       " '요골',\n",
       " '요추',\n",
       " '요추염좌',\n",
       " '요통',\n",
       " '우측',\n",
       " '위염',\n",
       " '위장염',\n",
       " '이상',\n",
       " '인대',\n",
       " '자궁',\n",
       " '장애',\n",
       " '절제술',\n",
       " '정복',\n",
       " '제거',\n",
       " '제외',\n",
       " '종골',\n",
       " '좌상',\n",
       " '좌측',\n",
       " '중족골',\n",
       " '증후군',\n",
       " '직장',\n",
       " '질환',\n",
       " '척골',\n",
       " '척추',\n",
       " '추간판',\n",
       " '추간판장애',\n",
       " '치핵',\n",
       " '타박상',\n",
       " '탈구',\n",
       " '탈출증',\n",
       " '통증',\n",
       " '파열',\n",
       " '폐쇄성',\n",
       " '포함',\n",
       " '항문',\n",
       " '허리',\n",
       " '허리뼈',\n",
       " '혈적',\n",
       " '흉골',\n",
       " '흉추']"
      ]
     },
     "execution_count": 153,
     "metadata": {},
     "output_type": "execute_result"
    }
   ],
   "source": [
    "tfidf.get_feature_names()"
   ]
  },
  {
   "cell_type": "code",
   "execution_count": null,
   "metadata": {},
   "outputs": [],
   "source": []
  },
  {
   "cell_type": "markdown",
   "metadata": {},
   "source": [
    "# 학습 및 평가"
   ]
  },
  {
   "cell_type": "markdown",
   "metadata": {},
   "source": [
    "### 학습"
   ]
  },
  {
   "cell_type": "markdown",
   "metadata": {},
   "source": [
    "###### 데이터 정렬"
   ]
  },
  {
   "cell_type": "code",
   "execution_count": 154,
   "metadata": {},
   "outputs": [
    {
     "data": {
      "text/html": [
       "<div>\n",
       "<style scoped>\n",
       "    .dataframe tbody tr th:only-of-type {\n",
       "        vertical-align: middle;\n",
       "    }\n",
       "\n",
       "    .dataframe tbody tr th {\n",
       "        vertical-align: top;\n",
       "    }\n",
       "\n",
       "    .dataframe thead th {\n",
       "        text-align: right;\n",
       "    }\n",
       "</style>\n",
       "<table border=\"1\" class=\"dataframe\">\n",
       "  <thead>\n",
       "    <tr style=\"text-align: right;\">\n",
       "      <th></th>\n",
       "      <th>CUST_ID</th>\n",
       "      <th>SIU_CUST_BOOL</th>\n",
       "      <th>SEX</th>\n",
       "      <th>OCCP_RELEVENT_1</th>\n",
       "      <th>OCCP_RELEVENT_2</th>\n",
       "      <th>OCCP_RELEVENT_3</th>\n",
       "      <th>OCCP_RELEVENT_5</th>\n",
       "      <th>OCCP_RELEVENT_6</th>\n",
       "      <th>OCCP_RELEVENT_8</th>\n",
       "      <th>OCCP_RELEVENT_9</th>\n",
       "      <th>...</th>\n",
       "      <th>FP_CAREER_BOOL</th>\n",
       "      <th>CHANGE_FP_BOOL</th>\n",
       "      <th>MAX_RGST_SUB_M_scaled</th>\n",
       "      <th>RECP_HOSP_SUB_Dmean_scaled</th>\n",
       "      <th>AVGCRDT_scaled</th>\n",
       "      <th>SUBCRDT_scaled</th>\n",
       "      <th>TOTALPREM_scaled</th>\n",
       "      <th>CUST_INCM_scaled</th>\n",
       "      <th>RCBASE_HSHD_INCM_scaled</th>\n",
       "      <th>DMND_AMT_scaled</th>\n",
       "    </tr>\n",
       "  </thead>\n",
       "  <tbody>\n",
       "    <tr>\n",
       "      <th>0</th>\n",
       "      <td>17766</td>\n",
       "      <td>1</td>\n",
       "      <td>0</td>\n",
       "      <td>0</td>\n",
       "      <td>0</td>\n",
       "      <td>1</td>\n",
       "      <td>0</td>\n",
       "      <td>0</td>\n",
       "      <td>0</td>\n",
       "      <td>0</td>\n",
       "      <td>...</td>\n",
       "      <td>0</td>\n",
       "      <td>1</td>\n",
       "      <td>0.193426</td>\n",
       "      <td>0.127999</td>\n",
       "      <td>0.55</td>\n",
       "      <td>0.1</td>\n",
       "      <td>-0.008827</td>\n",
       "      <td>0.576879</td>\n",
       "      <td>0.820916</td>\n",
       "      <td>0.150470</td>\n",
       "    </tr>\n",
       "    <tr>\n",
       "      <th>1</th>\n",
       "      <td>10914</td>\n",
       "      <td>0</td>\n",
       "      <td>0</td>\n",
       "      <td>0</td>\n",
       "      <td>0</td>\n",
       "      <td>0</td>\n",
       "      <td>0</td>\n",
       "      <td>1</td>\n",
       "      <td>0</td>\n",
       "      <td>0</td>\n",
       "      <td>...</td>\n",
       "      <td>0</td>\n",
       "      <td>1</td>\n",
       "      <td>0.068403</td>\n",
       "      <td>0.079581</td>\n",
       "      <td>0.60</td>\n",
       "      <td>0.0</td>\n",
       "      <td>0.073299</td>\n",
       "      <td>0.569811</td>\n",
       "      <td>0.860140</td>\n",
       "      <td>0.055207</td>\n",
       "    </tr>\n",
       "    <tr>\n",
       "      <th>2</th>\n",
       "      <td>772</td>\n",
       "      <td>0</td>\n",
       "      <td>1</td>\n",
       "      <td>0</td>\n",
       "      <td>1</td>\n",
       "      <td>0</td>\n",
       "      <td>0</td>\n",
       "      <td>1</td>\n",
       "      <td>0</td>\n",
       "      <td>0</td>\n",
       "      <td>...</td>\n",
       "      <td>0</td>\n",
       "      <td>1</td>\n",
       "      <td>-1.000000</td>\n",
       "      <td>-0.524732</td>\n",
       "      <td>0.60</td>\n",
       "      <td>0.0</td>\n",
       "      <td>-0.190904</td>\n",
       "      <td>0.627193</td>\n",
       "      <td>0.873592</td>\n",
       "      <td>0.050557</td>\n",
       "    </tr>\n",
       "    <tr>\n",
       "      <th>3</th>\n",
       "      <td>20185</td>\n",
       "      <td>0</td>\n",
       "      <td>0</td>\n",
       "      <td>0</td>\n",
       "      <td>0</td>\n",
       "      <td>1</td>\n",
       "      <td>0</td>\n",
       "      <td>0</td>\n",
       "      <td>1</td>\n",
       "      <td>0</td>\n",
       "      <td>...</td>\n",
       "      <td>1</td>\n",
       "      <td>0</td>\n",
       "      <td>0.421438</td>\n",
       "      <td>0.002027</td>\n",
       "      <td>0.45</td>\n",
       "      <td>0.3</td>\n",
       "      <td>0.218856</td>\n",
       "      <td>0.594449</td>\n",
       "      <td>0.767562</td>\n",
       "      <td>0.095209</td>\n",
       "    </tr>\n",
       "    <tr>\n",
       "      <th>4</th>\n",
       "      <td>10295</td>\n",
       "      <td>0</td>\n",
       "      <td>1</td>\n",
       "      <td>1</td>\n",
       "      <td>0</td>\n",
       "      <td>0</td>\n",
       "      <td>0</td>\n",
       "      <td>0</td>\n",
       "      <td>0</td>\n",
       "      <td>0</td>\n",
       "      <td>...</td>\n",
       "      <td>0</td>\n",
       "      <td>0</td>\n",
       "      <td>-1.000000</td>\n",
       "      <td>-0.875236</td>\n",
       "      <td>0.60</td>\n",
       "      <td>0.0</td>\n",
       "      <td>-0.274256</td>\n",
       "      <td>0.057252</td>\n",
       "      <td>0.716102</td>\n",
       "      <td>0.019776</td>\n",
       "    </tr>\n",
       "  </tbody>\n",
       "</table>\n",
       "<p>5 rows × 23 columns</p>\n",
       "</div>"
      ],
      "text/plain": [
       "   CUST_ID  SIU_CUST_BOOL  SEX  OCCP_RELEVENT_1  OCCP_RELEVENT_2  \\\n",
       "0    17766              1    0                0                0   \n",
       "1    10914              0    0                0                0   \n",
       "2      772              0    1                0                1   \n",
       "3    20185              0    0                0                0   \n",
       "4    10295              0    1                1                0   \n",
       "\n",
       "   OCCP_RELEVENT_3  OCCP_RELEVENT_5  OCCP_RELEVENT_6  OCCP_RELEVENT_8  \\\n",
       "0                1                0                0                0   \n",
       "1                0                0                1                0   \n",
       "2                0                0                1                0   \n",
       "3                1                0                0                1   \n",
       "4                0                0                0                0   \n",
       "\n",
       "   OCCP_RELEVENT_9  ...  FP_CAREER_BOOL  CHANGE_FP_BOOL  \\\n",
       "0                0  ...               0               1   \n",
       "1                0  ...               0               1   \n",
       "2                0  ...               0               1   \n",
       "3                0  ...               1               0   \n",
       "4                0  ...               0               0   \n",
       "\n",
       "   MAX_RGST_SUB_M_scaled  RECP_HOSP_SUB_Dmean_scaled  AVGCRDT_scaled  \\\n",
       "0               0.193426                    0.127999            0.55   \n",
       "1               0.068403                    0.079581            0.60   \n",
       "2              -1.000000                   -0.524732            0.60   \n",
       "3               0.421438                    0.002027            0.45   \n",
       "4              -1.000000                   -0.875236            0.60   \n",
       "\n",
       "   SUBCRDT_scaled  TOTALPREM_scaled  CUST_INCM_scaled  \\\n",
       "0             0.1         -0.008827          0.576879   \n",
       "1             0.0          0.073299          0.569811   \n",
       "2             0.0         -0.190904          0.627193   \n",
       "3             0.3          0.218856          0.594449   \n",
       "4             0.0         -0.274256          0.057252   \n",
       "\n",
       "   RCBASE_HSHD_INCM_scaled  DMND_AMT_scaled  \n",
       "0                 0.820916         0.150470  \n",
       "1                 0.860140         0.055207  \n",
       "2                 0.873592         0.050557  \n",
       "3                 0.767562         0.095209  \n",
       "4                 0.716102         0.019776  \n",
       "\n",
       "[5 rows x 23 columns]"
      ]
     },
     "execution_count": 154,
     "metadata": {},
     "output_type": "execute_result"
    }
   ],
   "source": [
    "cust_train_data.head()"
   ]
  },
  {
   "cell_type": "code",
   "execution_count": 155,
   "metadata": {},
   "outputs": [
    {
     "data": {
      "text/html": [
       "<div>\n",
       "<style scoped>\n",
       "    .dataframe tbody tr th:only-of-type {\n",
       "        vertical-align: middle;\n",
       "    }\n",
       "\n",
       "    .dataframe tbody tr th {\n",
       "        vertical-align: top;\n",
       "    }\n",
       "\n",
       "    .dataframe thead th {\n",
       "        text-align: right;\n",
       "    }\n",
       "</style>\n",
       "<table border=\"1\" class=\"dataframe\">\n",
       "  <thead>\n",
       "    <tr style=\"text-align: right;\">\n",
       "      <th></th>\n",
       "      <th>CUST_ID</th>\n",
       "      <th>SIU_CUST_BOOL</th>\n",
       "      <th>ACCI_DVSN_1</th>\n",
       "      <th>ACCI_DVSN_2</th>\n",
       "      <th>DMND_RESN_2</th>\n",
       "      <th>DMND_RESN_4</th>\n",
       "      <th>HEED_HOSP</th>\n",
       "      <th>HOSP_LOC_CLOSE</th>\n",
       "      <th>HOSP_LOC_FAR</th>\n",
       "      <th>HOSP_SPEC_1</th>\n",
       "      <th>...</th>\n",
       "      <th>TFIDF_90</th>\n",
       "      <th>TFIDF_91</th>\n",
       "      <th>TFIDF_92</th>\n",
       "      <th>TFIDF_93</th>\n",
       "      <th>TFIDF_94</th>\n",
       "      <th>TFIDF_95</th>\n",
       "      <th>TFIDF_96</th>\n",
       "      <th>TFIDF_97</th>\n",
       "      <th>TFIDF_98</th>\n",
       "      <th>TFIDF_99</th>\n",
       "    </tr>\n",
       "  </thead>\n",
       "  <tbody>\n",
       "    <tr>\n",
       "      <th>0</th>\n",
       "      <td>17766</td>\n",
       "      <td>1</td>\n",
       "      <td>0.916667</td>\n",
       "      <td>0.000000</td>\n",
       "      <td>0.583333</td>\n",
       "      <td>0.0</td>\n",
       "      <td>0.0</td>\n",
       "      <td>0.583333</td>\n",
       "      <td>0.416667</td>\n",
       "      <td>1.0</td>\n",
       "      <td>...</td>\n",
       "      <td>0.0</td>\n",
       "      <td>0.0</td>\n",
       "      <td>0.0</td>\n",
       "      <td>0.0</td>\n",
       "      <td>0.000000</td>\n",
       "      <td>0.0</td>\n",
       "      <td>0.159013</td>\n",
       "      <td>0.0</td>\n",
       "      <td>0.000000</td>\n",
       "      <td>0.198688</td>\n",
       "    </tr>\n",
       "    <tr>\n",
       "      <th>1</th>\n",
       "      <td>10914</td>\n",
       "      <td>0</td>\n",
       "      <td>1.000000</td>\n",
       "      <td>0.000000</td>\n",
       "      <td>0.222222</td>\n",
       "      <td>0.0</td>\n",
       "      <td>0.0</td>\n",
       "      <td>0.000000</td>\n",
       "      <td>1.000000</td>\n",
       "      <td>1.0</td>\n",
       "      <td>...</td>\n",
       "      <td>0.0</td>\n",
       "      <td>0.0</td>\n",
       "      <td>0.0</td>\n",
       "      <td>0.0</td>\n",
       "      <td>0.000000</td>\n",
       "      <td>0.0</td>\n",
       "      <td>0.295598</td>\n",
       "      <td>0.0</td>\n",
       "      <td>0.000000</td>\n",
       "      <td>0.000000</td>\n",
       "    </tr>\n",
       "    <tr>\n",
       "      <th>2</th>\n",
       "      <td>772</td>\n",
       "      <td>0</td>\n",
       "      <td>0.333333</td>\n",
       "      <td>0.000000</td>\n",
       "      <td>0.000000</td>\n",
       "      <td>0.0</td>\n",
       "      <td>0.0</td>\n",
       "      <td>1.000000</td>\n",
       "      <td>0.000000</td>\n",
       "      <td>1.0</td>\n",
       "      <td>...</td>\n",
       "      <td>0.0</td>\n",
       "      <td>0.0</td>\n",
       "      <td>0.0</td>\n",
       "      <td>0.0</td>\n",
       "      <td>0.235472</td>\n",
       "      <td>0.0</td>\n",
       "      <td>0.000000</td>\n",
       "      <td>0.0</td>\n",
       "      <td>0.236941</td>\n",
       "      <td>0.224681</td>\n",
       "    </tr>\n",
       "    <tr>\n",
       "      <th>3</th>\n",
       "      <td>20185</td>\n",
       "      <td>0</td>\n",
       "      <td>0.000000</td>\n",
       "      <td>0.333333</td>\n",
       "      <td>0.666667</td>\n",
       "      <td>0.0</td>\n",
       "      <td>0.0</td>\n",
       "      <td>0.666667</td>\n",
       "      <td>0.000000</td>\n",
       "      <td>1.0</td>\n",
       "      <td>...</td>\n",
       "      <td>0.0</td>\n",
       "      <td>0.0</td>\n",
       "      <td>0.0</td>\n",
       "      <td>0.0</td>\n",
       "      <td>0.000000</td>\n",
       "      <td>0.0</td>\n",
       "      <td>0.000000</td>\n",
       "      <td>0.0</td>\n",
       "      <td>0.000000</td>\n",
       "      <td>0.000000</td>\n",
       "    </tr>\n",
       "    <tr>\n",
       "      <th>4</th>\n",
       "      <td>10295</td>\n",
       "      <td>0</td>\n",
       "      <td>0.000000</td>\n",
       "      <td>0.000000</td>\n",
       "      <td>0.666667</td>\n",
       "      <td>0.0</td>\n",
       "      <td>0.0</td>\n",
       "      <td>0.000000</td>\n",
       "      <td>0.666667</td>\n",
       "      <td>0.0</td>\n",
       "      <td>...</td>\n",
       "      <td>0.0</td>\n",
       "      <td>0.0</td>\n",
       "      <td>0.0</td>\n",
       "      <td>0.0</td>\n",
       "      <td>0.000000</td>\n",
       "      <td>0.0</td>\n",
       "      <td>0.000000</td>\n",
       "      <td>0.0</td>\n",
       "      <td>0.000000</td>\n",
       "      <td>0.000000</td>\n",
       "    </tr>\n",
       "  </tbody>\n",
       "</table>\n",
       "<p>5 rows × 115 columns</p>\n",
       "</div>"
      ],
      "text/plain": [
       "   CUST_ID  SIU_CUST_BOOL  ACCI_DVSN_1  ACCI_DVSN_2  DMND_RESN_2  DMND_RESN_4  \\\n",
       "0    17766              1     0.916667     0.000000     0.583333          0.0   \n",
       "1    10914              0     1.000000     0.000000     0.222222          0.0   \n",
       "2      772              0     0.333333     0.000000     0.000000          0.0   \n",
       "3    20185              0     0.000000     0.333333     0.666667          0.0   \n",
       "4    10295              0     0.000000     0.000000     0.666667          0.0   \n",
       "\n",
       "   HEED_HOSP  HOSP_LOC_CLOSE  HOSP_LOC_FAR  HOSP_SPEC_1  ...  TFIDF_90  \\\n",
       "0        0.0        0.583333      0.416667          1.0  ...       0.0   \n",
       "1        0.0        0.000000      1.000000          1.0  ...       0.0   \n",
       "2        0.0        1.000000      0.000000          1.0  ...       0.0   \n",
       "3        0.0        0.666667      0.000000          1.0  ...       0.0   \n",
       "4        0.0        0.000000      0.666667          0.0  ...       0.0   \n",
       "\n",
       "   TFIDF_91  TFIDF_92  TFIDF_93  TFIDF_94  TFIDF_95  TFIDF_96  TFIDF_97  \\\n",
       "0       0.0       0.0       0.0  0.000000       0.0  0.159013       0.0   \n",
       "1       0.0       0.0       0.0  0.000000       0.0  0.295598       0.0   \n",
       "2       0.0       0.0       0.0  0.235472       0.0  0.000000       0.0   \n",
       "3       0.0       0.0       0.0  0.000000       0.0  0.000000       0.0   \n",
       "4       0.0       0.0       0.0  0.000000       0.0  0.000000       0.0   \n",
       "\n",
       "   TFIDF_98  TFIDF_99  \n",
       "0  0.000000  0.198688  \n",
       "1  0.000000  0.000000  \n",
       "2  0.236941  0.224681  \n",
       "3  0.000000  0.000000  \n",
       "4  0.000000  0.000000  \n",
       "\n",
       "[5 rows x 115 columns]"
      ]
     },
     "execution_count": 155,
     "metadata": {},
     "output_type": "execute_result"
    }
   ],
   "source": [
    "doc_train_data.head()"
   ]
  },
  {
   "cell_type": "code",
   "execution_count": 156,
   "metadata": {},
   "outputs": [
    {
     "data": {
      "text/plain": [
       "0"
      ]
     },
     "execution_count": 156,
     "metadata": {},
     "output_type": "execute_result"
    }
   ],
   "source": [
    "final_train_data = pd.merge(\n",
    "    cust_train_data,\n",
    "    doc_train_data.drop(\"SIU_CUST_BOOL\", axis=1),\n",
    "    how=\"left\",\n",
    "    on=\"CUST_ID\"\n",
    ")\n",
    "\n",
    "final_train_data = final_train_data.drop(\"CUST_ID\", axis=1)\n",
    "\n",
    "final_train_data.isna().sum().sum()"
   ]
  },
  {
   "cell_type": "code",
   "execution_count": 157,
   "metadata": {},
   "outputs": [
    {
     "data": {
      "text/plain": [
       "0"
      ]
     },
     "execution_count": 157,
     "metadata": {},
     "output_type": "execute_result"
    }
   ],
   "source": [
    "final_test_data = pd.merge(\n",
    "    cust_test_data,\n",
    "    doc_test_data.drop(\"SIU_CUST_BOOL\", axis=1),\n",
    "    how=\"left\",\n",
    "    on=\"CUST_ID\"\n",
    ")\n",
    "\n",
    "final_test_data = final_test_data.drop(\"CUST_ID\", axis=1)\n",
    "\n",
    "final_test_data.isna().sum().sum()"
   ]
  },
  {
   "cell_type": "code",
   "execution_count": 158,
   "metadata": {},
   "outputs": [
    {
     "data": {
      "text/plain": [
       "(21, 113)"
      ]
     },
     "execution_count": 158,
     "metadata": {},
     "output_type": "execute_result"
    }
   ],
   "source": [
    "CUST_LEN = len(cust_train_data.columns) - 2 # \"CUST_ID\", \"SIU_CUST_BOOL\"\n",
    "DOC_LEN = len(doc_train_data.columns) - 2 # \"CUST_ID\", \"SIU_CUST_BOOL\"\n",
    "CUST_LEN, DOC_LEN"
   ]
  },
  {
   "cell_type": "code",
   "execution_count": 159,
   "metadata": {},
   "outputs": [],
   "source": [
    "X_train, y_train = \\\n",
    "    final_train_data.iloc[:, 1:], final_train_data.iloc[:, 0]\n",
    "X_test, y_test = \\\n",
    "    final_test_data.iloc[:, 1:], final_test_data.iloc[:, 0]"
   ]
  },
  {
   "cell_type": "code",
   "execution_count": 160,
   "metadata": {},
   "outputs": [],
   "source": [
    "# SMOTE를 이용한 데이터 불균형 해결\n",
    "smote = SMOTE(random_state=RANDOM_STATE)\n",
    "X_train_smote, y_train_smote = smote.fit_sample(X_train, y_train)"
   ]
  },
  {
   "cell_type": "code",
   "execution_count": 161,
   "metadata": {},
   "outputs": [],
   "source": [
    "X_train_smote, X_val_smote, y_train_smote, y_val_smote = \\\n",
    "    train_test_split(X_train_smote, y_train_smote, test_size=0.3, random_state=RANDOM_STATE)"
   ]
  },
  {
   "cell_type": "code",
   "execution_count": 162,
   "metadata": {},
   "outputs": [],
   "source": [
    "Xcust_train, Xdoc_train = \\\n",
    "    X_train_smote.iloc[:, :CUST_LEN], X_train_smote.iloc[:, CUST_LEN:]\n",
    "Xcust_val, Xdoc_val = \\\n",
    "    X_val_smote.iloc[:, :CUST_LEN], X_val_smote.iloc[:, CUST_LEN:]\n",
    "\n",
    "del X_train_smote, X_val_smote\n",
    "\n",
    "Xcust_test, Xdoc_test = \\\n",
    "    X_test.iloc[:, :CUST_LEN], X_test.iloc[:, CUST_LEN:]"
   ]
  },
  {
   "cell_type": "code",
   "execution_count": 163,
   "metadata": {},
   "outputs": [
    {
     "data": {
      "text/html": [
       "<div>\n",
       "<style scoped>\n",
       "    .dataframe tbody tr th:only-of-type {\n",
       "        vertical-align: middle;\n",
       "    }\n",
       "\n",
       "    .dataframe tbody tr th {\n",
       "        vertical-align: top;\n",
       "    }\n",
       "\n",
       "    .dataframe thead th {\n",
       "        text-align: right;\n",
       "    }\n",
       "</style>\n",
       "<table border=\"1\" class=\"dataframe\">\n",
       "  <thead>\n",
       "    <tr style=\"text-align: right;\">\n",
       "      <th></th>\n",
       "      <th>SEX</th>\n",
       "      <th>OCCP_RELEVENT_1</th>\n",
       "      <th>OCCP_RELEVENT_2</th>\n",
       "      <th>OCCP_RELEVENT_3</th>\n",
       "      <th>OCCP_RELEVENT_5</th>\n",
       "      <th>OCCP_RELEVENT_6</th>\n",
       "      <th>OCCP_RELEVENT_8</th>\n",
       "      <th>OCCP_RELEVENT_9</th>\n",
       "      <th>OCCP_RELEVENT_10</th>\n",
       "      <th>OCCP_RELEVENT_11</th>\n",
       "      <th>...</th>\n",
       "      <th>FP_CAREER_BOOL</th>\n",
       "      <th>CHANGE_FP_BOOL</th>\n",
       "      <th>MAX_RGST_SUB_M_scaled</th>\n",
       "      <th>RECP_HOSP_SUB_Dmean_scaled</th>\n",
       "      <th>AVGCRDT_scaled</th>\n",
       "      <th>SUBCRDT_scaled</th>\n",
       "      <th>TOTALPREM_scaled</th>\n",
       "      <th>CUST_INCM_scaled</th>\n",
       "      <th>RCBASE_HSHD_INCM_scaled</th>\n",
       "      <th>DMND_AMT_scaled</th>\n",
       "    </tr>\n",
       "  </thead>\n",
       "  <tbody>\n",
       "    <tr>\n",
       "      <th>16797</th>\n",
       "      <td>0</td>\n",
       "      <td>0</td>\n",
       "      <td>1</td>\n",
       "      <td>0</td>\n",
       "      <td>0</td>\n",
       "      <td>0</td>\n",
       "      <td>0</td>\n",
       "      <td>0</td>\n",
       "      <td>0</td>\n",
       "      <td>0</td>\n",
       "      <td>...</td>\n",
       "      <td>0</td>\n",
       "      <td>0</td>\n",
       "      <td>-1.000000</td>\n",
       "      <td>-0.447529</td>\n",
       "      <td>0.60</td>\n",
       "      <td>0.0</td>\n",
       "      <td>-0.080807</td>\n",
       "      <td>0.057252</td>\n",
       "      <td>0.829659</td>\n",
       "      <td>0.009484</td>\n",
       "    </tr>\n",
       "    <tr>\n",
       "      <th>8458</th>\n",
       "      <td>1</td>\n",
       "      <td>0</td>\n",
       "      <td>0</td>\n",
       "      <td>0</td>\n",
       "      <td>0</td>\n",
       "      <td>0</td>\n",
       "      <td>0</td>\n",
       "      <td>1</td>\n",
       "      <td>0</td>\n",
       "      <td>0</td>\n",
       "      <td>...</td>\n",
       "      <td>0</td>\n",
       "      <td>1</td>\n",
       "      <td>0.189523</td>\n",
       "      <td>-0.084224</td>\n",
       "      <td>0.50</td>\n",
       "      <td>0.2</td>\n",
       "      <td>0.026195</td>\n",
       "      <td>0.601468</td>\n",
       "      <td>0.783108</td>\n",
       "      <td>-0.247089</td>\n",
       "    </tr>\n",
       "    <tr>\n",
       "      <th>12830</th>\n",
       "      <td>1</td>\n",
       "      <td>1</td>\n",
       "      <td>0</td>\n",
       "      <td>0</td>\n",
       "      <td>0</td>\n",
       "      <td>0</td>\n",
       "      <td>0</td>\n",
       "      <td>0</td>\n",
       "      <td>0</td>\n",
       "      <td>0</td>\n",
       "      <td>...</td>\n",
       "      <td>0</td>\n",
       "      <td>1</td>\n",
       "      <td>-1.000000</td>\n",
       "      <td>0.415873</td>\n",
       "      <td>0.60</td>\n",
       "      <td>0.0</td>\n",
       "      <td>-0.274256</td>\n",
       "      <td>0.576036</td>\n",
       "      <td>0.842568</td>\n",
       "      <td>-0.155058</td>\n",
       "    </tr>\n",
       "    <tr>\n",
       "      <th>3773</th>\n",
       "      <td>0</td>\n",
       "      <td>0</td>\n",
       "      <td>1</td>\n",
       "      <td>0</td>\n",
       "      <td>0</td>\n",
       "      <td>0</td>\n",
       "      <td>1</td>\n",
       "      <td>0</td>\n",
       "      <td>0</td>\n",
       "      <td>0</td>\n",
       "      <td>...</td>\n",
       "      <td>0</td>\n",
       "      <td>0</td>\n",
       "      <td>-0.500000</td>\n",
       "      <td>-0.215786</td>\n",
       "      <td>0.60</td>\n",
       "      <td>0.0</td>\n",
       "      <td>0.100827</td>\n",
       "      <td>0.057252</td>\n",
       "      <td>0.810848</td>\n",
       "      <td>0.204719</td>\n",
       "    </tr>\n",
       "    <tr>\n",
       "      <th>817</th>\n",
       "      <td>0</td>\n",
       "      <td>0</td>\n",
       "      <td>1</td>\n",
       "      <td>0</td>\n",
       "      <td>0</td>\n",
       "      <td>0</td>\n",
       "      <td>1</td>\n",
       "      <td>0</td>\n",
       "      <td>0</td>\n",
       "      <td>0</td>\n",
       "      <td>...</td>\n",
       "      <td>0</td>\n",
       "      <td>1</td>\n",
       "      <td>0.261829</td>\n",
       "      <td>-0.492119</td>\n",
       "      <td>0.65</td>\n",
       "      <td>0.1</td>\n",
       "      <td>0.010710</td>\n",
       "      <td>0.057252</td>\n",
       "      <td>0.806353</td>\n",
       "      <td>-0.024867</td>\n",
       "    </tr>\n",
       "  </tbody>\n",
       "</table>\n",
       "<p>5 rows × 21 columns</p>\n",
       "</div>"
      ],
      "text/plain": [
       "       SEX  OCCP_RELEVENT_1  OCCP_RELEVENT_2  OCCP_RELEVENT_3  \\\n",
       "16797    0                0                1                0   \n",
       "8458     1                0                0                0   \n",
       "12830    1                1                0                0   \n",
       "3773     0                0                1                0   \n",
       "817      0                0                1                0   \n",
       "\n",
       "       OCCP_RELEVENT_5  OCCP_RELEVENT_6  OCCP_RELEVENT_8  OCCP_RELEVENT_9  \\\n",
       "16797                0                0                0                0   \n",
       "8458                 0                0                0                1   \n",
       "12830                0                0                0                0   \n",
       "3773                 0                0                1                0   \n",
       "817                  0                0                1                0   \n",
       "\n",
       "       OCCP_RELEVENT_10  OCCP_RELEVENT_11  ...  FP_CAREER_BOOL  \\\n",
       "16797                 0                 0  ...               0   \n",
       "8458                  0                 0  ...               0   \n",
       "12830                 0                 0  ...               0   \n",
       "3773                  0                 0  ...               0   \n",
       "817                   0                 0  ...               0   \n",
       "\n",
       "       CHANGE_FP_BOOL  MAX_RGST_SUB_M_scaled  RECP_HOSP_SUB_Dmean_scaled  \\\n",
       "16797               0              -1.000000                   -0.447529   \n",
       "8458                1               0.189523                   -0.084224   \n",
       "12830               1              -1.000000                    0.415873   \n",
       "3773                0              -0.500000                   -0.215786   \n",
       "817                 1               0.261829                   -0.492119   \n",
       "\n",
       "       AVGCRDT_scaled  SUBCRDT_scaled  TOTALPREM_scaled  CUST_INCM_scaled  \\\n",
       "16797            0.60             0.0         -0.080807          0.057252   \n",
       "8458             0.50             0.2          0.026195          0.601468   \n",
       "12830            0.60             0.0         -0.274256          0.576036   \n",
       "3773             0.60             0.0          0.100827          0.057252   \n",
       "817              0.65             0.1          0.010710          0.057252   \n",
       "\n",
       "       RCBASE_HSHD_INCM_scaled  DMND_AMT_scaled  \n",
       "16797                 0.829659         0.009484  \n",
       "8458                  0.783108        -0.247089  \n",
       "12830                 0.842568        -0.155058  \n",
       "3773                  0.810848         0.204719  \n",
       "817                   0.806353        -0.024867  \n",
       "\n",
       "[5 rows x 21 columns]"
      ]
     },
     "execution_count": 163,
     "metadata": {},
     "output_type": "execute_result"
    }
   ],
   "source": [
    "Xcust_train.head()"
   ]
  },
  {
   "cell_type": "code",
   "execution_count": 164,
   "metadata": {},
   "outputs": [
    {
     "data": {
      "text/html": [
       "<div>\n",
       "<style scoped>\n",
       "    .dataframe tbody tr th:only-of-type {\n",
       "        vertical-align: middle;\n",
       "    }\n",
       "\n",
       "    .dataframe tbody tr th {\n",
       "        vertical-align: top;\n",
       "    }\n",
       "\n",
       "    .dataframe thead th {\n",
       "        text-align: right;\n",
       "    }\n",
       "</style>\n",
       "<table border=\"1\" class=\"dataframe\">\n",
       "  <thead>\n",
       "    <tr style=\"text-align: right;\">\n",
       "      <th></th>\n",
       "      <th>ACCI_DVSN_1</th>\n",
       "      <th>ACCI_DVSN_2</th>\n",
       "      <th>DMND_RESN_2</th>\n",
       "      <th>DMND_RESN_4</th>\n",
       "      <th>HEED_HOSP</th>\n",
       "      <th>HOSP_LOC_CLOSE</th>\n",
       "      <th>HOSP_LOC_FAR</th>\n",
       "      <th>HOSP_SPEC_1</th>\n",
       "      <th>HOSP_SPEC_2</th>\n",
       "      <th>HOSP_SPEC_3</th>\n",
       "      <th>...</th>\n",
       "      <th>TFIDF_90</th>\n",
       "      <th>TFIDF_91</th>\n",
       "      <th>TFIDF_92</th>\n",
       "      <th>TFIDF_93</th>\n",
       "      <th>TFIDF_94</th>\n",
       "      <th>TFIDF_95</th>\n",
       "      <th>TFIDF_96</th>\n",
       "      <th>TFIDF_97</th>\n",
       "      <th>TFIDF_98</th>\n",
       "      <th>TFIDF_99</th>\n",
       "    </tr>\n",
       "  </thead>\n",
       "  <tbody>\n",
       "    <tr>\n",
       "      <th>16797</th>\n",
       "      <td>0.317411</td>\n",
       "      <td>0.22753</td>\n",
       "      <td>0.613765</td>\n",
       "      <td>0.0</td>\n",
       "      <td>0.0</td>\n",
       "      <td>0.613765</td>\n",
       "      <td>0.0</td>\n",
       "      <td>1.0</td>\n",
       "      <td>0.317411</td>\n",
       "      <td>1.0</td>\n",
       "      <td>...</td>\n",
       "      <td>0.0</td>\n",
       "      <td>0.0</td>\n",
       "      <td>0.0</td>\n",
       "      <td>0.293946</td>\n",
       "      <td>0.0</td>\n",
       "      <td>0.0</td>\n",
       "      <td>0.088542</td>\n",
       "      <td>0.0</td>\n",
       "      <td>0.0</td>\n",
       "      <td>0.0</td>\n",
       "    </tr>\n",
       "    <tr>\n",
       "      <th>8458</th>\n",
       "      <td>0.000000</td>\n",
       "      <td>0.00000</td>\n",
       "      <td>0.000000</td>\n",
       "      <td>0.0</td>\n",
       "      <td>0.0</td>\n",
       "      <td>1.000000</td>\n",
       "      <td>0.0</td>\n",
       "      <td>1.0</td>\n",
       "      <td>0.000000</td>\n",
       "      <td>0.0</td>\n",
       "      <td>...</td>\n",
       "      <td>0.0</td>\n",
       "      <td>0.0</td>\n",
       "      <td>0.0</td>\n",
       "      <td>0.000000</td>\n",
       "      <td>0.0</td>\n",
       "      <td>0.0</td>\n",
       "      <td>0.000000</td>\n",
       "      <td>0.0</td>\n",
       "      <td>0.0</td>\n",
       "      <td>0.0</td>\n",
       "    </tr>\n",
       "    <tr>\n",
       "      <th>12830</th>\n",
       "      <td>0.000000</td>\n",
       "      <td>0.00000</td>\n",
       "      <td>0.666667</td>\n",
       "      <td>0.0</td>\n",
       "      <td>0.0</td>\n",
       "      <td>0.000000</td>\n",
       "      <td>0.0</td>\n",
       "      <td>0.0</td>\n",
       "      <td>1.000000</td>\n",
       "      <td>0.0</td>\n",
       "      <td>...</td>\n",
       "      <td>0.0</td>\n",
       "      <td>0.0</td>\n",
       "      <td>0.0</td>\n",
       "      <td>0.000000</td>\n",
       "      <td>0.0</td>\n",
       "      <td>0.0</td>\n",
       "      <td>0.000000</td>\n",
       "      <td>0.0</td>\n",
       "      <td>0.0</td>\n",
       "      <td>0.0</td>\n",
       "    </tr>\n",
       "    <tr>\n",
       "      <th>3773</th>\n",
       "      <td>0.000000</td>\n",
       "      <td>0.00000</td>\n",
       "      <td>0.400000</td>\n",
       "      <td>0.0</td>\n",
       "      <td>0.0</td>\n",
       "      <td>1.000000</td>\n",
       "      <td>0.0</td>\n",
       "      <td>1.0</td>\n",
       "      <td>0.000000</td>\n",
       "      <td>1.0</td>\n",
       "      <td>...</td>\n",
       "      <td>0.0</td>\n",
       "      <td>0.0</td>\n",
       "      <td>0.0</td>\n",
       "      <td>0.000000</td>\n",
       "      <td>0.0</td>\n",
       "      <td>0.0</td>\n",
       "      <td>0.000000</td>\n",
       "      <td>0.0</td>\n",
       "      <td>0.0</td>\n",
       "      <td>0.0</td>\n",
       "    </tr>\n",
       "    <tr>\n",
       "      <th>817</th>\n",
       "      <td>0.000000</td>\n",
       "      <td>0.00000</td>\n",
       "      <td>0.500000</td>\n",
       "      <td>0.0</td>\n",
       "      <td>0.0</td>\n",
       "      <td>0.500000</td>\n",
       "      <td>0.0</td>\n",
       "      <td>1.0</td>\n",
       "      <td>1.000000</td>\n",
       "      <td>1.0</td>\n",
       "      <td>...</td>\n",
       "      <td>0.0</td>\n",
       "      <td>0.0</td>\n",
       "      <td>0.0</td>\n",
       "      <td>0.000000</td>\n",
       "      <td>0.0</td>\n",
       "      <td>0.0</td>\n",
       "      <td>0.000000</td>\n",
       "      <td>0.0</td>\n",
       "      <td>0.0</td>\n",
       "      <td>0.0</td>\n",
       "    </tr>\n",
       "  </tbody>\n",
       "</table>\n",
       "<p>5 rows × 113 columns</p>\n",
       "</div>"
      ],
      "text/plain": [
       "       ACCI_DVSN_1  ACCI_DVSN_2  DMND_RESN_2  DMND_RESN_4  HEED_HOSP  \\\n",
       "16797     0.317411      0.22753     0.613765          0.0        0.0   \n",
       "8458      0.000000      0.00000     0.000000          0.0        0.0   \n",
       "12830     0.000000      0.00000     0.666667          0.0        0.0   \n",
       "3773      0.000000      0.00000     0.400000          0.0        0.0   \n",
       "817       0.000000      0.00000     0.500000          0.0        0.0   \n",
       "\n",
       "       HOSP_LOC_CLOSE  HOSP_LOC_FAR  HOSP_SPEC_1  HOSP_SPEC_2  HOSP_SPEC_3  \\\n",
       "16797        0.613765           0.0          1.0     0.317411          1.0   \n",
       "8458         1.000000           0.0          1.0     0.000000          0.0   \n",
       "12830        0.000000           0.0          0.0     1.000000          0.0   \n",
       "3773         1.000000           0.0          1.0     0.000000          1.0   \n",
       "817          0.500000           0.0          1.0     1.000000          1.0   \n",
       "\n",
       "       ...  TFIDF_90  TFIDF_91  TFIDF_92  TFIDF_93  TFIDF_94  TFIDF_95  \\\n",
       "16797  ...       0.0       0.0       0.0  0.293946       0.0       0.0   \n",
       "8458   ...       0.0       0.0       0.0  0.000000       0.0       0.0   \n",
       "12830  ...       0.0       0.0       0.0  0.000000       0.0       0.0   \n",
       "3773   ...       0.0       0.0       0.0  0.000000       0.0       0.0   \n",
       "817    ...       0.0       0.0       0.0  0.000000       0.0       0.0   \n",
       "\n",
       "       TFIDF_96  TFIDF_97  TFIDF_98  TFIDF_99  \n",
       "16797  0.088542       0.0       0.0       0.0  \n",
       "8458   0.000000       0.0       0.0       0.0  \n",
       "12830  0.000000       0.0       0.0       0.0  \n",
       "3773   0.000000       0.0       0.0       0.0  \n",
       "817    0.000000       0.0       0.0       0.0  \n",
       "\n",
       "[5 rows x 113 columns]"
      ]
     },
     "execution_count": 164,
     "metadata": {},
     "output_type": "execute_result"
    }
   ],
   "source": [
    "Xdoc_train.head()"
   ]
  },
  {
   "cell_type": "markdown",
   "metadata": {},
   "source": [
    "###### 모델 준비\n",
    "* Multimodal Fully Connected DNN\n",
    "  * 고객 개인정보 (성별, 직업, 보험료 등)\n",
    "  * 고객 별 접수한 사건들에 대한 병명/결과내용 텍스트 데이터와 사고원인, 청구사유, 병원종류 데이터"
   ]
  },
  {
   "cell_type": "code",
   "execution_count": 165,
   "metadata": {},
   "outputs": [
    {
     "name": "stdout",
     "output_type": "stream",
     "text": [
      "21\n",
      "WARNING:tensorflow:From C:\\Programming\\Anaconda3\\lib\\site-packages\\tensorflow_core\\python\\ops\\resource_variable_ops.py:1630: calling BaseResourceVariable.__init__ (from tensorflow.python.ops.resource_variable_ops) with constraint is deprecated and will be removed in a future version.\n",
      "Instructions for updating:\n",
      "If using Keras pass *_constraint arguments to layers.\n"
     ]
    }
   ],
   "source": [
    "print(CUST_LEN)\n",
    "cust_inputs = Input(shape=(len(Xcust_train.columns),))\n",
    "cust = Dense(32, activation=\"relu\")(cust_inputs)    # hidden1\n",
    "cust = Dense(32, activation=\"relu\")(cust)           # hidden2\n",
    "cust = Dense(32, activation=\"relu\")(cust)           # hidden3\n",
    "cust_model = Model(inputs=cust_inputs, outputs=cust)"
   ]
  },
  {
   "cell_type": "code",
   "execution_count": 166,
   "metadata": {},
   "outputs": [
    {
     "name": "stdout",
     "output_type": "stream",
     "text": [
      "113\n"
     ]
    }
   ],
   "source": [
    "print(DOC_LEN)\n",
    "doc_inputs = Input(shape=(len(Xdoc_train.columns),))\n",
    "doc = Dense(128, activation=\"relu\")(doc_inputs)     # hidden1\n",
    "doc = Dense(64, activation=\"relu\")(doc)             # hidden2\n",
    "doc = Dense(32, activation=\"relu\")(doc)             # hidden3\n",
    "doc_model = Model(inputs=doc_inputs, outputs=doc)"
   ]
  },
  {
   "cell_type": "code",
   "execution_count": 167,
   "metadata": {},
   "outputs": [],
   "source": [
    "mid_result = concatenate([cust_model.output, doc_model.output])\n",
    "concat_ = Dense(32, activation=\"relu\")(mid_result)  # hidden4\n",
    "concat_ = Dense(32, activation=\"relu\")(concat_)     # hidden5\n",
    "output = Dense(1, activation=\"sigmoid\")(concat_)\n",
    "\n",
    "model = Model(inputs=[cust_model.input, doc_model.input], outputs=output)"
   ]
  },
  {
   "cell_type": "code",
   "execution_count": 168,
   "metadata": {},
   "outputs": [
    {
     "name": "stdout",
     "output_type": "stream",
     "text": [
      "WARNING:tensorflow:From C:\\Programming\\Anaconda3\\lib\\site-packages\\tensorflow_core\\python\\ops\\nn_impl.py:183: where (from tensorflow.python.ops.array_ops) is deprecated and will be removed in a future version.\n",
      "Instructions for updating:\n",
      "Use tf.where in 2.0, which has the same broadcast rule as np.where\n"
     ]
    }
   ],
   "source": [
    "model.compile(optimizer=\"sgd\", loss=\"binary_crossentropy\", metrics=[\"accuracy\"])\n",
    "model.optimizer.lr = 0.001"
   ]
  },
  {
   "cell_type": "markdown",
   "metadata": {},
   "source": [
    "###### 모델 학습"
   ]
  },
  {
   "cell_type": "code",
   "execution_count": 169,
   "metadata": {},
   "outputs": [],
   "source": [
    "t0 = time.time()"
   ]
  },
  {
   "cell_type": "code",
   "execution_count": 170,
   "metadata": {},
   "outputs": [
    {
     "name": "stdout",
     "output_type": "stream",
     "text": [
      "Train on 18424 samples, validate on 7896 samples\n",
      "Epoch 1/30\n",
      "18424/18424 - 2s - loss: 0.6885 - acc: 0.5543 - val_loss: 0.6871 - val_acc: 0.5769\n",
      "Epoch 2/30\n",
      "18424/18424 - 1s - loss: 0.6859 - acc: 0.5959 - val_loss: 0.6844 - val_acc: 0.6211\n",
      "Epoch 3/30\n",
      "18424/18424 - 1s - loss: 0.6832 - acc: 0.6282 - val_loss: 0.6815 - val_acc: 0.6388\n",
      "Epoch 4/30\n",
      "18424/18424 - 1s - loss: 0.6801 - acc: 0.6476 - val_loss: 0.6781 - val_acc: 0.6513\n",
      "Epoch 5/30\n",
      "18424/18424 - 1s - loss: 0.6765 - acc: 0.6590 - val_loss: 0.6740 - val_acc: 0.6651\n",
      "Epoch 6/30\n",
      "18424/18424 - 1s - loss: 0.6719 - acc: 0.6722 - val_loss: 0.6688 - val_acc: 0.6769\n",
      "Epoch 7/30\n",
      "18424/18424 - 1s - loss: 0.6659 - acc: 0.6848 - val_loss: 0.6619 - val_acc: 0.6914\n",
      "Epoch 8/30\n",
      "18424/18424 - 1s - loss: 0.6578 - acc: 0.7009 - val_loss: 0.6523 - val_acc: 0.7074\n",
      "Epoch 9/30\n",
      "18424/18424 - 1s - loss: 0.6464 - acc: 0.7187 - val_loss: 0.6390 - val_acc: 0.7304\n",
      "Epoch 10/30\n",
      "18424/18424 - 1s - loss: 0.6304 - acc: 0.7440 - val_loss: 0.6203 - val_acc: 0.7575\n",
      "Epoch 11/30\n",
      "18424/18424 - 1s - loss: 0.6080 - acc: 0.7696 - val_loss: 0.5944 - val_acc: 0.7813\n",
      "Epoch 12/30\n",
      "18424/18424 - 1s - loss: 0.5776 - acc: 0.7924 - val_loss: 0.5604 - val_acc: 0.8017\n",
      "Epoch 13/30\n",
      "18424/18424 - 1s - loss: 0.5390 - acc: 0.8113 - val_loss: 0.5195 - val_acc: 0.8153\n",
      "Epoch 14/30\n",
      "18424/18424 - 1s - loss: 0.4956 - acc: 0.8244 - val_loss: 0.4773 - val_acc: 0.8203\n",
      "Epoch 15/30\n",
      "18424/18424 - 1s - loss: 0.4540 - acc: 0.8305 - val_loss: 0.4409 - val_acc: 0.8237\n",
      "Epoch 16/30\n",
      "18424/18424 - 1s - loss: 0.4208 - acc: 0.8344 - val_loss: 0.4146 - val_acc: 0.8262\n",
      "Epoch 17/30\n",
      "18424/18424 - 1s - loss: 0.3976 - acc: 0.8366 - val_loss: 0.3975 - val_acc: 0.8285\n",
      "Epoch 18/30\n",
      "18424/18424 - 1s - loss: 0.3825 - acc: 0.8394 - val_loss: 0.3872 - val_acc: 0.8330\n",
      "Epoch 19/30\n",
      "18424/18424 - 1s - loss: 0.3724 - acc: 0.8405 - val_loss: 0.3793 - val_acc: 0.8318\n",
      "Epoch 20/30\n",
      "18424/18424 - 1s - loss: 0.3652 - acc: 0.8429 - val_loss: 0.3733 - val_acc: 0.8351\n",
      "Epoch 21/30\n",
      "18424/18424 - 1s - loss: 0.3592 - acc: 0.8470 - val_loss: 0.3686 - val_acc: 0.8390\n",
      "Epoch 22/30\n",
      "18424/18424 - 1s - loss: 0.3542 - acc: 0.8492 - val_loss: 0.3639 - val_acc: 0.8397\n",
      "Epoch 23/30\n",
      "18424/18424 - 1s - loss: 0.3499 - acc: 0.8506 - val_loss: 0.3601 - val_acc: 0.8421\n",
      "Epoch 24/30\n",
      "18424/18424 - 1s - loss: 0.3457 - acc: 0.8523 - val_loss: 0.3573 - val_acc: 0.8450\n",
      "Epoch 25/30\n",
      "18424/18424 - 1s - loss: 0.3421 - acc: 0.8544 - val_loss: 0.3534 - val_acc: 0.8484\n",
      "Epoch 26/30\n",
      "18424/18424 - 1s - loss: 0.3385 - acc: 0.8562 - val_loss: 0.3498 - val_acc: 0.8492\n",
      "Epoch 27/30\n",
      "18424/18424 - 1s - loss: 0.3352 - acc: 0.8589 - val_loss: 0.3468 - val_acc: 0.8514\n",
      "Epoch 28/30\n",
      "18424/18424 - 1s - loss: 0.3321 - acc: 0.8597 - val_loss: 0.3439 - val_acc: 0.8536\n",
      "Epoch 29/30\n",
      "18424/18424 - 1s - loss: 0.3289 - acc: 0.8620 - val_loss: 0.3412 - val_acc: 0.8546\n",
      "Epoch 30/30\n",
      "18424/18424 - 1s - loss: 0.3257 - acc: 0.8649 - val_loss: 0.3382 - val_acc: 0.8551\n"
     ]
    }
   ],
   "source": [
    "history = model.fit(x=[Xcust_train, Xdoc_train], y=y_train_smote, \n",
    "                    validation_data=([Xcust_val, Xdoc_val], y_val_smote),\n",
    "                    epochs=30, verbose=2)"
   ]
  },
  {
   "cell_type": "code",
   "execution_count": 171,
   "metadata": {},
   "outputs": [
    {
     "name": "stdout",
     "output_type": "stream",
     "text": [
      "Fit took 0:00:36 seconds.\n"
     ]
    }
   ],
   "source": [
    "print(f\"Fit took {datetime.timedelta(seconds=int(round(time.time() - t0)))} seconds.\")"
   ]
  },
  {
   "cell_type": "code",
   "execution_count": 172,
   "metadata": {},
   "outputs": [
    {
     "data": {
      "image/png": "[encoded data removed]",
      "text/plain": [
       "<Figure size 432x288 with 1 Axes>"
      ]
     },
     "metadata": {
      "needs_background": "light"
     },
     "output_type": "display_data"
    }
   ],
   "source": [
    "acc = history.history[\"acc\"]\n",
    "val_acc = history.history[\"val_acc\"]\n",
    "loss = history.history[\"loss\"]\n",
    "val_loss = history.history[\"val_loss\"]\n",
    "\n",
    "epochs = range(1, len(acc) + 1)\n",
    "\n",
    "plt.plot(epochs, loss, \"ro\", label=\"Training Loss\")\n",
    "plt.plot(epochs, val_loss, \"b^\", label=\"Validation Loss\")\n",
    "plt.title(\"Training and Validation Loss\")\n",
    "plt.xlabel(\"Epochs\")\n",
    "plt.ylabel(\"Loss\")\n",
    "plt.legend()\n",
    "\n",
    "plt.show()"
   ]
  },
  {
   "cell_type": "markdown",
   "metadata": {},
   "source": [
    "### 평가"
   ]
  },
  {
   "cell_type": "code",
   "execution_count": 173,
   "metadata": {},
   "outputs": [
    {
     "name": "stdout",
     "output_type": "stream",
     "text": [
      "              precision    recall  f1-score   support\n",
      "\n",
      "           0       0.97      0.88      0.92      5641\n",
      "           1       0.37      0.74      0.49       542\n",
      "\n",
      "    accuracy                           0.87      6183\n",
      "   macro avg       0.67      0.81      0.71      6183\n",
      "weighted avg       0.92      0.87      0.89      6183\n",
      "\n",
      "FINAL RESULT\n",
      "6183/6183 [==============================] - 0s 26us/sample - loss: 0.3211 - acc: 0.8666\n",
      "\tscore:\t[0.3211487451601082, 0.86656964]\n",
      "\ttotal f1_score:\t0.4941753525444512\n"
     ]
    },
    {
     "data": {
      "image/png": "[encoded data removed]",
      "text/plain": [
       "<Figure size 432x288 with 2 Axes>"
      ]
     },
     "metadata": {
      "needs_background": "light"
     },
     "output_type": "display_data"
    }
   ],
   "source": [
    "y_pred = model.predict([Xcust_test, Xdoc_test])\n",
    "y_pred = y_pred.round().astype(\"int8\")\n",
    "\n",
    "print(classification_report(y_test, y_pred))\n",
    "print(\"FINAL RESULT\")\n",
    "print(f\"\\tscore:\\t{model.evaluate([Xcust_test, Xdoc_test], y_test)}\")\n",
    "print(f\"\\ttotal f1_score:\\t{f1_score(y_test, y_pred)}\")\n",
    "\n",
    "sns.heatmap(confusion_matrix(y_test, y_pred), annot=True)\n",
    "plt.show()"
   ]
  }
 ],
 "metadata": {
  "kernelspec": {
   "display_name": "Python 3",
   "language": "python",
   "name": "python3"
  },
  "language_info": {
   "codemirror_mode": {
    "name": "ipython",
    "version": 3
   },
   "file_extension": ".py",
   "mimetype": "text/x-python",
   "name": "python",
   "nbconvert_exporter": "python",
   "pygments_lexer": "ipython3",
   "version": "3.7.6"
  }
 },
 "nbformat": 4,
 "nbformat_minor": 4
}
